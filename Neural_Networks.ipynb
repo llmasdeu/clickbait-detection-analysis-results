{
  "cells": [
    {
      "cell_type": "code",
      "execution_count": 1,
      "id": "65624dda",
      "metadata": {
        "id": "65624dda"
      },
      "outputs": [],
      "source": [
        "from utils.utils import get_json_content\n",
        "from utils.learners import execute_a_series_of_multi_layer_perceptron_learnings"
      ]
    },
    {
      "cell_type": "markdown",
      "id": "f713ebd6",
      "metadata": {
        "id": "f713ebd6"
      },
      "source": [
        "# Neural Networks Training"
      ]
    },
    {
      "cell_type": "markdown",
      "id": "7ed89c78",
      "metadata": {
        "id": "7ed89c78"
      },
      "source": [
        "## File: 'headlines_001.json'"
      ]
    },
    {
      "cell_type": "markdown",
      "id": "0876c6ae",
      "metadata": {
        "id": "0876c6ae"
      },
      "source": [
        "Reads the data."
      ]
    },
    {
      "cell_type": "code",
      "execution_count": 2,
      "id": "30664769",
      "metadata": {
        "colab": {
          "base_uri": "https://localhost:8080/"
        },
        "id": "30664769",
        "outputId": "48ed918e-4605-4481-d773-ccf973407088"
      },
      "outputs": [
        {
          "output_type": "stream",
          "name": "stdout",
          "text": [
            "LENGTH - headline: 1000; is_clickbait: 1000\n"
          ]
        }
      ],
      "source": [
        "# Reads the data from the file\n",
        "X, Y = get_json_content(i=0)\n",
        "\n",
        "# Prints the dataset size\n",
        "print(f\"LENGTH - headline: {len(X)}; is_clickbait: {len(Y)}\")"
      ]
    },
    {
      "cell_type": "markdown",
      "id": "1e2b2e64",
      "metadata": {
        "id": "1e2b2e64"
      },
      "source": [
        "Executes a series of learnings."
      ]
    },
    {
      "cell_type": "code",
      "execution_count": 3,
      "id": "ee427c97",
      "metadata": {
        "scrolled": false,
        "colab": {
          "base_uri": "https://localhost:8080/",
          "height": 1000
        },
        "id": "ee427c97",
        "outputId": "5b621f37-d72a-4840-9594-925f7bac9f2e"
      },
      "outputs": [
        {
          "output_type": "stream",
          "name": "stdout",
          "text": [
            "\t--------------- TRAIN-TEST SPLIT ---------------\n",
            "\n",
            "- test_size: 0.3\n",
            "\n",
            "\t\t=============== BoW ===============\n",
            "\n",
            "[#1]\n",
            "\n",
            "* Parameters:\n",
            "\n",
            "- Model: Multi-layer Perceptron\n",
            "- activation: relu\n",
            "- alpha: 0.0001\n",
            "- batch_size: auto\n",
            "- beta_1: 0.9\n",
            "- beta_2: 0.999\n",
            "- early_stopping: False\n",
            "- epsilon: 1e-08\n",
            "- hidden_layer_sizes: (100,)\n",
            "- learning_rate: constant\n",
            "- learning_rate_init: 0.001\n",
            "- max_fun: 15000\n",
            "- max_iter: 200\n",
            "- momentum: 0.9\n",
            "- n_iter_no_change: 10\n",
            "- nesterovs_momentum: True\n",
            "- power_t: 0.5\n",
            "- random_state: None\n",
            "- shuffle: True\n",
            "- solver: adam\n",
            "- tol: 0.0001\n",
            "- validation_fraction: 0.1\n",
            "- verbose: False\n",
            "- warm_start: False\n",
            "\n",
            "Accuracy: 72.66666666666667 %\n",
            "\n",
            "Average precision score: 65.58980855855856 %\n",
            "\n",
            "Average recall score: 76.35135135135135 %\n",
            "\n",
            "Average F1-score: 73.37662337662339 %\n",
            "\n",
            "Matthews correlation coefficient: 0.4552754527854117\n",
            "\n",
            "Mean absolute error: 0.2733333333333333\n",
            "\n",
            "Confusion matrix:\n",
            "\n"
          ]
        },
        {
          "output_type": "display_data",
          "data": {
            "text/plain": [
              "<Figure size 432x288 with 2 Axes>"
            ],
            "image/png": "[encoded data removed]"
          },
          "metadata": {
            "needs_background": "light"
          }
        },
        {
          "output_type": "stream",
          "name": "stdout",
          "text": [
            "\n",
            "Classification report:\n",
            "\n",
            "              precision    recall  f1-score   support\n",
            "\n",
            "           0       0.75      0.69      0.72       152\n",
            "           1       0.71      0.76      0.73       148\n",
            "\n",
            "    accuracy                           0.73       300\n",
            "   macro avg       0.73      0.73      0.73       300\n",
            "weighted avg       0.73      0.73      0.73       300\n",
            "\n",
            "\n",
            "\n",
            "\t\t=============== Tf-idf ===============\n",
            "\n"
          ]
        },
        {
          "output_type": "stream",
          "name": "stderr",
          "text": [
            "/usr/local/lib/python3.7/dist-packages/sklearn/neural_network/_multilayer_perceptron.py:696: ConvergenceWarning: Stochastic Optimizer: Maximum iterations (200) reached and the optimization hasn't converged yet.\n",
            "  ConvergenceWarning,\n"
          ]
        },
        {
          "output_type": "stream",
          "name": "stdout",
          "text": [
            "[#1]\n",
            "\n",
            "* Parameters:\n",
            "\n",
            "- Model: Multi-layer Perceptron\n",
            "- activation: logistic\n",
            "- alpha: 0.0001\n",
            "- batch_size: auto\n",
            "- beta_1: 0.9\n",
            "- beta_2: 0.999\n",
            "- early_stopping: False\n",
            "- epsilon: 1e-08\n",
            "- hidden_layer_sizes: (100,)\n",
            "- learning_rate: constant\n",
            "- learning_rate_init: 0.001\n",
            "- max_fun: 15000\n",
            "- max_iter: 200\n",
            "- momentum: 0.9\n",
            "- n_iter_no_change: 10\n",
            "- nesterovs_momentum: True\n",
            "- power_t: 0.5\n",
            "- random_state: None\n",
            "- shuffle: True\n",
            "- solver: adam\n",
            "- tol: 0.0001\n",
            "- validation_fraction: 0.1\n",
            "- verbose: False\n",
            "- warm_start: False\n",
            "\n",
            "Accuracy: 76.33333333333333 %\n",
            "\n",
            "Average precision score: 69.48618817492988 %\n",
            "\n",
            "Average recall score: 77.02702702702703 %\n",
            "\n",
            "Average F1-score: 76.25418060200668 %\n",
            "\n",
            "Matthews correlation coefficient: 0.5268140916254531\n",
            "\n",
            "Mean absolute error: 0.23666666666666666\n",
            "\n",
            "Confusion matrix:\n",
            "\n"
          ]
        },
        {
          "output_type": "display_data",
          "data": {
            "text/plain": [
              "<Figure size 432x288 with 2 Axes>"
            ],
            "image/png": "[encoded data removed]"
          },
          "metadata": {
            "needs_background": "light"
          }
        },
        {
          "output_type": "stream",
          "name": "stdout",
          "text": [
            "\n",
            "Classification report:\n",
            "\n",
            "              precision    recall  f1-score   support\n",
            "\n",
            "           0       0.77      0.76      0.76       152\n",
            "           1       0.75      0.77      0.76       148\n",
            "\n",
            "    accuracy                           0.76       300\n",
            "   macro avg       0.76      0.76      0.76       300\n",
            "weighted avg       0.76      0.76      0.76       300\n",
            "\n",
            "\n",
            "\n",
            "\t\t=============== Word2Vec ===============\n",
            "\n"
          ]
        },
        {
          "output_type": "stream",
          "name": "stderr",
          "text": [
            "/usr/local/lib/python3.7/dist-packages/sklearn/neural_network/_multilayer_perceptron.py:696: ConvergenceWarning: Stochastic Optimizer: Maximum iterations (200) reached and the optimization hasn't converged yet.\n",
            "  ConvergenceWarning,\n",
            "/usr/local/lib/python3.7/dist-packages/sklearn/metrics/_classification.py:1318: UndefinedMetricWarning: Precision and F-score are ill-defined and being set to 0.0 in labels with no predicted samples. Use `zero_division` parameter to control this behavior.\n",
            "  _warn_prf(average, modifier, msg_start, len(result))\n",
            "/usr/local/lib/python3.7/dist-packages/sklearn/metrics/_classification.py:1318: UndefinedMetricWarning: Precision and F-score are ill-defined and being set to 0.0 in labels with no predicted samples. Use `zero_division` parameter to control this behavior.\n",
            "  _warn_prf(average, modifier, msg_start, len(result))\n",
            "/usr/local/lib/python3.7/dist-packages/sklearn/metrics/_classification.py:1318: UndefinedMetricWarning: Precision and F-score are ill-defined and being set to 0.0 in labels with no predicted samples. Use `zero_division` parameter to control this behavior.\n",
            "  _warn_prf(average, modifier, msg_start, len(result))\n",
            "/usr/local/lib/python3.7/dist-packages/sklearn/neural_network/_multilayer_perceptron.py:696: ConvergenceWarning: Stochastic Optimizer: Maximum iterations (200) reached and the optimization hasn't converged yet.\n",
            "  ConvergenceWarning,\n",
            "/usr/local/lib/python3.7/dist-packages/sklearn/metrics/_classification.py:1318: UndefinedMetricWarning: Precision and F-score are ill-defined and being set to 0.0 in labels with no predicted samples. Use `zero_division` parameter to control this behavior.\n",
            "  _warn_prf(average, modifier, msg_start, len(result))\n",
            "/usr/local/lib/python3.7/dist-packages/sklearn/metrics/_classification.py:1318: UndefinedMetricWarning: Precision and F-score are ill-defined and being set to 0.0 in labels with no predicted samples. Use `zero_division` parameter to control this behavior.\n",
            "  _warn_prf(average, modifier, msg_start, len(result))\n",
            "/usr/local/lib/python3.7/dist-packages/sklearn/metrics/_classification.py:1318: UndefinedMetricWarning: Precision and F-score are ill-defined and being set to 0.0 in labels with no predicted samples. Use `zero_division` parameter to control this behavior.\n",
            "  _warn_prf(average, modifier, msg_start, len(result))\n",
            "/usr/local/lib/python3.7/dist-packages/sklearn/metrics/_classification.py:1318: UndefinedMetricWarning: Precision and F-score are ill-defined and being set to 0.0 in labels with no predicted samples. Use `zero_division` parameter to control this behavior.\n",
            "  _warn_prf(average, modifier, msg_start, len(result))\n",
            "/usr/local/lib/python3.7/dist-packages/sklearn/metrics/_classification.py:1318: UndefinedMetricWarning: Precision and F-score are ill-defined and being set to 0.0 in labels with no predicted samples. Use `zero_division` parameter to control this behavior.\n",
            "  _warn_prf(average, modifier, msg_start, len(result))\n",
            "/usr/local/lib/python3.7/dist-packages/sklearn/metrics/_classification.py:1318: UndefinedMetricWarning: Precision and F-score are ill-defined and being set to 0.0 in labels with no predicted samples. Use `zero_division` parameter to control this behavior.\n",
            "  _warn_prf(average, modifier, msg_start, len(result))\n",
            "/usr/local/lib/python3.7/dist-packages/sklearn/neural_network/_multilayer_perceptron.py:696: ConvergenceWarning: Stochastic Optimizer: Maximum iterations (200) reached and the optimization hasn't converged yet.\n",
            "  ConvergenceWarning,\n",
            "/usr/local/lib/python3.7/dist-packages/sklearn/metrics/_classification.py:1318: UndefinedMetricWarning: Precision and F-score are ill-defined and being set to 0.0 in labels with no predicted samples. Use `zero_division` parameter to control this behavior.\n",
            "  _warn_prf(average, modifier, msg_start, len(result))\n",
            "/usr/local/lib/python3.7/dist-packages/sklearn/metrics/_classification.py:1318: UndefinedMetricWarning: Precision and F-score are ill-defined and being set to 0.0 in labels with no predicted samples. Use `zero_division` parameter to control this behavior.\n",
            "  _warn_prf(average, modifier, msg_start, len(result))\n",
            "/usr/local/lib/python3.7/dist-packages/sklearn/metrics/_classification.py:1318: UndefinedMetricWarning: Precision and F-score are ill-defined and being set to 0.0 in labels with no predicted samples. Use `zero_division` parameter to control this behavior.\n",
            "  _warn_prf(average, modifier, msg_start, len(result))\n"
          ]
        },
        {
          "output_type": "stream",
          "name": "stdout",
          "text": [
            "[#1]\n",
            "\n",
            "* Parameters:\n",
            "\n",
            "- Model: Multi-layer Perceptron\n",
            "- activation: relu\n",
            "- alpha: 0.0001\n",
            "- batch_size: auto\n",
            "- beta_1: 0.9\n",
            "- beta_2: 0.999\n",
            "- early_stopping: False\n",
            "- epsilon: 1e-08\n",
            "- hidden_layer_sizes: (100,)\n",
            "- learning_rate: constant\n",
            "- learning_rate_init: 0.001\n",
            "- max_fun: 15000\n",
            "- max_iter: 200\n",
            "- momentum: 0.9\n",
            "- n_iter_no_change: 10\n",
            "- nesterovs_momentum: True\n",
            "- power_t: 0.5\n",
            "- random_state: None\n",
            "- shuffle: True\n",
            "- solver: adam\n",
            "- tol: 0.0001\n",
            "- validation_fraction: 0.1\n",
            "- verbose: False\n",
            "- warm_start: False\n",
            "\n",
            "Accuracy: 49.333333333333336 %\n",
            "\n",
            "Average precision score: 49.333333333333336 %\n",
            "\n",
            "Average recall score: 100.0 %\n",
            "\n",
            "Average F1-score: 66.07142857142857 %\n",
            "\n",
            "Matthews correlation coefficient: 0.0\n",
            "\n",
            "Mean absolute error: 0.5066666666666667\n",
            "\n",
            "Confusion matrix:\n",
            "\n"
          ]
        },
        {
          "output_type": "display_data",
          "data": {
            "text/plain": [
              "<Figure size 432x288 with 2 Axes>"
            ],
            "image/png": "[encoded data removed]"
          },
          "metadata": {
            "needs_background": "light"
          }
        },
        {
          "output_type": "stream",
          "name": "stdout",
          "text": [
            "\n",
            "Classification report:\n",
            "\n",
            "              precision    recall  f1-score   support\n",
            "\n",
            "           0       0.00      0.00      0.00       152\n",
            "           1       0.49      1.00      0.66       148\n",
            "\n",
            "    accuracy                           0.49       300\n",
            "   macro avg       0.25      0.50      0.33       300\n",
            "weighted avg       0.24      0.49      0.33       300\n",
            "\n",
            "\n",
            "\t--------------- K-FOLD ---------------\n",
            "\n",
            "- n_folds: 10\n",
            "\n",
            "\t\t=============== BoW ===============\n",
            "\n",
            "[#1]\n",
            "\n",
            "* Parameters:\n",
            "\n",
            "- Model: Multi-layer Perceptron\n",
            "- activation: relu\n",
            "- alpha: 0.0001\n",
            "- batch_size: auto\n",
            "- beta_1: 0.9\n",
            "- beta_2: 0.999\n",
            "- early_stopping: False\n",
            "- epsilon: 1e-08\n",
            "- hidden_layer_sizes: (100,)\n",
            "- learning_rate: constant\n",
            "- learning_rate_init: 0.001\n",
            "- max_fun: 15000\n",
            "- max_iter: 200\n",
            "- momentum: 0.9\n",
            "- n_iter_no_change: 10\n",
            "- nesterovs_momentum: True\n",
            "- power_t: 0.5\n",
            "- random_state: None\n",
            "- shuffle: True\n",
            "- solver: adam\n",
            "- tol: 0.0001\n",
            "- validation_fraction: 0.1\n",
            "- verbose: False\n",
            "- warm_start: False\n",
            "\n",
            "Accuracy: 78.0 %\n",
            "\n",
            "Average precision score: 71.77777777777779 %\n",
            "\n",
            "Average recall score: 78.4 %\n",
            "\n",
            "Average F1-score: 78.08764940239044 %\n",
            "\n",
            "Matthews correlation coefficient: 0.5600179208602059\n",
            "\n",
            "Mean absolute error: 0.22\n",
            "\n",
            "Confusion matrix:\n",
            "\n"
          ]
        },
        {
          "output_type": "display_data",
          "data": {
            "text/plain": [
              "<Figure size 432x288 with 2 Axes>"
            ],
            "image/png": "[encoded data removed]"
          },
          "metadata": {
            "needs_background": "light"
          }
        },
        {
          "output_type": "stream",
          "name": "stdout",
          "text": [
            "\n",
            "Classification report:\n",
            "\n",
            "              precision    recall  f1-score   support\n",
            "\n",
            "           0       0.78      0.78      0.78       500\n",
            "           1       0.78      0.78      0.78       500\n",
            "\n",
            "    accuracy                           0.78      1000\n",
            "   macro avg       0.78      0.78      0.78      1000\n",
            "weighted avg       0.78      0.78      0.78      1000\n",
            "\n",
            "\n",
            "[#2]\n",
            "\n",
            "* Parameters:\n",
            "\n",
            "- Model: Multi-layer Perceptron\n",
            "- activation: logistic\n",
            "- alpha: 0.0001\n",
            "- batch_size: auto\n",
            "- beta_1: 0.9\n",
            "- beta_2: 0.999\n",
            "- early_stopping: False\n",
            "- epsilon: 1e-08\n",
            "- hidden_layer_sizes: (100,)\n",
            "- learning_rate: constant\n",
            "- learning_rate_init: 0.001\n",
            "- max_fun: 15000\n",
            "- max_iter: 200\n",
            "- momentum: 0.9\n",
            "- n_iter_no_change: 10\n",
            "- nesterovs_momentum: True\n",
            "- power_t: 0.5\n",
            "- random_state: None\n",
            "- shuffle: True\n",
            "- solver: adam\n",
            "- tol: 0.0001\n",
            "- validation_fraction: 0.1\n",
            "- verbose: False\n",
            "- warm_start: False\n",
            "\n",
            "Accuracy: 78.0 %\n",
            "\n",
            "Average precision score: 71.90322580645162 %\n",
            "\n",
            "Average recall score: 77.60000000000001 %\n",
            "\n",
            "Average F1-score: 77.91164658634537 %\n",
            "\n",
            "Matthews correlation coefficient: 0.5600179208602059\n",
            "\n",
            "Mean absolute error: 0.22\n",
            "\n",
            "Confusion matrix:\n",
            "\n"
          ]
        },
        {
          "output_type": "display_data",
          "data": {
            "text/plain": [
              "<Figure size 432x288 with 2 Axes>"
            ],
            "image/png": "[encoded data removed]"
          },
          "metadata": {
            "needs_background": "light"
          }
        },
        {
          "output_type": "stream",
          "name": "stdout",
          "text": [
            "\n",
            "Classification report:\n",
            "\n",
            "              precision    recall  f1-score   support\n",
            "\n",
            "           0       0.78      0.78      0.78       500\n",
            "           1       0.78      0.78      0.78       500\n",
            "\n",
            "    accuracy                           0.78      1000\n",
            "   macro avg       0.78      0.78      0.78      1000\n",
            "weighted avg       0.78      0.78      0.78      1000\n",
            "\n",
            "\n",
            "\n",
            "\t\t=============== Tf-idf ===============\n",
            "\n"
          ]
        },
        {
          "output_type": "stream",
          "name": "stderr",
          "text": [
            "/usr/local/lib/python3.7/dist-packages/sklearn/neural_network/_multilayer_perceptron.py:696: ConvergenceWarning: Stochastic Optimizer: Maximum iterations (200) reached and the optimization hasn't converged yet.\n",
            "  ConvergenceWarning,\n",
            "/usr/local/lib/python3.7/dist-packages/sklearn/neural_network/_multilayer_perceptron.py:696: ConvergenceWarning: Stochastic Optimizer: Maximum iterations (200) reached and the optimization hasn't converged yet.\n",
            "  ConvergenceWarning,\n",
            "/usr/local/lib/python3.7/dist-packages/sklearn/neural_network/_multilayer_perceptron.py:696: ConvergenceWarning: Stochastic Optimizer: Maximum iterations (200) reached and the optimization hasn't converged yet.\n",
            "  ConvergenceWarning,\n",
            "/usr/local/lib/python3.7/dist-packages/sklearn/neural_network/_multilayer_perceptron.py:696: ConvergenceWarning: Stochastic Optimizer: Maximum iterations (200) reached and the optimization hasn't converged yet.\n",
            "  ConvergenceWarning,\n",
            "/usr/local/lib/python3.7/dist-packages/sklearn/neural_network/_multilayer_perceptron.py:696: ConvergenceWarning: Stochastic Optimizer: Maximum iterations (200) reached and the optimization hasn't converged yet.\n",
            "  ConvergenceWarning,\n",
            "/usr/local/lib/python3.7/dist-packages/sklearn/neural_network/_multilayer_perceptron.py:696: ConvergenceWarning: Stochastic Optimizer: Maximum iterations (200) reached and the optimization hasn't converged yet.\n",
            "  ConvergenceWarning,\n",
            "/usr/local/lib/python3.7/dist-packages/sklearn/neural_network/_multilayer_perceptron.py:696: ConvergenceWarning: Stochastic Optimizer: Maximum iterations (200) reached and the optimization hasn't converged yet.\n",
            "  ConvergenceWarning,\n",
            "/usr/local/lib/python3.7/dist-packages/sklearn/neural_network/_multilayer_perceptron.py:696: ConvergenceWarning: Stochastic Optimizer: Maximum iterations (200) reached and the optimization hasn't converged yet.\n",
            "  ConvergenceWarning,\n",
            "/usr/local/lib/python3.7/dist-packages/sklearn/neural_network/_multilayer_perceptron.py:696: ConvergenceWarning: Stochastic Optimizer: Maximum iterations (200) reached and the optimization hasn't converged yet.\n",
            "  ConvergenceWarning,\n",
            "/usr/local/lib/python3.7/dist-packages/sklearn/neural_network/_multilayer_perceptron.py:696: ConvergenceWarning: Stochastic Optimizer: Maximum iterations (200) reached and the optimization hasn't converged yet.\n",
            "  ConvergenceWarning,\n"
          ]
        },
        {
          "output_type": "stream",
          "name": "stdout",
          "text": [
            "[#1]\n",
            "\n",
            "* Parameters:\n",
            "\n",
            "- Model: Multi-layer Perceptron\n",
            "- activation: logistic\n",
            "- alpha: 0.0001\n",
            "- batch_size: auto\n",
            "- beta_1: 0.9\n",
            "- beta_2: 0.999\n",
            "- early_stopping: False\n",
            "- epsilon: 1e-08\n",
            "- hidden_layer_sizes: (100,)\n",
            "- learning_rate: constant\n",
            "- learning_rate_init: 0.001\n",
            "- max_fun: 15000\n",
            "- max_iter: 200\n",
            "- momentum: 0.9\n",
            "- n_iter_no_change: 10\n",
            "- nesterovs_momentum: True\n",
            "- power_t: 0.5\n",
            "- random_state: None\n",
            "- shuffle: True\n",
            "- solver: adam\n",
            "- tol: 0.0001\n",
            "- validation_fraction: 0.1\n",
            "- verbose: False\n",
            "- warm_start: False\n",
            "\n",
            "Accuracy: 77.10000000000001 %\n",
            "\n",
            "Average precision score: 70.79270216962526 %\n",
            "\n",
            "Average recall score: 77.8 %\n",
            "\n",
            "Average F1-score: 77.25918570009931 %\n",
            "\n",
            "Matthews correlation coefficient: 0.5420531238093276\n",
            "\n",
            "Mean absolute error: 0.229\n",
            "\n",
            "Confusion matrix:\n",
            "\n"
          ]
        },
        {
          "output_type": "display_data",
          "data": {
            "text/plain": [
              "<Figure size 432x288 with 2 Axes>"
            ],
            "image/png": "[encoded data removed]"
          },
          "metadata": {
            "needs_background": "light"
          }
        },
        {
          "output_type": "stream",
          "name": "stdout",
          "text": [
            "\n",
            "Classification report:\n",
            "\n",
            "              precision    recall  f1-score   support\n",
            "\n",
            "           0       0.77      0.76      0.77       500\n",
            "           1       0.77      0.78      0.77       500\n",
            "\n",
            "    accuracy                           0.77      1000\n",
            "   macro avg       0.77      0.77      0.77      1000\n",
            "weighted avg       0.77      0.77      0.77      1000\n",
            "\n",
            "\n",
            "[#2]\n",
            "\n",
            "* Parameters:\n",
            "\n",
            "- Model: Multi-layer Perceptron\n",
            "- activation: relu\n",
            "- alpha: 0.0001\n",
            "- batch_size: auto\n",
            "- beta_1: 0.9\n",
            "- beta_2: 0.999\n",
            "- early_stopping: False\n",
            "- epsilon: 1e-08\n",
            "- hidden_layer_sizes: (100,)\n",
            "- learning_rate: constant\n",
            "- learning_rate_init: 0.001\n",
            "- max_fun: 15000\n",
            "- max_iter: 200\n",
            "- momentum: 0.9\n",
            "- n_iter_no_change: 10\n",
            "- nesterovs_momentum: True\n",
            "- power_t: 0.5\n",
            "- random_state: None\n",
            "- shuffle: True\n",
            "- solver: adam\n",
            "- tol: 0.0001\n",
            "- validation_fraction: 0.1\n",
            "- verbose: False\n",
            "- warm_start: False\n",
            "\n",
            "Accuracy: 77.0 %\n",
            "\n",
            "Average precision score: 70.81927710843374 %\n",
            "\n",
            "Average recall score: 76.8 %\n",
            "\n",
            "Average F1-score: 76.95390781563127 %\n",
            "\n",
            "Matthews correlation coefficient: 0.5400043200518407\n",
            "\n",
            "Mean absolute error: 0.23\n",
            "\n",
            "Confusion matrix:\n",
            "\n"
          ]
        },
        {
          "output_type": "display_data",
          "data": {
            "text/plain": [
              "<Figure size 432x288 with 2 Axes>"
            ],
            "image/png": "[encoded data removed]"
          },
          "metadata": {
            "needs_background": "light"
          }
        },
        {
          "output_type": "stream",
          "name": "stdout",
          "text": [
            "\n",
            "Classification report:\n",
            "\n",
            "              precision    recall  f1-score   support\n",
            "\n",
            "           0       0.77      0.77      0.77       500\n",
            "           1       0.77      0.77      0.77       500\n",
            "\n",
            "    accuracy                           0.77      1000\n",
            "   macro avg       0.77      0.77      0.77      1000\n",
            "weighted avg       0.77      0.77      0.77      1000\n",
            "\n",
            "\n",
            "[#3]\n",
            "\n",
            "* Parameters:\n",
            "\n",
            "- Model: Multi-layer Perceptron\n",
            "- activation: identity\n",
            "- alpha: 0.0001\n",
            "- batch_size: auto\n",
            "- beta_1: 0.9\n",
            "- beta_2: 0.999\n",
            "- early_stopping: False\n",
            "- epsilon: 1e-08\n",
            "- hidden_layer_sizes: (100,)\n",
            "- learning_rate: constant\n",
            "- learning_rate_init: 0.001\n",
            "- max_fun: 15000\n",
            "- max_iter: 200\n",
            "- momentum: 0.9\n",
            "- n_iter_no_change: 10\n",
            "- nesterovs_momentum: True\n",
            "- power_t: 0.5\n",
            "- random_state: None\n",
            "- shuffle: True\n",
            "- solver: adam\n",
            "- tol: 0.0001\n",
            "- validation_fraction: 0.1\n",
            "- verbose: False\n",
            "- warm_start: False\n",
            "\n",
            "Accuracy: 76.9 %\n",
            "\n",
            "Average precision score: 70.55815324165029 %\n",
            "\n",
            "Average recall score: 77.8 %\n",
            "\n",
            "Average F1-score: 77.10604558969277 %\n",
            "\n",
            "Matthews correlation coefficient: 0.538087177184628\n",
            "\n",
            "Mean absolute error: 0.231\n",
            "\n",
            "Confusion matrix:\n",
            "\n"
          ]
        },
        {
          "output_type": "display_data",
          "data": {
            "text/plain": [
              "<Figure size 432x288 with 2 Axes>"
            ],
            "image/png": "[encoded data removed]"
          },
          "metadata": {
            "needs_background": "light"
          }
        },
        {
          "output_type": "stream",
          "name": "stdout",
          "text": [
            "\n",
            "Classification report:\n",
            "\n",
            "              precision    recall  f1-score   support\n",
            "\n",
            "           0       0.77      0.76      0.77       500\n",
            "           1       0.76      0.78      0.77       500\n",
            "\n",
            "    accuracy                           0.77      1000\n",
            "   macro avg       0.77      0.77      0.77      1000\n",
            "weighted avg       0.77      0.77      0.77      1000\n",
            "\n",
            "\n",
            "\n",
            "\t\t=============== Word2Vec ===============\n",
            "\n"
          ]
        },
        {
          "output_type": "stream",
          "name": "stderr",
          "text": [
            "/usr/local/lib/python3.7/dist-packages/sklearn/neural_network/_multilayer_perceptron.py:696: ConvergenceWarning: Stochastic Optimizer: Maximum iterations (200) reached and the optimization hasn't converged yet.\n",
            "  ConvergenceWarning,\n",
            "/usr/local/lib/python3.7/dist-packages/sklearn/neural_network/_multilayer_perceptron.py:696: ConvergenceWarning: Stochastic Optimizer: Maximum iterations (200) reached and the optimization hasn't converged yet.\n",
            "  ConvergenceWarning,\n",
            "/usr/local/lib/python3.7/dist-packages/sklearn/neural_network/_multilayer_perceptron.py:696: ConvergenceWarning: Stochastic Optimizer: Maximum iterations (200) reached and the optimization hasn't converged yet.\n",
            "  ConvergenceWarning,\n",
            "/usr/local/lib/python3.7/dist-packages/sklearn/neural_network/_multilayer_perceptron.py:696: ConvergenceWarning: Stochastic Optimizer: Maximum iterations (200) reached and the optimization hasn't converged yet.\n",
            "  ConvergenceWarning,\n",
            "/usr/local/lib/python3.7/dist-packages/sklearn/neural_network/_multilayer_perceptron.py:696: ConvergenceWarning: Stochastic Optimizer: Maximum iterations (200) reached and the optimization hasn't converged yet.\n",
            "  ConvergenceWarning,\n",
            "/usr/local/lib/python3.7/dist-packages/sklearn/neural_network/_multilayer_perceptron.py:696: ConvergenceWarning: Stochastic Optimizer: Maximum iterations (200) reached and the optimization hasn't converged yet.\n",
            "  ConvergenceWarning,\n",
            "/usr/local/lib/python3.7/dist-packages/sklearn/neural_network/_multilayer_perceptron.py:696: ConvergenceWarning: Stochastic Optimizer: Maximum iterations (200) reached and the optimization hasn't converged yet.\n",
            "  ConvergenceWarning,\n",
            "/usr/local/lib/python3.7/dist-packages/sklearn/neural_network/_multilayer_perceptron.py:696: ConvergenceWarning: Stochastic Optimizer: Maximum iterations (200) reached and the optimization hasn't converged yet.\n",
            "  ConvergenceWarning,\n",
            "/usr/local/lib/python3.7/dist-packages/sklearn/neural_network/_multilayer_perceptron.py:696: ConvergenceWarning: Stochastic Optimizer: Maximum iterations (200) reached and the optimization hasn't converged yet.\n",
            "  ConvergenceWarning,\n",
            "/usr/local/lib/python3.7/dist-packages/sklearn/neural_network/_multilayer_perceptron.py:696: ConvergenceWarning: Stochastic Optimizer: Maximum iterations (200) reached and the optimization hasn't converged yet.\n",
            "  ConvergenceWarning,\n",
            "/usr/local/lib/python3.7/dist-packages/sklearn/neural_network/_multilayer_perceptron.py:696: ConvergenceWarning: Stochastic Optimizer: Maximum iterations (200) reached and the optimization hasn't converged yet.\n",
            "  ConvergenceWarning,\n",
            "/usr/local/lib/python3.7/dist-packages/sklearn/neural_network/_multilayer_perceptron.py:696: ConvergenceWarning: Stochastic Optimizer: Maximum iterations (200) reached and the optimization hasn't converged yet.\n",
            "  ConvergenceWarning,\n",
            "/usr/local/lib/python3.7/dist-packages/sklearn/neural_network/_multilayer_perceptron.py:696: ConvergenceWarning: Stochastic Optimizer: Maximum iterations (200) reached and the optimization hasn't converged yet.\n",
            "  ConvergenceWarning,\n",
            "/usr/local/lib/python3.7/dist-packages/sklearn/neural_network/_multilayer_perceptron.py:696: ConvergenceWarning: Stochastic Optimizer: Maximum iterations (200) reached and the optimization hasn't converged yet.\n",
            "  ConvergenceWarning,\n",
            "/usr/local/lib/python3.7/dist-packages/sklearn/neural_network/_multilayer_perceptron.py:696: ConvergenceWarning: Stochastic Optimizer: Maximum iterations (200) reached and the optimization hasn't converged yet.\n",
            "  ConvergenceWarning,\n",
            "/usr/local/lib/python3.7/dist-packages/sklearn/neural_network/_multilayer_perceptron.py:696: ConvergenceWarning: Stochastic Optimizer: Maximum iterations (200) reached and the optimization hasn't converged yet.\n",
            "  ConvergenceWarning,\n",
            "/usr/local/lib/python3.7/dist-packages/sklearn/neural_network/_multilayer_perceptron.py:696: ConvergenceWarning: Stochastic Optimizer: Maximum iterations (200) reached and the optimization hasn't converged yet.\n",
            "  ConvergenceWarning,\n",
            "/usr/local/lib/python3.7/dist-packages/sklearn/neural_network/_multilayer_perceptron.py:696: ConvergenceWarning: Stochastic Optimizer: Maximum iterations (200) reached and the optimization hasn't converged yet.\n",
            "  ConvergenceWarning,\n",
            "/usr/local/lib/python3.7/dist-packages/sklearn/neural_network/_multilayer_perceptron.py:696: ConvergenceWarning: Stochastic Optimizer: Maximum iterations (200) reached and the optimization hasn't converged yet.\n",
            "  ConvergenceWarning,\n",
            "/usr/local/lib/python3.7/dist-packages/sklearn/neural_network/_multilayer_perceptron.py:696: ConvergenceWarning: Stochastic Optimizer: Maximum iterations (200) reached and the optimization hasn't converged yet.\n",
            "  ConvergenceWarning,\n",
            "/usr/local/lib/python3.7/dist-packages/sklearn/neural_network/_multilayer_perceptron.py:696: ConvergenceWarning: Stochastic Optimizer: Maximum iterations (200) reached and the optimization hasn't converged yet.\n",
            "  ConvergenceWarning,\n",
            "/usr/local/lib/python3.7/dist-packages/sklearn/neural_network/_multilayer_perceptron.py:696: ConvergenceWarning: Stochastic Optimizer: Maximum iterations (200) reached and the optimization hasn't converged yet.\n",
            "  ConvergenceWarning,\n",
            "/usr/local/lib/python3.7/dist-packages/sklearn/neural_network/_multilayer_perceptron.py:696: ConvergenceWarning: Stochastic Optimizer: Maximum iterations (200) reached and the optimization hasn't converged yet.\n",
            "  ConvergenceWarning,\n",
            "/usr/local/lib/python3.7/dist-packages/sklearn/neural_network/_multilayer_perceptron.py:696: ConvergenceWarning: Stochastic Optimizer: Maximum iterations (200) reached and the optimization hasn't converged yet.\n",
            "  ConvergenceWarning,\n",
            "/usr/local/lib/python3.7/dist-packages/sklearn/neural_network/_multilayer_perceptron.py:696: ConvergenceWarning: Stochastic Optimizer: Maximum iterations (200) reached and the optimization hasn't converged yet.\n",
            "  ConvergenceWarning,\n",
            "/usr/local/lib/python3.7/dist-packages/sklearn/neural_network/_multilayer_perceptron.py:696: ConvergenceWarning: Stochastic Optimizer: Maximum iterations (200) reached and the optimization hasn't converged yet.\n",
            "  ConvergenceWarning,\n",
            "/usr/local/lib/python3.7/dist-packages/sklearn/neural_network/_multilayer_perceptron.py:696: ConvergenceWarning: Stochastic Optimizer: Maximum iterations (200) reached and the optimization hasn't converged yet.\n",
            "  ConvergenceWarning,\n",
            "/usr/local/lib/python3.7/dist-packages/sklearn/neural_network/_multilayer_perceptron.py:696: ConvergenceWarning: Stochastic Optimizer: Maximum iterations (200) reached and the optimization hasn't converged yet.\n",
            "  ConvergenceWarning,\n",
            "/usr/local/lib/python3.7/dist-packages/sklearn/neural_network/_multilayer_perceptron.py:696: ConvergenceWarning: Stochastic Optimizer: Maximum iterations (200) reached and the optimization hasn't converged yet.\n",
            "  ConvergenceWarning,\n"
          ]
        },
        {
          "output_type": "stream",
          "name": "stdout",
          "text": [
            "[#1]\n",
            "\n",
            "* Parameters:\n",
            "\n",
            "- Model: Multi-layer Perceptron\n",
            "- activation: relu\n",
            "- alpha: 0.0001\n",
            "- batch_size: auto\n",
            "- beta_1: 0.9\n",
            "- beta_2: 0.999\n",
            "- early_stopping: False\n",
            "- epsilon: 1e-08\n",
            "- hidden_layer_sizes: (100,)\n",
            "- learning_rate: constant\n",
            "- learning_rate_init: 0.001\n",
            "- max_fun: 15000\n",
            "- max_iter: 200\n",
            "- momentum: 0.9\n",
            "- n_iter_no_change: 10\n",
            "- nesterovs_momentum: True\n",
            "- power_t: 0.5\n",
            "- random_state: None\n",
            "- shuffle: True\n",
            "- solver: adam\n",
            "- tol: 0.0001\n",
            "- validation_fraction: 0.1\n",
            "- verbose: False\n",
            "- warm_start: False\n",
            "\n",
            "Accuracy: 63.4 %\n",
            "\n",
            "Average precision score: 58.53975409836065 %\n",
            "\n",
            "Average recall score: 62.2 %\n",
            "\n",
            "Average F1-score: 62.955465587044536 %\n",
            "\n",
            "Matthews correlation coefficient: 0.26807721735950096\n",
            "\n",
            "Mean absolute error: 0.366\n",
            "\n",
            "Confusion matrix:\n",
            "\n"
          ]
        },
        {
          "output_type": "display_data",
          "data": {
            "text/plain": [
              "<Figure size 432x288 with 2 Axes>"
            ],
            "image/png": "[encoded data removed]"
          },
          "metadata": {
            "needs_background": "light"
          }
        },
        {
          "output_type": "stream",
          "name": "stdout",
          "text": [
            "\n",
            "Classification report:\n",
            "\n",
            "              precision    recall  f1-score   support\n",
            "\n",
            "           0       0.63      0.65      0.64       500\n",
            "           1       0.64      0.62      0.63       500\n",
            "\n",
            "    accuracy                           0.63      1000\n",
            "   macro avg       0.63      0.63      0.63      1000\n",
            "weighted avg       0.63      0.63      0.63      1000\n",
            "\n",
            "\n"
          ]
        }
      ],
      "source": [
        "# Executes a series of learnings\n",
        "execute_a_series_of_multi_layer_perceptron_learnings(X=X, Y=Y)"
      ]
    },
    {
      "cell_type": "markdown",
      "id": "1fc5f12d",
      "metadata": {
        "id": "1fc5f12d"
      },
      "source": [
        "## File: 'headlines_004.json'"
      ]
    },
    {
      "cell_type": "markdown",
      "id": "22689972",
      "metadata": {
        "id": "22689972"
      },
      "source": [
        "Reads the data."
      ]
    },
    {
      "cell_type": "code",
      "execution_count": 4,
      "id": "059afe17",
      "metadata": {
        "colab": {
          "base_uri": "https://localhost:8080/"
        },
        "id": "059afe17",
        "outputId": "0535ab7f-42f1-4fa7-ff01-ff987b8caeb1"
      },
      "outputs": [
        {
          "output_type": "stream",
          "name": "stdout",
          "text": [
            "LENGTH - headline: 11000; is_clickbait: 11000\n"
          ]
        }
      ],
      "source": [
        "# Reads the data from the file\n",
        "X, Y = get_json_content(i=3)\n",
        "\n",
        "# Prints the dataset size\n",
        "print(f\"LENGTH - headline: {len(X)}; is_clickbait: {len(Y)}\")"
      ]
    },
    {
      "cell_type": "markdown",
      "id": "27ece71a",
      "metadata": {
        "id": "27ece71a"
      },
      "source": [
        "Executes a series of learnings."
      ]
    },
    {
      "cell_type": "code",
      "execution_count": 5,
      "id": "98877a1a",
      "metadata": {
        "scrolled": false,
        "colab": {
          "base_uri": "https://localhost:8080/",
          "height": 1000
        },
        "id": "98877a1a",
        "outputId": "b4310817-24f9-4631-ddde-c0ffbb96118f"
      },
      "outputs": [
        {
          "output_type": "stream",
          "name": "stdout",
          "text": [
            "\t--------------- TRAIN-TEST SPLIT ---------------\n",
            "\n",
            "- test_size: 0.3\n",
            "\n",
            "\t\t=============== BoW ===============\n",
            "\n",
            "[#1]\n",
            "\n",
            "* Parameters:\n",
            "\n",
            "- Model: Multi-layer Perceptron\n",
            "- activation: identity\n",
            "- alpha: 0.0001\n",
            "- batch_size: auto\n",
            "- beta_1: 0.9\n",
            "- beta_2: 0.999\n",
            "- early_stopping: False\n",
            "- epsilon: 1e-08\n",
            "- hidden_layer_sizes: (100,)\n",
            "- learning_rate: constant\n",
            "- learning_rate_init: 0.001\n",
            "- max_fun: 15000\n",
            "- max_iter: 200\n",
            "- momentum: 0.9\n",
            "- n_iter_no_change: 10\n",
            "- nesterovs_momentum: True\n",
            "- power_t: 0.5\n",
            "- random_state: None\n",
            "- shuffle: True\n",
            "- solver: adam\n",
            "- tol: 0.0001\n",
            "- validation_fraction: 0.1\n",
            "- verbose: False\n",
            "- warm_start: False\n",
            "\n",
            "Accuracy: 98.81818181818181 %\n",
            "\n",
            "Average precision score: 98.12514886859866 %\n",
            "\n",
            "Average recall score: 98.875 %\n",
            "\n",
            "Average F1-score: 98.7823915079613 %\n",
            "\n",
            "Matthews correlation coefficient: 0.9763448329507854\n",
            "\n",
            "Mean absolute error: 0.011818181818181818\n",
            "\n",
            "Confusion matrix:\n",
            "\n"
          ]
        },
        {
          "output_type": "display_data",
          "data": {
            "text/plain": [
              "<Figure size 432x288 with 2 Axes>"
            ],
            "image/png": "[encoded data removed]"
          },
          "metadata": {
            "needs_background": "light"
          }
        },
        {
          "output_type": "stream",
          "name": "stdout",
          "text": [
            "\n",
            "Classification report:\n",
            "\n",
            "              precision    recall  f1-score   support\n",
            "\n",
            "           0       0.99      0.99      0.99      1700\n",
            "           1       0.99      0.99      0.99      1600\n",
            "\n",
            "    accuracy                           0.99      3300\n",
            "   macro avg       0.99      0.99      0.99      3300\n",
            "weighted avg       0.99      0.99      0.99      3300\n",
            "\n",
            "\n",
            "[#2]\n",
            "\n",
            "* Parameters:\n",
            "\n",
            "- Model: Multi-layer Perceptron\n",
            "- activation: tanh\n",
            "- alpha: 0.0001\n",
            "- batch_size: auto\n",
            "- beta_1: 0.9\n",
            "- beta_2: 0.999\n",
            "- early_stopping: False\n",
            "- epsilon: 1e-08\n",
            "- hidden_layer_sizes: (100,)\n",
            "- learning_rate: constant\n",
            "- learning_rate_init: 0.001\n",
            "- max_fun: 15000\n",
            "- max_iter: 200\n",
            "- momentum: 0.9\n",
            "- n_iter_no_change: 10\n",
            "- nesterovs_momentum: True\n",
            "- power_t: 0.5\n",
            "- random_state: None\n",
            "- shuffle: True\n",
            "- solver: adam\n",
            "- tol: 0.0001\n",
            "- validation_fraction: 0.1\n",
            "- verbose: False\n",
            "- warm_start: False\n",
            "\n",
            "Accuracy: 98.81818181818181 %\n",
            "\n",
            "Average precision score: 98.01098978612944 %\n",
            "\n",
            "Average recall score: 99.125 %\n",
            "\n",
            "Average F1-score: 98.78542510121456 %\n",
            "\n",
            "Matthews correlation coefficient: 0.9763684230346736\n",
            "\n",
            "Mean absolute error: 0.011818181818181818\n",
            "\n",
            "Confusion matrix:\n",
            "\n"
          ]
        },
        {
          "output_type": "display_data",
          "data": {
            "text/plain": [
              "<Figure size 432x288 with 2 Axes>"
            ],
            "image/png": "[encoded data removed]"
          },
          "metadata": {
            "needs_background": "light"
          }
        },
        {
          "output_type": "stream",
          "name": "stdout",
          "text": [
            "\n",
            "Classification report:\n",
            "\n",
            "              precision    recall  f1-score   support\n",
            "\n",
            "           0       0.99      0.99      0.99      1700\n",
            "           1       0.98      0.99      0.99      1600\n",
            "\n",
            "    accuracy                           0.99      3300\n",
            "   macro avg       0.99      0.99      0.99      3300\n",
            "weighted avg       0.99      0.99      0.99      3300\n",
            "\n",
            "\n",
            "\n",
            "\t\t=============== Tf-idf ===============\n",
            "\n",
            "[#1]\n",
            "\n",
            "* Parameters:\n",
            "\n",
            "- Model: Multi-layer Perceptron\n",
            "- activation: relu\n",
            "- alpha: 0.0001\n",
            "- batch_size: auto\n",
            "- beta_1: 0.9\n",
            "- beta_2: 0.999\n",
            "- early_stopping: False\n",
            "- epsilon: 1e-08\n",
            "- hidden_layer_sizes: (100,)\n",
            "- learning_rate: constant\n",
            "- learning_rate_init: 0.001\n",
            "- max_fun: 15000\n",
            "- max_iter: 200\n",
            "- momentum: 0.9\n",
            "- n_iter_no_change: 10\n",
            "- nesterovs_momentum: True\n",
            "- power_t: 0.5\n",
            "- random_state: None\n",
            "- shuffle: True\n",
            "- solver: adam\n",
            "- tol: 0.0001\n",
            "- validation_fraction: 0.1\n",
            "- verbose: False\n",
            "- warm_start: False\n",
            "\n",
            "Accuracy: 99.06060606060606 %\n",
            "\n",
            "Average precision score: 98.32539637864714 %\n",
            "\n",
            "Average recall score: 99.5 %\n",
            "\n",
            "Average F1-score: 99.0357698289269 %\n",
            "\n",
            "Matthews correlation coefficient: 0.9812406369052838\n",
            "\n",
            "Mean absolute error: 0.009393939393939394\n",
            "\n",
            "Confusion matrix:\n",
            "\n"
          ]
        },
        {
          "output_type": "display_data",
          "data": {
            "text/plain": [
              "<Figure size 432x288 with 2 Axes>"
            ],
            "image/png": "[encoded data removed]"
          },
          "metadata": {
            "needs_background": "light"
          }
        },
        {
          "output_type": "stream",
          "name": "stdout",
          "text": [
            "\n",
            "Classification report:\n",
            "\n",
            "              precision    recall  f1-score   support\n",
            "\n",
            "           0       1.00      0.99      0.99      1700\n",
            "           1       0.99      0.99      0.99      1600\n",
            "\n",
            "    accuracy                           0.99      3300\n",
            "   macro avg       0.99      0.99      0.99      3300\n",
            "weighted avg       0.99      0.99      0.99      3300\n",
            "\n",
            "\n",
            "[#2]\n",
            "\n",
            "* Parameters:\n",
            "\n",
            "- Model: Multi-layer Perceptron\n",
            "- activation: identity\n",
            "- alpha: 0.0001\n",
            "- batch_size: auto\n",
            "- beta_1: 0.9\n",
            "- beta_2: 0.999\n",
            "- early_stopping: False\n",
            "- epsilon: 1e-08\n",
            "- hidden_layer_sizes: (100,)\n",
            "- learning_rate: constant\n",
            "- learning_rate_init: 0.001\n",
            "- max_fun: 15000\n",
            "- max_iter: 200\n",
            "- momentum: 0.9\n",
            "- n_iter_no_change: 10\n",
            "- nesterovs_momentum: True\n",
            "- power_t: 0.5\n",
            "- random_state: None\n",
            "- shuffle: True\n",
            "- solver: adam\n",
            "- tol: 0.0001\n",
            "- validation_fraction: 0.1\n",
            "- verbose: False\n",
            "- warm_start: False\n",
            "\n",
            "Accuracy: 99.03030303030303 %\n",
            "\n",
            "Average precision score: 98.20789842873175 %\n",
            "\n",
            "Average recall score: 99.625 %\n",
            "\n",
            "Average F1-score: 99.00621118012421 %\n",
            "\n",
            "Matthews correlation coefficient: 0.9806674931412547\n",
            "\n",
            "Mean absolute error: 0.009696969696969697\n",
            "\n",
            "Confusion matrix:\n",
            "\n"
          ]
        },
        {
          "output_type": "display_data",
          "data": {
            "text/plain": [
              "<Figure size 432x288 with 2 Axes>"
            ],
            "image/png": "[encoded data removed]"
          },
          "metadata": {
            "needs_background": "light"
          }
        },
        {
          "output_type": "stream",
          "name": "stdout",
          "text": [
            "\n",
            "Classification report:\n",
            "\n",
            "              precision    recall  f1-score   support\n",
            "\n",
            "           0       1.00      0.98      0.99      1700\n",
            "           1       0.98      1.00      0.99      1600\n",
            "\n",
            "    accuracy                           0.99      3300\n",
            "   macro avg       0.99      0.99      0.99      3300\n",
            "weighted avg       0.99      0.99      0.99      3300\n",
            "\n",
            "\n",
            "\n",
            "\t\t=============== Word2Vec ===============\n",
            "\n"
          ]
        },
        {
          "output_type": "stream",
          "name": "stderr",
          "text": [
            "/usr/local/lib/python3.7/dist-packages/sklearn/neural_network/_multilayer_perceptron.py:696: ConvergenceWarning: Stochastic Optimizer: Maximum iterations (200) reached and the optimization hasn't converged yet.\n",
            "  ConvergenceWarning,\n",
            "/usr/local/lib/python3.7/dist-packages/sklearn/neural_network/_multilayer_perceptron.py:696: ConvergenceWarning: Stochastic Optimizer: Maximum iterations (200) reached and the optimization hasn't converged yet.\n",
            "  ConvergenceWarning,\n",
            "/usr/local/lib/python3.7/dist-packages/sklearn/neural_network/_multilayer_perceptron.py:696: ConvergenceWarning: Stochastic Optimizer: Maximum iterations (200) reached and the optimization hasn't converged yet.\n",
            "  ConvergenceWarning,\n",
            "/usr/local/lib/python3.7/dist-packages/sklearn/metrics/_classification.py:1318: UndefinedMetricWarning: Precision and F-score are ill-defined and being set to 0.0 in labels with no predicted samples. Use `zero_division` parameter to control this behavior.\n",
            "  _warn_prf(average, modifier, msg_start, len(result))\n",
            "/usr/local/lib/python3.7/dist-packages/sklearn/metrics/_classification.py:1318: UndefinedMetricWarning: Precision and F-score are ill-defined and being set to 0.0 in labels with no predicted samples. Use `zero_division` parameter to control this behavior.\n",
            "  _warn_prf(average, modifier, msg_start, len(result))\n",
            "/usr/local/lib/python3.7/dist-packages/sklearn/metrics/_classification.py:1318: UndefinedMetricWarning: Precision and F-score are ill-defined and being set to 0.0 in labels with no predicted samples. Use `zero_division` parameter to control this behavior.\n",
            "  _warn_prf(average, modifier, msg_start, len(result))\n",
            "/usr/local/lib/python3.7/dist-packages/sklearn/neural_network/_multilayer_perceptron.py:696: ConvergenceWarning: Stochastic Optimizer: Maximum iterations (200) reached and the optimization hasn't converged yet.\n",
            "  ConvergenceWarning,\n"
          ]
        },
        {
          "output_type": "stream",
          "name": "stdout",
          "text": [
            "[#1]\n",
            "\n",
            "* Parameters:\n",
            "\n",
            "- Model: Multi-layer Perceptron\n",
            "- activation: tanh\n",
            "- alpha: 0.0001\n",
            "- batch_size: auto\n",
            "- beta_1: 0.9\n",
            "- beta_2: 0.999\n",
            "- early_stopping: False\n",
            "- epsilon: 1e-08\n",
            "- hidden_layer_sizes: (100,)\n",
            "- learning_rate: constant\n",
            "- learning_rate_init: 0.001\n",
            "- max_fun: 15000\n",
            "- max_iter: 200\n",
            "- momentum: 0.9\n",
            "- n_iter_no_change: 10\n",
            "- nesterovs_momentum: True\n",
            "- power_t: 0.5\n",
            "- random_state: None\n",
            "- shuffle: True\n",
            "- solver: adam\n",
            "- tol: 0.0001\n",
            "- validation_fraction: 0.1\n",
            "- verbose: False\n",
            "- warm_start: False\n",
            "\n",
            "Accuracy: 59.696969696969695 %\n",
            "\n",
            "Average precision score: 55.695451890399326 %\n",
            "\n",
            "Average recall score: 21.8125 %\n",
            "\n",
            "Average F1-score: 34.418145956607496 %\n",
            "\n",
            "Matthews correlation coefficient: 0.25534380141222796\n",
            "\n",
            "Mean absolute error: 0.403030303030303\n",
            "\n",
            "Confusion matrix:\n",
            "\n"
          ]
        },
        {
          "output_type": "display_data",
          "data": {
            "text/plain": [
              "<Figure size 432x288 with 2 Axes>"
            ],
            "image/png": "[encoded data removed]"
          },
          "metadata": {
            "needs_background": "light"
          }
        },
        {
          "output_type": "stream",
          "name": "stdout",
          "text": [
            "\n",
            "Classification report:\n",
            "\n",
            "              precision    recall  f1-score   support\n",
            "\n",
            "           0       0.56      0.95      0.71      1700\n",
            "           1       0.82      0.22      0.34      1600\n",
            "\n",
            "    accuracy                           0.60      3300\n",
            "   macro avg       0.69      0.59      0.53      3300\n",
            "weighted avg       0.69      0.60      0.53      3300\n",
            "\n",
            "\n",
            "\t--------------- K-FOLD ---------------\n",
            "\n",
            "- n_folds: 10\n",
            "\n",
            "\t\t=============== BoW ===============\n",
            "\n",
            "[#1]\n",
            "\n",
            "* Parameters:\n",
            "\n",
            "- Model: Multi-layer Perceptron\n",
            "- activation: identity\n",
            "- alpha: 0.0001\n",
            "- batch_size: auto\n",
            "- beta_1: 0.9\n",
            "- beta_2: 0.999\n",
            "- early_stopping: False\n",
            "- epsilon: 1e-08\n",
            "- hidden_layer_sizes: (100,)\n",
            "- learning_rate: constant\n",
            "- learning_rate_init: 0.001\n",
            "- max_fun: 15000\n",
            "- max_iter: 200\n",
            "- momentum: 0.9\n",
            "- n_iter_no_change: 10\n",
            "- nesterovs_momentum: True\n",
            "- power_t: 0.5\n",
            "- random_state: None\n",
            "- shuffle: True\n",
            "- solver: adam\n",
            "- tol: 0.0001\n",
            "- validation_fraction: 0.1\n",
            "- verbose: False\n",
            "- warm_start: False\n",
            "\n",
            "Accuracy: 98.62727272727273 %\n",
            "\n",
            "Average precision score: 97.88060407699118 %\n",
            "\n",
            "Average recall score: 98.59865470852019 %\n",
            "\n",
            "Average F1-score: 98.5894441849603 %\n",
            "\n",
            "Matthews correlation coefficient: 0.9725257109414902\n",
            "\n",
            "Mean absolute error: 0.013727272727272727\n",
            "\n",
            "Confusion matrix:\n",
            "\n"
          ]
        },
        {
          "output_type": "display_data",
          "data": {
            "text/plain": [
              "<Figure size 432x288 with 2 Axes>"
            ],
            "image/png": "[encoded data removed]"
          },
          "metadata": {
            "needs_background": "light"
          }
        },
        {
          "output_type": "stream",
          "name": "stdout",
          "text": [
            "\n",
            "Classification report:\n",
            "\n",
            "              precision    recall  f1-score   support\n",
            "\n",
            "           0       0.99      0.99      0.99      5648\n",
            "           1       0.99      0.99      0.99      5352\n",
            "\n",
            "    accuracy                           0.99     11000\n",
            "   macro avg       0.99      0.99      0.99     11000\n",
            "weighted avg       0.99      0.99      0.99     11000\n",
            "\n",
            "\n",
            "[#2]\n",
            "\n",
            "* Parameters:\n",
            "\n",
            "- Model: Multi-layer Perceptron\n",
            "- activation: tanh\n",
            "- alpha: 0.0001\n",
            "- batch_size: auto\n",
            "- beta_1: 0.9\n",
            "- beta_2: 0.999\n",
            "- early_stopping: False\n",
            "- epsilon: 1e-08\n",
            "- hidden_layer_sizes: (100,)\n",
            "- learning_rate: constant\n",
            "- learning_rate_init: 0.001\n",
            "- max_fun: 15000\n",
            "- max_iter: 200\n",
            "- momentum: 0.9\n",
            "- n_iter_no_change: 10\n",
            "- nesterovs_momentum: True\n",
            "- power_t: 0.5\n",
            "- random_state: None\n",
            "- shuffle: True\n",
            "- solver: adam\n",
            "- tol: 0.0001\n",
            "- validation_fraction: 0.1\n",
            "- verbose: False\n",
            "- warm_start: False\n",
            "\n",
            "Accuracy: 98.62727272727273 %\n",
            "\n",
            "Average precision score: 97.86348147360661 %\n",
            "\n",
            "Average recall score: 98.63602391629297 %\n",
            "\n",
            "Average F1-score: 98.58997105238583 %\n",
            "\n",
            "Matthews correlation coefficient: 0.9725266353324554\n",
            "\n",
            "Mean absolute error: 0.013727272727272727\n",
            "\n",
            "Confusion matrix:\n",
            "\n"
          ]
        },
        {
          "output_type": "display_data",
          "data": {
            "text/plain": [
              "<Figure size 432x288 with 2 Axes>"
            ],
            "image/png": "[encoded data removed]"
          },
          "metadata": {
            "needs_background": "light"
          }
        },
        {
          "output_type": "stream",
          "name": "stdout",
          "text": [
            "\n",
            "Classification report:\n",
            "\n",
            "              precision    recall  f1-score   support\n",
            "\n",
            "           0       0.99      0.99      0.99      5648\n",
            "           1       0.99      0.99      0.99      5352\n",
            "\n",
            "    accuracy                           0.99     11000\n",
            "   macro avg       0.99      0.99      0.99     11000\n",
            "weighted avg       0.99      0.99      0.99     11000\n",
            "\n",
            "\n",
            "\n",
            "\t\t=============== Tf-idf ===============\n",
            "\n",
            "[#1]\n",
            "\n",
            "* Parameters:\n",
            "\n",
            "- Model: Multi-layer Perceptron\n",
            "- activation: relu\n",
            "- alpha: 0.0001\n",
            "- batch_size: auto\n",
            "- beta_1: 0.9\n",
            "- beta_2: 0.999\n",
            "- early_stopping: False\n",
            "- epsilon: 1e-08\n",
            "- hidden_layer_sizes: (100,)\n",
            "- learning_rate: constant\n",
            "- learning_rate_init: 0.001\n",
            "- max_fun: 15000\n",
            "- max_iter: 200\n",
            "- momentum: 0.9\n",
            "- n_iter_no_change: 10\n",
            "- nesterovs_momentum: True\n",
            "- power_t: 0.5\n",
            "- random_state: None\n",
            "- shuffle: True\n",
            "- solver: adam\n",
            "- tol: 0.0001\n",
            "- validation_fraction: 0.1\n",
            "- verbose: False\n",
            "- warm_start: False\n",
            "\n",
            "Accuracy: 98.89090909090909 %\n",
            "\n",
            "Average precision score: 98.24474829771226 %\n",
            "\n",
            "Average recall score: 98.95366218236174 %\n",
            "\n",
            "Average F1-score: 98.86130296807916 %\n",
            "\n",
            "Matthews correlation coefficient: 0.977804813514846\n",
            "\n",
            "Mean absolute error: 0.01109090909090909\n",
            "\n",
            "Confusion matrix:\n",
            "\n"
          ]
        },
        {
          "output_type": "display_data",
          "data": {
            "text/plain": [
              "<Figure size 432x288 with 2 Axes>"
            ],
            "image/png": "[encoded data removed]"
          },
          "metadata": {
            "needs_background": "light"
          }
        },
        {
          "output_type": "stream",
          "name": "stdout",
          "text": [
            "\n",
            "Classification report:\n",
            "\n",
            "              precision    recall  f1-score   support\n",
            "\n",
            "           0       0.99      0.99      0.99      5648\n",
            "           1       0.99      0.99      0.99      5352\n",
            "\n",
            "    accuracy                           0.99     11000\n",
            "   macro avg       0.99      0.99      0.99     11000\n",
            "weighted avg       0.99      0.99      0.99     11000\n",
            "\n",
            "\n",
            "\n",
            "\t\t=============== Word2Vec ===============\n",
            "\n"
          ]
        },
        {
          "output_type": "stream",
          "name": "stderr",
          "text": [
            "/usr/local/lib/python3.7/dist-packages/sklearn/neural_network/_multilayer_perceptron.py:696: ConvergenceWarning: Stochastic Optimizer: Maximum iterations (200) reached and the optimization hasn't converged yet.\n",
            "  ConvergenceWarning,\n",
            "/usr/local/lib/python3.7/dist-packages/sklearn/neural_network/_multilayer_perceptron.py:696: ConvergenceWarning: Stochastic Optimizer: Maximum iterations (200) reached and the optimization hasn't converged yet.\n",
            "  ConvergenceWarning,\n",
            "/usr/local/lib/python3.7/dist-packages/sklearn/neural_network/_multilayer_perceptron.py:696: ConvergenceWarning: Stochastic Optimizer: Maximum iterations (200) reached and the optimization hasn't converged yet.\n",
            "  ConvergenceWarning,\n",
            "/usr/local/lib/python3.7/dist-packages/sklearn/neural_network/_multilayer_perceptron.py:696: ConvergenceWarning: Stochastic Optimizer: Maximum iterations (200) reached and the optimization hasn't converged yet.\n",
            "  ConvergenceWarning,\n",
            "/usr/local/lib/python3.7/dist-packages/sklearn/neural_network/_multilayer_perceptron.py:696: ConvergenceWarning: Stochastic Optimizer: Maximum iterations (200) reached and the optimization hasn't converged yet.\n",
            "  ConvergenceWarning,\n",
            "/usr/local/lib/python3.7/dist-packages/sklearn/neural_network/_multilayer_perceptron.py:696: ConvergenceWarning: Stochastic Optimizer: Maximum iterations (200) reached and the optimization hasn't converged yet.\n",
            "  ConvergenceWarning,\n",
            "/usr/local/lib/python3.7/dist-packages/sklearn/neural_network/_multilayer_perceptron.py:696: ConvergenceWarning: Stochastic Optimizer: Maximum iterations (200) reached and the optimization hasn't converged yet.\n",
            "  ConvergenceWarning,\n",
            "/usr/local/lib/python3.7/dist-packages/sklearn/neural_network/_multilayer_perceptron.py:696: ConvergenceWarning: Stochastic Optimizer: Maximum iterations (200) reached and the optimization hasn't converged yet.\n",
            "  ConvergenceWarning,\n",
            "/usr/local/lib/python3.7/dist-packages/sklearn/neural_network/_multilayer_perceptron.py:696: ConvergenceWarning: Stochastic Optimizer: Maximum iterations (200) reached and the optimization hasn't converged yet.\n",
            "  ConvergenceWarning,\n",
            "/usr/local/lib/python3.7/dist-packages/sklearn/neural_network/_multilayer_perceptron.py:696: ConvergenceWarning: Stochastic Optimizer: Maximum iterations (200) reached and the optimization hasn't converged yet.\n",
            "  ConvergenceWarning,\n",
            "/usr/local/lib/python3.7/dist-packages/sklearn/neural_network/_multilayer_perceptron.py:696: ConvergenceWarning: Stochastic Optimizer: Maximum iterations (200) reached and the optimization hasn't converged yet.\n",
            "  ConvergenceWarning,\n",
            "/usr/local/lib/python3.7/dist-packages/sklearn/neural_network/_multilayer_perceptron.py:696: ConvergenceWarning: Stochastic Optimizer: Maximum iterations (200) reached and the optimization hasn't converged yet.\n",
            "  ConvergenceWarning,\n",
            "/usr/local/lib/python3.7/dist-packages/sklearn/neural_network/_multilayer_perceptron.py:696: ConvergenceWarning: Stochastic Optimizer: Maximum iterations (200) reached and the optimization hasn't converged yet.\n",
            "  ConvergenceWarning,\n",
            "/usr/local/lib/python3.7/dist-packages/sklearn/neural_network/_multilayer_perceptron.py:696: ConvergenceWarning: Stochastic Optimizer: Maximum iterations (200) reached and the optimization hasn't converged yet.\n",
            "  ConvergenceWarning,\n",
            "/usr/local/lib/python3.7/dist-packages/sklearn/neural_network/_multilayer_perceptron.py:696: ConvergenceWarning: Stochastic Optimizer: Maximum iterations (200) reached and the optimization hasn't converged yet.\n",
            "  ConvergenceWarning,\n",
            "/usr/local/lib/python3.7/dist-packages/sklearn/neural_network/_multilayer_perceptron.py:696: ConvergenceWarning: Stochastic Optimizer: Maximum iterations (200) reached and the optimization hasn't converged yet.\n",
            "  ConvergenceWarning,\n",
            "/usr/local/lib/python3.7/dist-packages/sklearn/neural_network/_multilayer_perceptron.py:696: ConvergenceWarning: Stochastic Optimizer: Maximum iterations (200) reached and the optimization hasn't converged yet.\n",
            "  ConvergenceWarning,\n",
            "/usr/local/lib/python3.7/dist-packages/sklearn/neural_network/_multilayer_perceptron.py:696: ConvergenceWarning: Stochastic Optimizer: Maximum iterations (200) reached and the optimization hasn't converged yet.\n",
            "  ConvergenceWarning,\n",
            "/usr/local/lib/python3.7/dist-packages/sklearn/neural_network/_multilayer_perceptron.py:696: ConvergenceWarning: Stochastic Optimizer: Maximum iterations (200) reached and the optimization hasn't converged yet.\n",
            "  ConvergenceWarning,\n",
            "/usr/local/lib/python3.7/dist-packages/sklearn/neural_network/_multilayer_perceptron.py:696: ConvergenceWarning: Stochastic Optimizer: Maximum iterations (200) reached and the optimization hasn't converged yet.\n",
            "  ConvergenceWarning,\n",
            "/usr/local/lib/python3.7/dist-packages/sklearn/neural_network/_multilayer_perceptron.py:696: ConvergenceWarning: Stochastic Optimizer: Maximum iterations (200) reached and the optimization hasn't converged yet.\n",
            "  ConvergenceWarning,\n",
            "/usr/local/lib/python3.7/dist-packages/sklearn/neural_network/_multilayer_perceptron.py:696: ConvergenceWarning: Stochastic Optimizer: Maximum iterations (200) reached and the optimization hasn't converged yet.\n",
            "  ConvergenceWarning,\n",
            "/usr/local/lib/python3.7/dist-packages/sklearn/neural_network/_multilayer_perceptron.py:696: ConvergenceWarning: Stochastic Optimizer: Maximum iterations (200) reached and the optimization hasn't converged yet.\n",
            "  ConvergenceWarning,\n",
            "/usr/local/lib/python3.7/dist-packages/sklearn/neural_network/_multilayer_perceptron.py:696: ConvergenceWarning: Stochastic Optimizer: Maximum iterations (200) reached and the optimization hasn't converged yet.\n",
            "  ConvergenceWarning,\n",
            "/usr/local/lib/python3.7/dist-packages/sklearn/neural_network/_multilayer_perceptron.py:696: ConvergenceWarning: Stochastic Optimizer: Maximum iterations (200) reached and the optimization hasn't converged yet.\n",
            "  ConvergenceWarning,\n"
          ]
        },
        {
          "output_type": "stream",
          "name": "stdout",
          "text": [
            "[#1]\n",
            "\n",
            "* Parameters:\n",
            "\n",
            "- Model: Multi-layer Perceptron\n",
            "- activation: relu\n",
            "- alpha: 0.0001\n",
            "- batch_size: auto\n",
            "- beta_1: 0.9\n",
            "- beta_2: 0.999\n",
            "- early_stopping: False\n",
            "- epsilon: 1e-08\n",
            "- hidden_layer_sizes: (100,)\n",
            "- learning_rate: constant\n",
            "- learning_rate_init: 0.001\n",
            "- max_fun: 15000\n",
            "- max_iter: 200\n",
            "- momentum: 0.9\n",
            "- n_iter_no_change: 10\n",
            "- nesterovs_momentum: True\n",
            "- power_t: 0.5\n",
            "- random_state: None\n",
            "- shuffle: True\n",
            "- solver: adam\n",
            "- tol: 0.0001\n",
            "- validation_fraction: 0.1\n",
            "- verbose: False\n",
            "- warm_start: False\n",
            "\n",
            "Accuracy: 96.0 %\n",
            "\n",
            "Average precision score: 93.94013066113611 %\n",
            "\n",
            "Average recall score: 95.90807174887892 %\n",
            "\n",
            "Average F1-score: 95.89015505324117 %\n",
            "\n",
            "Matthews correlation coefficient: 0.9199428749369468\n",
            "\n",
            "Mean absolute error: 0.04\n",
            "\n",
            "Confusion matrix:\n",
            "\n"
          ]
        },
        {
          "output_type": "display_data",
          "data": {
            "text/plain": [
              "<Figure size 432x288 with 2 Axes>"
            ],
            "image/png": "[encoded data removed]"
          },
          "metadata": {
            "needs_background": "light"
          }
        },
        {
          "output_type": "stream",
          "name": "stdout",
          "text": [
            "\n",
            "Classification report:\n",
            "\n",
            "              precision    recall  f1-score   support\n",
            "\n",
            "           0       0.96      0.96      0.96      5648\n",
            "           1       0.96      0.96      0.96      5352\n",
            "\n",
            "    accuracy                           0.96     11000\n",
            "   macro avg       0.96      0.96      0.96     11000\n",
            "weighted avg       0.96      0.96      0.96     11000\n",
            "\n",
            "\n"
          ]
        }
      ],
      "source": [
        "# Executes a series of learnings\n",
        "execute_a_series_of_multi_layer_perceptron_learnings(X=X, Y=Y)"
      ]
    }
  ],
  "metadata": {
    "kernelspec": {
      "display_name": "Python 3 (ipykernel)",
      "language": "python",
      "name": "python3"
    },
    "language_info": {
      "codemirror_mode": {
        "name": "ipython",
        "version": 3
      },
      "file_extension": ".py",
      "mimetype": "text/x-python",
      "name": "python",
      "nbconvert_exporter": "python",
      "pygments_lexer": "ipython3",
      "version": "3.9.7"
    },
    "colab": {
      "name": "Neural_Networks.ipynb",
      "provenance": []
    }
  },
  "nbformat": 4,
  "nbformat_minor": 5
}
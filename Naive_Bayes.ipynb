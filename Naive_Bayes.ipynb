{
  "cells": [
    {
      "cell_type": "code",
      "execution_count": 1,
      "id": "ff3677b0",
      "metadata": {
        "id": "ff3677b0"
      },
      "outputs": [],
      "source": [
        "from utils.utils import get_json_content\n",
        "from utils.learners import execute_a_series_of_naive_bayes_learnings"
      ]
    },
    {
      "cell_type": "markdown",
      "id": "6d6f5502",
      "metadata": {
        "id": "6d6f5502"
      },
      "source": [
        "# Naive Bayes Training"
      ]
    },
    {
      "cell_type": "markdown",
      "id": "35cb7ca3",
      "metadata": {
        "id": "35cb7ca3"
      },
      "source": [
        "## File: 'headlines_001.json'"
      ]
    },
    {
      "cell_type": "markdown",
      "source": [
        "Reads the data."
      ],
      "metadata": {
        "id": "jaPqV9L05p4V"
      },
      "id": "jaPqV9L05p4V"
    },
    {
      "cell_type": "code",
      "execution_count": 2,
      "id": "b8aefb25",
      "metadata": {
        "colab": {
          "base_uri": "https://localhost:8080/"
        },
        "id": "b8aefb25",
        "outputId": "20d5db90-f82b-44f1-f147-3655173e2fac"
      },
      "outputs": [
        {
          "output_type": "stream",
          "name": "stdout",
          "text": [
            "LENGTH - headline: 1000; is_clickbait: 1000\n"
          ]
        }
      ],
      "source": [
        "# Reads the data from the file\n",
        "X, Y = get_json_content(i=0)\n",
        "\n",
        "# Prints the dataset size\n",
        "print(f\"LENGTH - headline: {len(X)}; is_clickbait: {len(Y)}\")"
      ]
    },
    {
      "cell_type": "markdown",
      "source": [
        "Executes a series of trainings."
      ],
      "metadata": {
        "id": "1AyL4w695Wrz"
      },
      "id": "1AyL4w695Wrz"
    },
    {
      "cell_type": "code",
      "execution_count": 3,
      "id": "7c737ed1",
      "metadata": {
        "scrolled": false,
        "colab": {
          "base_uri": "https://localhost:8080/",
          "height": 1000
        },
        "id": "7c737ed1",
        "outputId": "7cc7481b-31ab-4f2f-f738-72cc85e5ebc2"
      },
      "outputs": [
        {
          "output_type": "stream",
          "name": "stdout",
          "text": [
            "\t--------------- TRAIN-TEST SPLIT ---------------\n",
            "\n",
            "- test_size: 0.3\n",
            "\n",
            "\t\t=============== BoW ===============\n",
            "\n",
            "[#1]\n",
            "\n",
            "* Parameters:\n",
            "\n",
            "- Model: Bernoulli Naive Bayes\n",
            "- alpha: 1.0\n",
            "- binarize: 0.0\n",
            "- class_prior: None\n",
            "- fit_prior: True\n",
            "\n",
            "Accuracy: 77.33333333333333 %\n",
            "\n",
            "Average precision score: 70.48174490279754 %\n",
            "\n",
            "Average recall score: 78.37837837837837 %\n",
            "\n",
            "Average F1-score: 77.33333333333334 %\n",
            "\n",
            "Matthews correlation coefficient: 0.5469416785206259\n",
            "\n",
            "Mean absolute error: 0.22666666666666666\n",
            "\n",
            "Confusion matrix:\n",
            "\n"
          ]
        },
        {
          "output_type": "display_data",
          "data": {
            "text/plain": [
              "<Figure size 432x288 with 2 Axes>"
            ],
            "image/png": "[encoded data removed]"
          },
          "metadata": {
            "needs_background": "light"
          }
        },
        {
          "output_type": "stream",
          "name": "stdout",
          "text": [
            "\n",
            "Classification report:\n",
            "\n",
            "              precision    recall  f1-score   support\n",
            "\n",
            "           0       0.78      0.76      0.77       152\n",
            "           1       0.76      0.78      0.77       148\n",
            "\n",
            "    accuracy                           0.77       300\n",
            "   macro avg       0.77      0.77      0.77       300\n",
            "weighted avg       0.77      0.77      0.77       300\n",
            "\n",
            "\n",
            "\n",
            "\t\t=============== Tf-idf ===============\n",
            "\n",
            "[#1]\n",
            "\n",
            "* Parameters:\n",
            "\n",
            "- Model: Bernoulli Naive Bayes\n",
            "- alpha: 1.0\n",
            "- binarize: 0.0\n",
            "- class_prior: None\n",
            "- fit_prior: True\n",
            "\n",
            "Accuracy: 77.33333333333333 %\n",
            "\n",
            "Average precision score: 70.48174490279754 %\n",
            "\n",
            "Average recall score: 78.37837837837837 %\n",
            "\n",
            "Average F1-score: 77.33333333333334 %\n",
            "\n",
            "Matthews correlation coefficient: 0.5469416785206259\n",
            "\n",
            "Mean absolute error: 0.22666666666666666\n",
            "\n",
            "Confusion matrix:\n",
            "\n"
          ]
        },
        {
          "output_type": "display_data",
          "data": {
            "text/plain": [
              "<Figure size 432x288 with 2 Axes>"
            ],
            "image/png": "[encoded data removed]"
          },
          "metadata": {
            "needs_background": "light"
          }
        },
        {
          "output_type": "stream",
          "name": "stdout",
          "text": [
            "\n",
            "Classification report:\n",
            "\n",
            "              precision    recall  f1-score   support\n",
            "\n",
            "           0       0.78      0.76      0.77       152\n",
            "           1       0.76      0.78      0.77       148\n",
            "\n",
            "    accuracy                           0.77       300\n",
            "   macro avg       0.77      0.77      0.77       300\n",
            "weighted avg       0.77      0.77      0.77       300\n",
            "\n",
            "\n",
            "\n",
            "\t\t=============== Word2Vec ===============\n",
            "\n",
            "[#1]\n",
            "\n",
            "* Parameters:\n",
            "\n",
            "- Model: Bernoulli Naive Bayes\n",
            "- alpha: 1.0\n",
            "- binarize: 0.0\n",
            "- class_prior: None\n",
            "- fit_prior: True\n",
            "\n",
            "Accuracy: 52.0 %\n",
            "\n",
            "Average precision score: 50.49072602013778 %\n",
            "\n",
            "Average recall score: 70.27027027027027 %\n",
            "\n",
            "Average F1-score: 59.09090909090909 %\n",
            "\n",
            "Matthews correlation coefficient: 0.04802387281833825\n",
            "\n",
            "Mean absolute error: 0.48\n",
            "\n",
            "Confusion matrix:\n",
            "\n"
          ]
        },
        {
          "output_type": "display_data",
          "data": {
            "text/plain": [
              "<Figure size 432x288 with 2 Axes>"
            ],
            "image/png": "[encoded data removed]"
          },
          "metadata": {
            "needs_background": "light"
          }
        },
        {
          "output_type": "stream",
          "name": "stdout",
          "text": [
            "\n",
            "Classification report:\n",
            "\n",
            "              precision    recall  f1-score   support\n",
            "\n",
            "           0       0.54      0.34      0.42       152\n",
            "           1       0.51      0.70      0.59       148\n",
            "\n",
            "    accuracy                           0.52       300\n",
            "   macro avg       0.53      0.52      0.51       300\n",
            "weighted avg       0.53      0.52      0.50       300\n",
            "\n",
            "\n",
            "\n",
            "\t\t=============== BoW ===============\n",
            "\n",
            "[#1]\n",
            "\n",
            "* Parameters:\n",
            "\n",
            "- Model: Gaussian Naive Bayes\n",
            "- priors: None\n",
            "- var_smoothing: 1e-09\n",
            "\n",
            "Accuracy: 71.33333333333334 %\n",
            "\n",
            "Average precision score: 65.23354123354123 %\n",
            "\n",
            "Average recall score: 64.86486486486487 %\n",
            "\n",
            "Average F1-score: 69.06474820143885 %\n",
            "\n",
            "Matthews correlation coefficient: 0.4287549072816275\n",
            "\n",
            "Mean absolute error: 0.2866666666666667\n",
            "\n",
            "Confusion matrix:\n",
            "\n"
          ]
        },
        {
          "output_type": "display_data",
          "data": {
            "text/plain": [
              "<Figure size 432x288 with 2 Axes>"
            ],
            "image/png": "[encoded data removed]"
          },
          "metadata": {
            "needs_background": "light"
          }
        },
        {
          "output_type": "stream",
          "name": "stdout",
          "text": [
            "\n",
            "Classification report:\n",
            "\n",
            "              precision    recall  f1-score   support\n",
            "\n",
            "           0       0.69      0.78      0.73       152\n",
            "           1       0.74      0.65      0.69       148\n",
            "\n",
            "    accuracy                           0.71       300\n",
            "   macro avg       0.72      0.71      0.71       300\n",
            "weighted avg       0.72      0.71      0.71       300\n",
            "\n",
            "\n",
            "\n",
            "\t\t=============== Tf-idf ===============\n",
            "\n",
            "[#1]\n",
            "\n",
            "* Parameters:\n",
            "\n",
            "- Model: Gaussian Naive Bayes\n",
            "- priors: None\n",
            "- var_smoothing: 1e-09\n",
            "\n",
            "Accuracy: 69.33333333333334 %\n",
            "\n",
            "Average precision score: 62.876033567814396 %\n",
            "\n",
            "Average recall score: 68.24324324324324 %\n",
            "\n",
            "Average F1-score: 68.70748299319729 %\n",
            "\n",
            "Matthews correlation coefficient: 0.3864828950344063\n",
            "\n",
            "Mean absolute error: 0.30666666666666664\n",
            "\n",
            "Confusion matrix:\n",
            "\n"
          ]
        },
        {
          "output_type": "display_data",
          "data": {
            "text/plain": [
              "<Figure size 432x288 with 2 Axes>"
            ],
            "image/png": "[encoded data removed]"
          },
          "metadata": {
            "needs_background": "light"
          }
        },
        {
          "output_type": "stream",
          "name": "stdout",
          "text": [
            "\n",
            "Classification report:\n",
            "\n",
            "              precision    recall  f1-score   support\n",
            "\n",
            "           0       0.69      0.70      0.70       152\n",
            "           1       0.69      0.68      0.69       148\n",
            "\n",
            "    accuracy                           0.69       300\n",
            "   macro avg       0.69      0.69      0.69       300\n",
            "weighted avg       0.69      0.69      0.69       300\n",
            "\n",
            "\n",
            "\n",
            "\t\t=============== Word2Vec ===============\n",
            "\n",
            "[#1]\n",
            "\n",
            "* Parameters:\n",
            "\n",
            "- Model: Gaussian Naive Bayes\n",
            "- priors: None\n",
            "- var_smoothing: 1e-09\n",
            "\n",
            "Accuracy: 51.66666666666667 %\n",
            "\n",
            "Average precision score: 50.16216216216216 %\n",
            "\n",
            "Average recall score: 2.7027027027027026 %\n",
            "\n",
            "Average F1-score: 5.228758169934641 %\n",
            "\n",
            "Matthews correlation coefficient: 0.07985629738796061\n",
            "\n",
            "Mean absolute error: 0.48333333333333334\n",
            "\n",
            "Confusion matrix:\n",
            "\n"
          ]
        },
        {
          "output_type": "display_data",
          "data": {
            "text/plain": [
              "<Figure size 432x288 with 2 Axes>"
            ],
            "image/png": "[encoded data removed]"
          },
          "metadata": {
            "needs_background": "light"
          }
        },
        {
          "output_type": "stream",
          "name": "stdout",
          "text": [
            "\n",
            "Classification report:\n",
            "\n",
            "              precision    recall  f1-score   support\n",
            "\n",
            "           0       0.51      0.99      0.68       152\n",
            "           1       0.80      0.03      0.05       148\n",
            "\n",
            "    accuracy                           0.52       300\n",
            "   macro avg       0.66      0.51      0.36       300\n",
            "weighted avg       0.65      0.52      0.37       300\n",
            "\n",
            "\n",
            "\n",
            "\t\t=============== BoW ===============\n",
            "\n",
            "[#1]\n",
            "\n",
            "* Parameters:\n",
            "\n",
            "- Model: Multinomial Naive Bayes\n",
            "- alpha: 1.0\n",
            "- class_prior: None\n",
            "- fit_prior: True\n",
            "\n",
            "Accuracy: 76.33333333333333 %\n",
            "\n",
            "Average precision score: 69.32403371113048 %\n",
            "\n",
            "Average recall score: 78.37837837837837 %\n",
            "\n",
            "Average F1-score: 76.56765676567656 %\n",
            "\n",
            "Matthews correlation coefficient: 0.5274510815009025\n",
            "\n",
            "Mean absolute error: 0.23666666666666666\n",
            "\n",
            "Confusion matrix:\n",
            "\n"
          ]
        },
        {
          "output_type": "display_data",
          "data": {
            "text/plain": [
              "<Figure size 432x288 with 2 Axes>"
            ],
            "image/png": "[encoded data removed]"
          },
          "metadata": {
            "needs_background": "light"
          }
        },
        {
          "output_type": "stream",
          "name": "stdout",
          "text": [
            "\n",
            "Classification report:\n",
            "\n",
            "              precision    recall  f1-score   support\n",
            "\n",
            "           0       0.78      0.74      0.76       152\n",
            "           1       0.75      0.78      0.77       148\n",
            "\n",
            "    accuracy                           0.76       300\n",
            "   macro avg       0.76      0.76      0.76       300\n",
            "weighted avg       0.76      0.76      0.76       300\n",
            "\n",
            "\n",
            "\n",
            "\t\t=============== Tf-idf ===============\n",
            "\n",
            "[#1]\n",
            "\n",
            "* Parameters:\n",
            "\n",
            "- Model: Multinomial Naive Bayes\n",
            "- alpha: 1.0\n",
            "- class_prior: None\n",
            "- fit_prior: True\n",
            "\n",
            "Accuracy: 76.0 %\n",
            "\n",
            "Average precision score: 68.94802494802495 %\n",
            "\n",
            "Average recall score: 78.37837837837837 %\n",
            "\n",
            "Average F1-score: 76.31578947368422 %\n",
            "\n",
            "Matthews correlation coefficient: 0.5209965732441684\n",
            "\n",
            "Mean absolute error: 0.24\n",
            "\n",
            "Confusion matrix:\n",
            "\n"
          ]
        },
        {
          "output_type": "display_data",
          "data": {
            "text/plain": [
              "<Figure size 432x288 with 2 Axes>"
            ],
            "image/png": "[encoded data removed]"
          },
          "metadata": {
            "needs_background": "light"
          }
        },
        {
          "output_type": "stream",
          "name": "stdout",
          "text": [
            "\n",
            "Classification report:\n",
            "\n",
            "              precision    recall  f1-score   support\n",
            "\n",
            "           0       0.78      0.74      0.76       152\n",
            "           1       0.74      0.78      0.76       148\n",
            "\n",
            "    accuracy                           0.76       300\n",
            "   macro avg       0.76      0.76      0.76       300\n",
            "weighted avg       0.76      0.76      0.76       300\n",
            "\n",
            "\n",
            "\n",
            "\t\t=============== Word2Vec ===============\n",
            "\n",
            "Negative values in data passed to MultinomialNB (input X)\n",
            "\t--------------- K-FOLD ---------------\n",
            "\n",
            "- n_folds: 10\n",
            "\n",
            "\t\t=============== BoW ===============\n",
            "\n",
            "[#1]\n",
            "\n",
            "* Parameters:\n",
            "\n",
            "- Model: Bernoulli Naive Bayes\n",
            "- alpha: 1.0\n",
            "- binarize: 0.0\n",
            "- class_prior: None\n",
            "- fit_prior: True\n",
            "\n",
            "Accuracy: 79.2 %\n",
            "\n",
            "Average precision score: 73.5563025210084 %\n",
            "\n",
            "Average recall score: 76.8 %\n",
            "\n",
            "Average F1-score: 78.68852459016395 %\n",
            "\n",
            "Matthews correlation coefficient: 0.5846739327796959\n",
            "\n",
            "Mean absolute error: 0.208\n",
            "\n",
            "Confusion matrix:\n",
            "\n"
          ]
        },
        {
          "output_type": "display_data",
          "data": {
            "text/plain": [
              "<Figure size 432x288 with 2 Axes>"
            ],
            "image/png": "[encoded data removed]"
          },
          "metadata": {
            "needs_background": "light"
          }
        },
        {
          "output_type": "stream",
          "name": "stdout",
          "text": [
            "\n",
            "Classification report:\n",
            "\n",
            "              precision    recall  f1-score   support\n",
            "\n",
            "           0       0.78      0.82      0.80       500\n",
            "           1       0.81      0.77      0.79       500\n",
            "\n",
            "    accuracy                           0.79      1000\n",
            "   macro avg       0.79      0.79      0.79      1000\n",
            "weighted avg       0.79      0.79      0.79      1000\n",
            "\n",
            "\n",
            "\n",
            "\t\t=============== Tf-idf ===============\n",
            "\n",
            "[#1]\n",
            "\n",
            "* Parameters:\n",
            "\n",
            "- Model: Bernoulli Naive Bayes\n",
            "- alpha: 1.0\n",
            "- binarize: 0.0\n",
            "- class_prior: None\n",
            "- fit_prior: True\n",
            "\n",
            "Accuracy: 79.2 %\n",
            "\n",
            "Average precision score: 73.5563025210084 %\n",
            "\n",
            "Average recall score: 76.8 %\n",
            "\n",
            "Average F1-score: 78.68852459016395 %\n",
            "\n",
            "Matthews correlation coefficient: 0.5846739327796959\n",
            "\n",
            "Mean absolute error: 0.208\n",
            "\n",
            "Confusion matrix:\n",
            "\n"
          ]
        },
        {
          "output_type": "display_data",
          "data": {
            "text/plain": [
              "<Figure size 432x288 with 2 Axes>"
            ],
            "image/png": "[encoded data removed]"
          },
          "metadata": {
            "needs_background": "light"
          }
        },
        {
          "output_type": "stream",
          "name": "stdout",
          "text": [
            "\n",
            "Classification report:\n",
            "\n",
            "              precision    recall  f1-score   support\n",
            "\n",
            "           0       0.78      0.82      0.80       500\n",
            "           1       0.81      0.77      0.79       500\n",
            "\n",
            "    accuracy                           0.79      1000\n",
            "   macro avg       0.79      0.79      0.79      1000\n",
            "weighted avg       0.79      0.79      0.79      1000\n",
            "\n",
            "\n",
            "\n",
            "\t\t=============== Word2Vec ===============\n",
            "\n",
            "[#1]\n",
            "\n",
            "* Parameters:\n",
            "\n",
            "- Model: Bernoulli Naive Bayes\n",
            "- alpha: 1.0\n",
            "- binarize: 0.0\n",
            "- class_prior: None\n",
            "- fit_prior: True\n",
            "\n",
            "Accuracy: 59.599999999999994 %\n",
            "\n",
            "Average precision score: 55.76 %\n",
            "\n",
            "Average recall score: 57.599999999999994 %\n",
            "\n",
            "Average F1-score: 58.77551020408163 %\n",
            "\n",
            "Matthews correlation coefficient: 0.19215378456610455\n",
            "\n",
            "Mean absolute error: 0.404\n",
            "\n",
            "Confusion matrix:\n",
            "\n"
          ]
        },
        {
          "output_type": "display_data",
          "data": {
            "text/plain": [
              "<Figure size 432x288 with 2 Axes>"
            ],
            "image/png": "[encoded data removed]"
          },
          "metadata": {
            "needs_background": "light"
          }
        },
        {
          "output_type": "stream",
          "name": "stdout",
          "text": [
            "\n",
            "Classification report:\n",
            "\n",
            "              precision    recall  f1-score   support\n",
            "\n",
            "           0       0.59      0.62      0.60       500\n",
            "           1       0.60      0.58      0.59       500\n",
            "\n",
            "    accuracy                           0.60      1000\n",
            "   macro avg       0.60      0.60      0.60      1000\n",
            "weighted avg       0.60      0.60      0.60      1000\n",
            "\n",
            "\n",
            "\n",
            "\t\t=============== BoW ===============\n",
            "\n",
            "[#1]\n",
            "\n",
            "* Parameters:\n",
            "\n",
            "- Model: Gaussian Naive Bayes\n",
            "- priors: None\n",
            "- var_smoothing: 1e-09\n",
            "\n",
            "Accuracy: 73.8 %\n",
            "\n",
            "Average precision score: 67.14481481481481 %\n",
            "\n",
            "Average recall score: 77.8 %\n",
            "\n",
            "Average F1-score: 74.8076923076923 %\n",
            "\n",
            "Matthews correlation coefficient: 0.4775305505735512\n",
            "\n",
            "Mean absolute error: 0.262\n",
            "\n",
            "Confusion matrix:\n",
            "\n"
          ]
        },
        {
          "output_type": "display_data",
          "data": {
            "text/plain": [
              "<Figure size 432x288 with 2 Axes>"
            ],
            "image/png": "[encoded data removed]"
          },
          "metadata": {
            "needs_background": "light"
          }
        },
        {
          "output_type": "stream",
          "name": "stdout",
          "text": [
            "\n",
            "Classification report:\n",
            "\n",
            "              precision    recall  f1-score   support\n",
            "\n",
            "           0       0.76      0.70      0.73       500\n",
            "           1       0.72      0.78      0.75       500\n",
            "\n",
            "    accuracy                           0.74      1000\n",
            "   macro avg       0.74      0.74      0.74      1000\n",
            "weighted avg       0.74      0.74      0.74      1000\n",
            "\n",
            "\n",
            "\n",
            "\t\t=============== Tf-idf ===============\n",
            "\n",
            "[#1]\n",
            "\n",
            "* Parameters:\n",
            "\n",
            "- Model: Gaussian Naive Bayes\n",
            "- priors: None\n",
            "- var_smoothing: 1e-09\n",
            "\n",
            "Accuracy: 71.39999999999999 %\n",
            "\n",
            "Average precision score: 64.90919117647059 %\n",
            "\n",
            "Average recall score: 75.8 %\n",
            "\n",
            "Average F1-score: 72.60536398467433 %\n",
            "\n",
            "Matthews correlation coefficient: 0.42966690364841376\n",
            "\n",
            "Mean absolute error: 0.286\n",
            "\n",
            "Confusion matrix:\n",
            "\n"
          ]
        },
        {
          "output_type": "display_data",
          "data": {
            "text/plain": [
              "<Figure size 432x288 with 2 Axes>"
            ],
            "image/png": "[encoded data removed]"
          },
          "metadata": {
            "needs_background": "light"
          }
        },
        {
          "output_type": "stream",
          "name": "stdout",
          "text": [
            "\n",
            "Classification report:\n",
            "\n",
            "              precision    recall  f1-score   support\n",
            "\n",
            "           0       0.73      0.67      0.70       500\n",
            "           1       0.70      0.76      0.73       500\n",
            "\n",
            "    accuracy                           0.71      1000\n",
            "   macro avg       0.72      0.71      0.71      1000\n",
            "weighted avg       0.72      0.71      0.71      1000\n",
            "\n",
            "\n",
            "\n",
            "\t\t=============== Word2Vec ===============\n",
            "\n",
            "[#1]\n",
            "\n",
            "* Parameters:\n",
            "\n",
            "- Model: Gaussian Naive Bayes\n",
            "- priors: None\n",
            "- var_smoothing: 1e-09\n",
            "\n",
            "Accuracy: 64.1 %\n",
            "\n",
            "Average precision score: 59.010650887573966 %\n",
            "\n",
            "Average recall score: 64.8 %\n",
            "\n",
            "Average F1-score: 64.34955312810328 %\n",
            "\n",
            "Matthews correlation coefficient: 0.28202764006315567\n",
            "\n",
            "Mean absolute error: 0.359\n",
            "\n",
            "Confusion matrix:\n",
            "\n"
          ]
        },
        {
          "output_type": "display_data",
          "data": {
            "text/plain": [
              "<Figure size 432x288 with 2 Axes>"
            ],
            "image/png": "[encoded data removed]"
          },
          "metadata": {
            "needs_background": "light"
          }
        },
        {
          "output_type": "stream",
          "name": "stdout",
          "text": [
            "\n",
            "Classification report:\n",
            "\n",
            "              precision    recall  f1-score   support\n",
            "\n",
            "           0       0.64      0.63      0.64       500\n",
            "           1       0.64      0.65      0.64       500\n",
            "\n",
            "    accuracy                           0.64      1000\n",
            "   macro avg       0.64      0.64      0.64      1000\n",
            "weighted avg       0.64      0.64      0.64      1000\n",
            "\n",
            "\n",
            "\n",
            "\t\t=============== BoW ===============\n",
            "\n",
            "[#1]\n",
            "\n",
            "* Parameters:\n",
            "\n",
            "- Model: Multinomial Naive Bayes\n",
            "- alpha: 1.0\n",
            "- class_prior: None\n",
            "- fit_prior: True\n",
            "\n",
            "Accuracy: 78.60000000000001 %\n",
            "\n",
            "Average precision score: 72.61260162601626 %\n",
            "\n",
            "Average recall score: 77.8 %\n",
            "\n",
            "Average F1-score: 78.42741935483872 %\n",
            "\n",
            "Matthews correlation coefficient: 0.5720732300604716\n",
            "\n",
            "Mean absolute error: 0.214\n",
            "\n",
            "Confusion matrix:\n",
            "\n"
          ]
        },
        {
          "output_type": "display_data",
          "data": {
            "text/plain": [
              "<Figure size 432x288 with 2 Axes>"
            ],
            "image/png": "[encoded data removed]"
          },
          "metadata": {
            "needs_background": "light"
          }
        },
        {
          "output_type": "stream",
          "name": "stdout",
          "text": [
            "\n",
            "Classification report:\n",
            "\n",
            "              precision    recall  f1-score   support\n",
            "\n",
            "           0       0.78      0.79      0.79       500\n",
            "           1       0.79      0.78      0.78       500\n",
            "\n",
            "    accuracy                           0.79      1000\n",
            "   macro avg       0.79      0.79      0.79      1000\n",
            "weighted avg       0.79      0.79      0.79      1000\n",
            "\n",
            "\n",
            "\n",
            "\t\t=============== Tf-idf ===============\n",
            "\n",
            "[#1]\n",
            "\n",
            "* Parameters:\n",
            "\n",
            "- Model: Multinomial Naive Bayes\n",
            "- alpha: 1.0\n",
            "- class_prior: None\n",
            "- fit_prior: True\n",
            "\n",
            "Accuracy: 78.2 %\n",
            "\n",
            "Average precision score: 72.0207171314741 %\n",
            "\n",
            "Average recall score: 78.4 %\n",
            "\n",
            "Average F1-score: 78.24351297405188 %\n",
            "\n",
            "Matthews correlation coefficient: 0.5640045120541447\n",
            "\n",
            "Mean absolute error: 0.218\n",
            "\n",
            "Confusion matrix:\n",
            "\n"
          ]
        },
        {
          "output_type": "display_data",
          "data": {
            "text/plain": [
              "<Figure size 432x288 with 2 Axes>"
            ],
            "image/png": "[encoded data removed]"
          },
          "metadata": {
            "needs_background": "light"
          }
        },
        {
          "output_type": "stream",
          "name": "stdout",
          "text": [
            "\n",
            "Classification report:\n",
            "\n",
            "              precision    recall  f1-score   support\n",
            "\n",
            "           0       0.78      0.78      0.78       500\n",
            "           1       0.78      0.78      0.78       500\n",
            "\n",
            "    accuracy                           0.78      1000\n",
            "   macro avg       0.78      0.78      0.78      1000\n",
            "weighted avg       0.78      0.78      0.78      1000\n",
            "\n",
            "\n",
            "\n",
            "\t\t=============== Word2Vec ===============\n",
            "\n",
            "Negative values in data passed to MultinomialNB (input X)\n"
          ]
        }
      ],
      "source": [
        "# Executes a series of learnings\n",
        "execute_a_series_of_naive_bayes_learnings(X=X, Y=Y)"
      ]
    },
    {
      "cell_type": "markdown",
      "source": [
        "## File: 'headlines_004.json'"
      ],
      "metadata": {
        "id": "QJlTQuo-5mjx"
      },
      "id": "QJlTQuo-5mjx"
    },
    {
      "cell_type": "markdown",
      "source": [
        "Reads the data."
      ],
      "metadata": {
        "id": "pr9ybv5J6jcF"
      },
      "id": "pr9ybv5J6jcF"
    },
    {
      "cell_type": "code",
      "source": [
        "# Reads the data from the file\n",
        "X, Y = get_json_content(i=3)\n",
        "\n",
        "# Prints the dataset size\n",
        "print(f\"LENGTH - headline: {len(X)}; is_clickbait: {len(Y)}\")"
      ],
      "metadata": {
        "id": "QlWr1bOo6loe",
        "colab": {
          "base_uri": "https://localhost:8080/"
        },
        "outputId": "a024b258-9020-4bc8-af55-21bebd41a5ae"
      },
      "id": "QlWr1bOo6loe",
      "execution_count": 4,
      "outputs": [
        {
          "output_type": "stream",
          "name": "stdout",
          "text": [
            "LENGTH - headline: 11000; is_clickbait: 11000\n"
          ]
        }
      ]
    },
    {
      "cell_type": "markdown",
      "source": [
        "Executes a series of learnings."
      ],
      "metadata": {
        "id": "jQMYEaVV6t1u"
      },
      "id": "jQMYEaVV6t1u"
    },
    {
      "cell_type": "code",
      "source": [
        "# Executes a series of learnings\n",
        "execute_a_series_of_naive_bayes_learnings(X=X, Y=Y)"
      ],
      "metadata": {
        "id": "oqcBWU_R6mcF",
        "colab": {
          "base_uri": "https://localhost:8080/",
          "height": 1000
        },
        "outputId": "635b7f04-cc71-4e58-ad2d-10a371461479"
      },
      "id": "oqcBWU_R6mcF",
      "execution_count": 5,
      "outputs": [
        {
          "output_type": "stream",
          "name": "stdout",
          "text": [
            "\t--------------- TRAIN-TEST SPLIT ---------------\n",
            "\n",
            "- test_size: 0.3\n",
            "\n",
            "\t\t=============== BoW ===============\n",
            "\n",
            "[#1]\n",
            "\n",
            "* Parameters:\n",
            "\n",
            "- Model: Bernoulli Naive Bayes\n",
            "- alpha: 1.0\n",
            "- binarize: 0.0\n",
            "- class_prior: None\n",
            "- fit_prior: True\n",
            "\n",
            "Accuracy: 94.6969696969697 %\n",
            "\n",
            "Average precision score: 90.14084507042254 %\n",
            "\n",
            "Average recall score: 100.0 %\n",
            "\n",
            "Average F1-score: 94.81481481481481 %\n",
            "\n",
            "Matthews correlation coefficient: 0.8992310071990413\n",
            "\n",
            "Mean absolute error: 0.05303030303030303\n",
            "\n",
            "Confusion matrix:\n",
            "\n"
          ]
        },
        {
          "output_type": "display_data",
          "data": {
            "text/plain": [
              "<Figure size 432x288 with 2 Axes>"
            ],
            "image/png": "[encoded data removed]"
          },
          "metadata": {
            "needs_background": "light"
          }
        },
        {
          "output_type": "stream",
          "name": "stdout",
          "text": [
            "\n",
            "Classification report:\n",
            "\n",
            "              precision    recall  f1-score   support\n",
            "\n",
            "           0       1.00      0.90      0.95      1700\n",
            "           1       0.90      1.00      0.95      1600\n",
            "\n",
            "    accuracy                           0.95      3300\n",
            "   macro avg       0.95      0.95      0.95      3300\n",
            "weighted avg       0.95      0.95      0.95      3300\n",
            "\n",
            "\n",
            "\n",
            "\t\t=============== Tf-idf ===============\n",
            "\n",
            "[#1]\n",
            "\n",
            "* Parameters:\n",
            "\n",
            "- Model: Bernoulli Naive Bayes\n",
            "- alpha: 1.0\n",
            "- binarize: 0.0\n",
            "- class_prior: None\n",
            "- fit_prior: True\n",
            "\n",
            "Accuracy: 94.6969696969697 %\n",
            "\n",
            "Average precision score: 90.14084507042254 %\n",
            "\n",
            "Average recall score: 100.0 %\n",
            "\n",
            "Average F1-score: 94.81481481481481 %\n",
            "\n",
            "Matthews correlation coefficient: 0.8992310071990413\n",
            "\n",
            "Mean absolute error: 0.05303030303030303\n",
            "\n",
            "Confusion matrix:\n",
            "\n"
          ]
        },
        {
          "output_type": "display_data",
          "data": {
            "text/plain": [
              "<Figure size 432x288 with 2 Axes>"
            ],
            "image/png": "[encoded data removed]"
          },
          "metadata": {
            "needs_background": "light"
          }
        },
        {
          "output_type": "stream",
          "name": "stdout",
          "text": [
            "\n",
            "Classification report:\n",
            "\n",
            "              precision    recall  f1-score   support\n",
            "\n",
            "           0       1.00      0.90      0.95      1700\n",
            "           1       0.90      1.00      0.95      1600\n",
            "\n",
            "    accuracy                           0.95      3300\n",
            "   macro avg       0.95      0.95      0.95      3300\n",
            "weighted avg       0.95      0.95      0.95      3300\n",
            "\n",
            "\n",
            "\n",
            "\t\t=============== Word2Vec ===============\n",
            "\n",
            "[#1]\n",
            "\n",
            "* Parameters:\n",
            "\n",
            "- Model: Bernoulli Naive Bayes\n",
            "- alpha: 1.0\n",
            "- binarize: 0.0\n",
            "- class_prior: None\n",
            "- fit_prior: True\n",
            "\n",
            "Accuracy: 48.484848484848484 %\n",
            "\n",
            "Average precision score: 48.484848484848484 %\n",
            "\n",
            "Average recall score: 100.0 %\n",
            "\n",
            "Average F1-score: 65.3061224489796 %\n",
            "\n",
            "Matthews correlation coefficient: 0.0\n",
            "\n",
            "Mean absolute error: 0.5151515151515151\n",
            "\n",
            "Confusion matrix:\n",
            "\n"
          ]
        },
        {
          "output_type": "stream",
          "name": "stderr",
          "text": [
            "/usr/local/lib/python3.7/dist-packages/sklearn/metrics/_classification.py:1318: UndefinedMetricWarning: Precision and F-score are ill-defined and being set to 0.0 in labels with no predicted samples. Use `zero_division` parameter to control this behavior.\n",
            "  _warn_prf(average, modifier, msg_start, len(result))\n",
            "/usr/local/lib/python3.7/dist-packages/sklearn/metrics/_classification.py:1318: UndefinedMetricWarning: Precision and F-score are ill-defined and being set to 0.0 in labels with no predicted samples. Use `zero_division` parameter to control this behavior.\n",
            "  _warn_prf(average, modifier, msg_start, len(result))\n",
            "/usr/local/lib/python3.7/dist-packages/sklearn/metrics/_classification.py:1318: UndefinedMetricWarning: Precision and F-score are ill-defined and being set to 0.0 in labels with no predicted samples. Use `zero_division` parameter to control this behavior.\n",
            "  _warn_prf(average, modifier, msg_start, len(result))\n"
          ]
        },
        {
          "output_type": "display_data",
          "data": {
            "text/plain": [
              "<Figure size 432x288 with 2 Axes>"
            ],
            "image/png": "[encoded data removed]"
          },
          "metadata": {
            "needs_background": "light"
          }
        },
        {
          "output_type": "stream",
          "name": "stdout",
          "text": [
            "\n",
            "Classification report:\n",
            "\n",
            "              precision    recall  f1-score   support\n",
            "\n",
            "           0       0.00      0.00      0.00      1700\n",
            "           1       0.48      1.00      0.65      1600\n",
            "\n",
            "    accuracy                           0.48      3300\n",
            "   macro avg       0.24      0.50      0.33      3300\n",
            "weighted avg       0.24      0.48      0.32      3300\n",
            "\n",
            "\n",
            "\n",
            "\t\t=============== BoW ===============\n",
            "\n",
            "[#1]\n",
            "\n",
            "* Parameters:\n",
            "\n",
            "- Model: Gaussian Naive Bayes\n",
            "- priors: None\n",
            "- var_smoothing: 1e-09\n",
            "\n",
            "Accuracy: 99.63636363636364 %\n",
            "\n",
            "Average precision score: 99.40342682442402 %\n",
            "\n",
            "Average recall score: 99.6875 %\n",
            "\n",
            "Average F1-score: 99.62523422860711 %\n",
            "\n",
            "Matthews correlation coefficient: 0.9927215864106838\n",
            "\n",
            "Mean absolute error: 0.0036363636363636364\n",
            "\n",
            "Confusion matrix:\n",
            "\n"
          ]
        },
        {
          "output_type": "display_data",
          "data": {
            "text/plain": [
              "<Figure size 432x288 with 2 Axes>"
            ],
            "image/png": "[encoded data removed]"
          },
          "metadata": {
            "needs_background": "light"
          }
        },
        {
          "output_type": "stream",
          "name": "stdout",
          "text": [
            "\n",
            "Classification report:\n",
            "\n",
            "              precision    recall  f1-score   support\n",
            "\n",
            "           0       1.00      1.00      1.00      1700\n",
            "           1       1.00      1.00      1.00      1600\n",
            "\n",
            "    accuracy                           1.00      3300\n",
            "   macro avg       1.00      1.00      1.00      3300\n",
            "weighted avg       1.00      1.00      1.00      3300\n",
            "\n",
            "\n",
            "\n",
            "\t\t=============== Tf-idf ===============\n",
            "\n",
            "[#1]\n",
            "\n",
            "* Parameters:\n",
            "\n",
            "- Model: Gaussian Naive Bayes\n",
            "- priors: None\n",
            "- var_smoothing: 1e-09\n",
            "\n",
            "Accuracy: 99.66666666666667 %\n",
            "\n",
            "Average precision score: 99.4059013027471 %\n",
            "\n",
            "Average recall score: 99.8125 %\n",
            "\n",
            "Average F1-score: 99.65678627145085 %\n",
            "\n",
            "Matthews correlation coefficient: 0.993332387447332\n",
            "\n",
            "Mean absolute error: 0.0033333333333333335\n",
            "\n",
            "Confusion matrix:\n",
            "\n"
          ]
        },
        {
          "output_type": "display_data",
          "data": {
            "text/plain": [
              "<Figure size 432x288 with 2 Axes>"
            ],
            "image/png": "[encoded data removed]"
          },
          "metadata": {
            "needs_background": "light"
          }
        },
        {
          "output_type": "stream",
          "name": "stdout",
          "text": [
            "\n",
            "Classification report:\n",
            "\n",
            "              precision    recall  f1-score   support\n",
            "\n",
            "           0       1.00      1.00      1.00      1700\n",
            "           1       1.00      1.00      1.00      1600\n",
            "\n",
            "    accuracy                           1.00      3300\n",
            "   macro avg       1.00      1.00      1.00      3300\n",
            "weighted avg       1.00      1.00      1.00      3300\n",
            "\n",
            "\n",
            "\n",
            "\t\t=============== Word2Vec ===============\n",
            "\n",
            "[#1]\n",
            "\n",
            "* Parameters:\n",
            "\n",
            "- Model: Gaussian Naive Bayes\n",
            "- priors: None\n",
            "- var_smoothing: 1e-09\n",
            "\n",
            "Accuracy: 48.484848484848484 %\n",
            "\n",
            "Average precision score: 48.484848484848484 %\n",
            "\n",
            "Average recall score: 100.0 %\n",
            "\n",
            "Average F1-score: 65.3061224489796 %\n",
            "\n",
            "Matthews correlation coefficient: 0.0\n",
            "\n",
            "Mean absolute error: 0.5151515151515151\n",
            "\n",
            "Confusion matrix:\n",
            "\n"
          ]
        },
        {
          "output_type": "stream",
          "name": "stderr",
          "text": [
            "/usr/local/lib/python3.7/dist-packages/sklearn/metrics/_classification.py:1318: UndefinedMetricWarning: Precision and F-score are ill-defined and being set to 0.0 in labels with no predicted samples. Use `zero_division` parameter to control this behavior.\n",
            "  _warn_prf(average, modifier, msg_start, len(result))\n",
            "/usr/local/lib/python3.7/dist-packages/sklearn/metrics/_classification.py:1318: UndefinedMetricWarning: Precision and F-score are ill-defined and being set to 0.0 in labels with no predicted samples. Use `zero_division` parameter to control this behavior.\n",
            "  _warn_prf(average, modifier, msg_start, len(result))\n",
            "/usr/local/lib/python3.7/dist-packages/sklearn/metrics/_classification.py:1318: UndefinedMetricWarning: Precision and F-score are ill-defined and being set to 0.0 in labels with no predicted samples. Use `zero_division` parameter to control this behavior.\n",
            "  _warn_prf(average, modifier, msg_start, len(result))\n"
          ]
        },
        {
          "output_type": "display_data",
          "data": {
            "text/plain": [
              "<Figure size 432x288 with 2 Axes>"
            ],
            "image/png": "[encoded data removed]"
          },
          "metadata": {
            "needs_background": "light"
          }
        },
        {
          "output_type": "stream",
          "name": "stdout",
          "text": [
            "\n",
            "Classification report:\n",
            "\n",
            "              precision    recall  f1-score   support\n",
            "\n",
            "           0       0.00      0.00      0.00      1700\n",
            "           1       0.48      1.00      0.65      1600\n",
            "\n",
            "    accuracy                           0.48      3300\n",
            "   macro avg       0.24      0.50      0.33      3300\n",
            "weighted avg       0.24      0.48      0.32      3300\n",
            "\n",
            "\n",
            "\n",
            "\t\t=============== BoW ===============\n",
            "\n",
            "[#1]\n",
            "\n",
            "* Parameters:\n",
            "\n",
            "- Model: Multinomial Naive Bayes\n",
            "- alpha: 1.0\n",
            "- class_prior: None\n",
            "- fit_prior: True\n",
            "\n",
            "Accuracy: 98.0909090909091 %\n",
            "\n",
            "Average precision score: 96.26328839936434 %\n",
            "\n",
            "Average recall score: 99.875 %\n",
            "\n",
            "Average F1-score: 98.06689168456582 %\n",
            "\n",
            "Matthews correlation coefficient: 0.9624397749229412\n",
            "\n",
            "Mean absolute error: 0.019090909090909092\n",
            "\n",
            "Confusion matrix:\n",
            "\n"
          ]
        },
        {
          "output_type": "display_data",
          "data": {
            "text/plain": [
              "<Figure size 432x288 with 2 Axes>"
            ],
            "image/png": "[encoded data removed]"
          },
          "metadata": {
            "needs_background": "light"
          }
        },
        {
          "output_type": "stream",
          "name": "stdout",
          "text": [
            "\n",
            "Classification report:\n",
            "\n",
            "              precision    recall  f1-score   support\n",
            "\n",
            "           0       1.00      0.96      0.98      1700\n",
            "           1       0.96      1.00      0.98      1600\n",
            "\n",
            "    accuracy                           0.98      3300\n",
            "   macro avg       0.98      0.98      0.98      3300\n",
            "weighted avg       0.98      0.98      0.98      3300\n",
            "\n",
            "\n",
            "\n",
            "\t\t=============== Tf-idf ===============\n",
            "\n",
            "[#1]\n",
            "\n",
            "* Parameters:\n",
            "\n",
            "- Model: Multinomial Naive Bayes\n",
            "- alpha: 1.0\n",
            "- class_prior: None\n",
            "- fit_prior: True\n",
            "\n",
            "Accuracy: 98.24242424242425 %\n",
            "\n",
            "Average precision score: 96.55410666520098 %\n",
            "\n",
            "Average recall score: 99.875 %\n",
            "\n",
            "Average F1-score: 98.21757836508912 %\n",
            "\n",
            "Matthews correlation coefficient: 0.9653681200034526\n",
            "\n",
            "Mean absolute error: 0.017575757575757574\n",
            "\n",
            "Confusion matrix:\n",
            "\n"
          ]
        },
        {
          "output_type": "display_data",
          "data": {
            "text/plain": [
              "<Figure size 432x288 with 2 Axes>"
            ],
            "image/png": "[encoded data removed]"
          },
          "metadata": {
            "needs_background": "light"
          }
        },
        {
          "output_type": "stream",
          "name": "stdout",
          "text": [
            "\n",
            "Classification report:\n",
            "\n",
            "              precision    recall  f1-score   support\n",
            "\n",
            "           0       1.00      0.97      0.98      1700\n",
            "           1       0.97      1.00      0.98      1600\n",
            "\n",
            "    accuracy                           0.98      3300\n",
            "   macro avg       0.98      0.98      0.98      3300\n",
            "weighted avg       0.98      0.98      0.98      3300\n",
            "\n",
            "\n",
            "\n",
            "\t\t=============== Word2Vec ===============\n",
            "\n",
            "Negative values in data passed to MultinomialNB (input X)\n",
            "\t--------------- K-FOLD ---------------\n",
            "\n",
            "- n_folds: 10\n",
            "\n",
            "\t\t=============== BoW ===============\n",
            "\n",
            "[#1]\n",
            "\n",
            "* Parameters:\n",
            "\n",
            "- Model: Bernoulli Naive Bayes\n",
            "- alpha: 1.0\n",
            "- binarize: 0.0\n",
            "- class_prior: None\n",
            "- fit_prior: True\n",
            "\n",
            "Accuracy: 94.67272727272727 %\n",
            "\n",
            "Average precision score: 90.13135735938026 %\n",
            "\n",
            "Average recall score: 100.0 %\n",
            "\n",
            "Average F1-score: 94.80956598759964 %\n",
            "\n",
            "Matthews correlation coefficient: 0.8987764453484207\n",
            "\n",
            "Mean absolute error: 0.05327272727272727\n",
            "\n",
            "Confusion matrix:\n",
            "\n"
          ]
        },
        {
          "output_type": "display_data",
          "data": {
            "text/plain": [
              "<Figure size 432x288 with 2 Axes>"
            ],
            "image/png": "[encoded data removed]"
          },
          "metadata": {
            "needs_background": "light"
          }
        },
        {
          "output_type": "stream",
          "name": "stdout",
          "text": [
            "\n",
            "Classification report:\n",
            "\n",
            "              precision    recall  f1-score   support\n",
            "\n",
            "           0       1.00      0.90      0.95      5648\n",
            "           1       0.90      1.00      0.95      5352\n",
            "\n",
            "    accuracy                           0.95     11000\n",
            "   macro avg       0.95      0.95      0.95     11000\n",
            "weighted avg       0.95      0.95      0.95     11000\n",
            "\n",
            "\n",
            "\n",
            "\t\t=============== Tf-idf ===============\n",
            "\n",
            "[#1]\n",
            "\n",
            "* Parameters:\n",
            "\n",
            "- Model: Bernoulli Naive Bayes\n",
            "- alpha: 1.0\n",
            "- binarize: 0.0\n",
            "- class_prior: None\n",
            "- fit_prior: True\n",
            "\n",
            "Accuracy: 94.67272727272727 %\n",
            "\n",
            "Average precision score: 90.13135735938026 %\n",
            "\n",
            "Average recall score: 100.0 %\n",
            "\n",
            "Average F1-score: 94.80956598759964 %\n",
            "\n",
            "Matthews correlation coefficient: 0.8987764453484207\n",
            "\n",
            "Mean absolute error: 0.05327272727272727\n",
            "\n",
            "Confusion matrix:\n",
            "\n"
          ]
        },
        {
          "output_type": "display_data",
          "data": {
            "text/plain": [
              "<Figure size 432x288 with 2 Axes>"
            ],
            "image/png": "[encoded data removed]"
          },
          "metadata": {
            "needs_background": "light"
          }
        },
        {
          "output_type": "stream",
          "name": "stdout",
          "text": [
            "\n",
            "Classification report:\n",
            "\n",
            "              precision    recall  f1-score   support\n",
            "\n",
            "           0       1.00      0.90      0.95      5648\n",
            "           1       0.90      1.00      0.95      5352\n",
            "\n",
            "    accuracy                           0.95     11000\n",
            "   macro avg       0.95      0.95      0.95     11000\n",
            "weighted avg       0.95      0.95      0.95     11000\n",
            "\n",
            "\n",
            "\n",
            "\t\t=============== Word2Vec ===============\n",
            "\n",
            "[#1]\n",
            "\n",
            "* Parameters:\n",
            "\n",
            "- Model: Bernoulli Naive Bayes\n",
            "- alpha: 1.0\n",
            "- binarize: 0.0\n",
            "- class_prior: None\n",
            "- fit_prior: True\n",
            "\n",
            "Accuracy: 54.38181818181819 %\n",
            "\n",
            "Average precision score: 50.931069679780435 %\n",
            "\n",
            "Average recall score: 11.86472346786248 %\n",
            "\n",
            "Average F1-score: 20.197201017811707 %\n",
            "\n",
            "Matthews correlation coefficient: 0.11707240893333339\n",
            "\n",
            "Mean absolute error: 0.4561818181818182\n",
            "\n",
            "Confusion matrix:\n",
            "\n"
          ]
        },
        {
          "output_type": "display_data",
          "data": {
            "text/plain": [
              "<Figure size 432x288 with 2 Axes>"
            ],
            "image/png": "[encoded data removed]"
          },
          "metadata": {
            "needs_background": "light"
          }
        },
        {
          "output_type": "stream",
          "name": "stdout",
          "text": [
            "\n",
            "Classification report:\n",
            "\n",
            "              precision    recall  f1-score   support\n",
            "\n",
            "           0       0.53      0.95      0.68      5648\n",
            "           1       0.68      0.12      0.20      5352\n",
            "\n",
            "    accuracy                           0.54     11000\n",
            "   macro avg       0.60      0.53      0.44     11000\n",
            "weighted avg       0.60      0.54      0.45     11000\n",
            "\n",
            "\n",
            "\n",
            "\t\t=============== BoW ===============\n",
            "\n",
            "[#1]\n",
            "\n",
            "* Parameters:\n",
            "\n",
            "- Model: Gaussian Naive Bayes\n",
            "- priors: None\n",
            "- var_smoothing: 1e-09\n",
            "\n",
            "Accuracy: 99.6 %\n",
            "\n",
            "Average precision score: 99.36170500809797 %\n",
            "\n",
            "Average recall score: 99.62630792227205 %\n",
            "\n",
            "Average F1-score: 99.58909226746357 %\n",
            "\n",
            "Matthews correlation coefficient: 0.9919946225106788\n",
            "\n",
            "Mean absolute error: 0.004\n",
            "\n",
            "Confusion matrix:\n",
            "\n"
          ]
        },
        {
          "output_type": "display_data",
          "data": {
            "text/plain": [
              "<Figure size 432x288 with 2 Axes>"
            ],
            "image/png": "[encoded data removed]"
          },
          "metadata": {
            "needs_background": "light"
          }
        },
        {
          "output_type": "stream",
          "name": "stdout",
          "text": [
            "\n",
            "Classification report:\n",
            "\n",
            "              precision    recall  f1-score   support\n",
            "\n",
            "           0       1.00      1.00      1.00      5648\n",
            "           1       1.00      1.00      1.00      5352\n",
            "\n",
            "    accuracy                           1.00     11000\n",
            "   macro avg       1.00      1.00      1.00     11000\n",
            "weighted avg       1.00      1.00      1.00     11000\n",
            "\n",
            "\n",
            "\n",
            "\t\t=============== Tf-idf ===============\n",
            "\n",
            "[#1]\n",
            "\n",
            "* Parameters:\n",
            "\n",
            "- Model: Gaussian Naive Bayes\n",
            "- priors: None\n",
            "- var_smoothing: 1e-09\n",
            "\n",
            "Accuracy: 99.57272727272726 %\n",
            "\n",
            "Average precision score: 99.34185259595019 %\n",
            "\n",
            "Average recall score: 99.55156950672645 %\n",
            "\n",
            "Average F1-score: 99.56087078389237 %\n",
            "\n",
            "Matthews correlation coefficient: 0.9914483277556853\n",
            "\n",
            "Mean absolute error: 0.004272727272727273\n",
            "\n",
            "Confusion matrix:\n",
            "\n"
          ]
        },
        {
          "output_type": "display_data",
          "data": {
            "text/plain": [
              "<Figure size 432x288 with 2 Axes>"
            ],
            "image/png": "[encoded data removed]"
          },
          "metadata": {
            "needs_background": "light"
          }
        },
        {
          "output_type": "stream",
          "name": "stdout",
          "text": [
            "\n",
            "Classification report:\n",
            "\n",
            "              precision    recall  f1-score   support\n",
            "\n",
            "           0       1.00      1.00      1.00      5648\n",
            "           1       1.00      1.00      1.00      5352\n",
            "\n",
            "    accuracy                           1.00     11000\n",
            "   macro avg       1.00      1.00      1.00     11000\n",
            "weighted avg       1.00      1.00      1.00     11000\n",
            "\n",
            "\n",
            "\n",
            "\t\t=============== Word2Vec ===============\n",
            "\n",
            "[#1]\n",
            "\n",
            "* Parameters:\n",
            "\n",
            "- Model: Gaussian Naive Bayes\n",
            "- priors: None\n",
            "- var_smoothing: 1e-09\n",
            "\n",
            "Accuracy: 76.28181818181818 %\n",
            "\n",
            "Average precision score: 71.36044888380368 %\n",
            "\n",
            "Average recall score: 61.86472346786248 %\n",
            "\n",
            "Average F1-score: 71.73653991983534 %\n",
            "\n",
            "Matthews correlation coefficient: 0.5419664417397538\n",
            "\n",
            "Mean absolute error: 0.2371818181818182\n",
            "\n",
            "Confusion matrix:\n",
            "\n"
          ]
        },
        {
          "output_type": "display_data",
          "data": {
            "text/plain": [
              "<Figure size 432x288 with 2 Axes>"
            ],
            "image/png": "[encoded data removed]"
          },
          "metadata": {
            "needs_background": "light"
          }
        },
        {
          "output_type": "stream",
          "name": "stdout",
          "text": [
            "\n",
            "Classification report:\n",
            "\n",
            "              precision    recall  f1-score   support\n",
            "\n",
            "           0       0.71      0.90      0.80      5648\n",
            "           1       0.85      0.62      0.72      5352\n",
            "\n",
            "    accuracy                           0.76     11000\n",
            "   macro avg       0.78      0.76      0.76     11000\n",
            "weighted avg       0.78      0.76      0.76     11000\n",
            "\n",
            "\n",
            "\n",
            "\t\t=============== BoW ===============\n",
            "\n",
            "[#1]\n",
            "\n",
            "* Parameters:\n",
            "\n",
            "- Model: Multinomial Naive Bayes\n",
            "- alpha: 1.0\n",
            "- class_prior: None\n",
            "- fit_prior: True\n",
            "\n",
            "Accuracy: 98.12727272727273 %\n",
            "\n",
            "Average precision score: 96.32470579017665 %\n",
            "\n",
            "Average recall score: 99.9252615844544 %\n",
            "\n",
            "Average F1-score: 98.11043845166026 %\n",
            "\n",
            "Matthews correlation coefficient: 0.9631786514072334\n",
            "\n",
            "Mean absolute error: 0.018727272727272728\n",
            "\n",
            "Confusion matrix:\n",
            "\n"
          ]
        },
        {
          "output_type": "display_data",
          "data": {
            "text/plain": [
              "<Figure size 432x288 with 2 Axes>"
            ],
            "image/png": "[encoded data removed]"
          },
          "metadata": {
            "needs_background": "light"
          }
        },
        {
          "output_type": "stream",
          "name": "stdout",
          "text": [
            "\n",
            "Classification report:\n",
            "\n",
            "              precision    recall  f1-score   support\n",
            "\n",
            "           0       1.00      0.96      0.98      5648\n",
            "           1       0.96      1.00      0.98      5352\n",
            "\n",
            "    accuracy                           0.98     11000\n",
            "   macro avg       0.98      0.98      0.98     11000\n",
            "weighted avg       0.98      0.98      0.98     11000\n",
            "\n",
            "\n",
            "\n",
            "\t\t=============== Tf-idf ===============\n",
            "\n",
            "[#1]\n",
            "\n",
            "* Parameters:\n",
            "\n",
            "- Model: Multinomial Naive Bayes\n",
            "- alpha: 1.0\n",
            "- class_prior: None\n",
            "- fit_prior: True\n",
            "\n",
            "Accuracy: 98.31818181818181 %\n",
            "\n",
            "Average precision score: 96.69833442877228 %\n",
            "\n",
            "Average recall score: 99.906576980568 %\n",
            "\n",
            "Average F1-score: 98.29947605478444 %\n",
            "\n",
            "Matthews correlation coefficient: 0.9668574953693377\n",
            "\n",
            "Mean absolute error: 0.01681818181818182\n",
            "\n",
            "Confusion matrix:\n",
            "\n"
          ]
        },
        {
          "output_type": "display_data",
          "data": {
            "text/plain": [
              "<Figure size 432x288 with 2 Axes>"
            ],
            "image/png": "[encoded data removed]"
          },
          "metadata": {
            "needs_background": "light"
          }
        },
        {
          "output_type": "stream",
          "name": "stdout",
          "text": [
            "\n",
            "Classification report:\n",
            "\n",
            "              precision    recall  f1-score   support\n",
            "\n",
            "           0       1.00      0.97      0.98      5648\n",
            "           1       0.97      1.00      0.98      5352\n",
            "\n",
            "    accuracy                           0.98     11000\n",
            "   macro avg       0.98      0.98      0.98     11000\n",
            "weighted avg       0.98      0.98      0.98     11000\n",
            "\n",
            "\n",
            "\n",
            "\t\t=============== Word2Vec ===============\n",
            "\n",
            "Negative values in data passed to MultinomialNB (input X)\n"
          ]
        }
      ]
    }
  ],
  "metadata": {
    "kernelspec": {
      "display_name": "Python 3 (ipykernel)",
      "language": "python",
      "name": "python3"
    },
    "language_info": {
      "codemirror_mode": {
        "name": "ipython",
        "version": 3
      },
      "file_extension": ".py",
      "mimetype": "text/x-python",
      "name": "python",
      "nbconvert_exporter": "python",
      "pygments_lexer": "ipython3",
      "version": "3.9.7"
    },
    "colab": {
      "name": "Naive_Bayes.ipynb",
      "provenance": [],
      "collapsed_sections": []
    }
  },
  "nbformat": 4,
  "nbformat_minor": 5
}
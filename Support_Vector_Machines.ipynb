{
  "cells": [
    {
      "cell_type": "code",
      "execution_count": 1,
      "id": "47f2fd8c",
      "metadata": {
        "id": "47f2fd8c"
      },
      "outputs": [],
      "source": [
        "from utils.utils import get_json_content\n",
        "from utils.learners import execute_a_series_of_support_vector_machine_learnings"
      ]
    },
    {
      "cell_type": "markdown",
      "id": "16c39265",
      "metadata": {
        "id": "16c39265"
      },
      "source": [
        "# Support Vector Machine Training"
      ]
    },
    {
      "cell_type": "markdown",
      "id": "eb1811bd",
      "metadata": {
        "id": "eb1811bd"
      },
      "source": [
        "## File: 'headlines_001.json'"
      ]
    },
    {
      "cell_type": "markdown",
      "id": "56597284",
      "metadata": {
        "id": "56597284"
      },
      "source": [
        "Reads the data."
      ]
    },
    {
      "cell_type": "code",
      "execution_count": 2,
      "id": "fded15dd",
      "metadata": {
        "colab": {
          "base_uri": "https://localhost:8080/"
        },
        "id": "fded15dd",
        "outputId": "271c8ada-ecc0-4110-d3ed-980ec2e1d667"
      },
      "outputs": [
        {
          "output_type": "stream",
          "name": "stdout",
          "text": [
            "LENGTH - headline: 1000; is_clickbait: 1000\n"
          ]
        }
      ],
      "source": [
        "# Reads the data from the file\n",
        "X, Y = get_json_content(i=0)\n",
        "\n",
        "# Prints the dataset size\n",
        "print(f\"LENGTH - headline: {len(X)}; is_clickbait: {len(Y)}\")"
      ]
    },
    {
      "cell_type": "markdown",
      "id": "c16def4a",
      "metadata": {
        "id": "c16def4a"
      },
      "source": [
        "Executes a series of learnings."
      ]
    },
    {
      "cell_type": "code",
      "execution_count": 3,
      "id": "df731dd7",
      "metadata": {
        "scrolled": false,
        "colab": {
          "base_uri": "https://localhost:8080/",
          "height": 1000
        },
        "id": "df731dd7",
        "outputId": "0d9dfedd-87b8-4687-c567-6a1b96bffbcc"
      },
      "outputs": [
        {
          "output_type": "stream",
          "name": "stdout",
          "text": [
            "\t--------------- TRAIN-TEST SPLIT ---------------\n",
            "\n",
            "- test_size: 0.3\n",
            "\n",
            "\t\t=============== BoW ===============\n",
            "\n",
            "Precomputed matrix must be a square matrix. Input is a 700x3288 matrix.\n",
            "[#1]\n",
            "\n",
            "* Parameters:\n",
            "\n",
            "- Model: C-Support Vector Classification\n",
            "- C: 1.0\n",
            "- break_ties: False\n",
            "- cache_size: 200\n",
            "- class_weight: None\n",
            "- coef0: 0.0\n",
            "- decision_function_shape: ovr\n",
            "- degree: 3\n",
            "- gamma: scale\n",
            "- kernel: sigmoid\n",
            "- max_iter: -1\n",
            "- probability: False\n",
            "- random_state: None\n",
            "- shrinking: True\n",
            "- tol: 0.001\n",
            "- verbose: False\n",
            "\n",
            "Accuracy: 68.0 %\n",
            "\n",
            "Average precision score: 61.547034047034046 %\n",
            "\n",
            "Average recall score: 69.5945945945946 %\n",
            "\n",
            "Average F1-score: 68.21192052980133 %\n",
            "\n",
            "Matthews correlation coefficient: 0.3605157976229828\n",
            "\n",
            "Mean absolute error: 0.32\n",
            "\n",
            "Confusion matrix:\n",
            "\n"
          ]
        },
        {
          "output_type": "display_data",
          "data": {
            "text/plain": [
              "<Figure size 432x288 with 2 Axes>"
            ],
            "image/png": "[encoded data removed]"
          },
          "metadata": {
            "needs_background": "light"
          }
        },
        {
          "output_type": "stream",
          "name": "stdout",
          "text": [
            "\n",
            "Classification report:\n",
            "\n",
            "              precision    recall  f1-score   support\n",
            "\n",
            "           0       0.69      0.66      0.68       152\n",
            "           1       0.67      0.70      0.68       148\n",
            "\n",
            "    accuracy                           0.68       300\n",
            "   macro avg       0.68      0.68      0.68       300\n",
            "weighted avg       0.68      0.68      0.68       300\n",
            "\n",
            "\n",
            "[#2]\n",
            "\n",
            "* Parameters:\n",
            "\n",
            "- Model: C-Support Vector Classification\n",
            "- C: 1.0\n",
            "- break_ties: False\n",
            "- cache_size: 200\n",
            "- class_weight: None\n",
            "- coef0: 0.0\n",
            "- decision_function_shape: ovr\n",
            "- degree: 3\n",
            "- gamma: scale\n",
            "- kernel: poly\n",
            "- max_iter: -1\n",
            "- probability: False\n",
            "- random_state: None\n",
            "- shrinking: True\n",
            "- tol: 0.001\n",
            "- verbose: False\n",
            "\n",
            "Accuracy: 57.99999999999999 %\n",
            "\n",
            "Average precision score: 53.964089089089086 %\n",
            "\n",
            "Average recall score: 80.4054054054054 %\n",
            "\n",
            "Average F1-score: 65.38461538461539 %\n",
            "\n",
            "Matthews correlation coefficient: 0.1847236344634873\n",
            "\n",
            "Mean absolute error: 0.42\n",
            "\n",
            "Confusion matrix:\n",
            "\n"
          ]
        },
        {
          "output_type": "display_data",
          "data": {
            "text/plain": [
              "<Figure size 432x288 with 2 Axes>"
            ],
            "image/png": "[encoded data removed]"
          },
          "metadata": {
            "needs_background": "light"
          }
        },
        {
          "output_type": "stream",
          "name": "stdout",
          "text": [
            "\n",
            "Classification report:\n",
            "\n",
            "              precision    recall  f1-score   support\n",
            "\n",
            "           0       0.65      0.36      0.47       152\n",
            "           1       0.55      0.80      0.65       148\n",
            "\n",
            "    accuracy                           0.58       300\n",
            "   macro avg       0.60      0.58      0.56       300\n",
            "weighted avg       0.60      0.58      0.56       300\n",
            "\n",
            "\n",
            "[#3]\n",
            "\n",
            "* Parameters:\n",
            "\n",
            "- Model: C-Support Vector Classification\n",
            "- C: 1.0\n",
            "- break_ties: False\n",
            "- cache_size: 200\n",
            "- class_weight: None\n",
            "- coef0: 0.0\n",
            "- decision_function_shape: ovr\n",
            "- degree: 3\n",
            "- gamma: scale\n",
            "- kernel: linear\n",
            "- max_iter: -1\n",
            "- probability: False\n",
            "- random_state: None\n",
            "- shrinking: True\n",
            "- tol: 0.001\n",
            "- verbose: False\n",
            "\n",
            "Accuracy: 67.33333333333333 %\n",
            "\n",
            "Average precision score: 60.863530196863536 %\n",
            "\n",
            "Average recall score: 71.62162162162163 %\n",
            "\n",
            "Average F1-score: 68.38709677419355 %\n",
            "\n",
            "Matthews correlation coefficient: 0.3488824629836733\n",
            "\n",
            "Mean absolute error: 0.32666666666666666\n",
            "\n",
            "Confusion matrix:\n",
            "\n"
          ]
        },
        {
          "output_type": "display_data",
          "data": {
            "text/plain": [
              "<Figure size 432x288 with 2 Axes>"
            ],
            "image/png": "[encoded data removed]"
          },
          "metadata": {
            "needs_background": "light"
          }
        },
        {
          "output_type": "stream",
          "name": "stdout",
          "text": [
            "\n",
            "Classification report:\n",
            "\n",
            "              precision    recall  f1-score   support\n",
            "\n",
            "           0       0.70      0.63      0.66       152\n",
            "           1       0.65      0.72      0.68       148\n",
            "\n",
            "    accuracy                           0.67       300\n",
            "   macro avg       0.67      0.67      0.67       300\n",
            "weighted avg       0.68      0.67      0.67       300\n",
            "\n",
            "\n",
            "\n",
            "\t\t=============== Tf-idf ===============\n",
            "\n",
            "Precomputed matrix must be a square matrix. Input is a 700x3288 matrix.\n",
            "[#1]\n",
            "\n",
            "* Parameters:\n",
            "\n",
            "- Model: C-Support Vector Classification\n",
            "- C: 1.0\n",
            "- break_ties: False\n",
            "- cache_size: 200\n",
            "- class_weight: None\n",
            "- coef0: 0.0\n",
            "- decision_function_shape: ovr\n",
            "- degree: 3\n",
            "- gamma: scale\n",
            "- kernel: poly\n",
            "- max_iter: -1\n",
            "- probability: False\n",
            "- random_state: None\n",
            "- shrinking: True\n",
            "- tol: 0.001\n",
            "- verbose: False\n",
            "\n",
            "Accuracy: 72.66666666666667 %\n",
            "\n",
            "Average precision score: 65.20777027027026 %\n",
            "\n",
            "Average recall score: 81.75675675675676 %\n",
            "\n",
            "Average F1-score: 74.69135802469134 %\n",
            "\n",
            "Matthews correlation coefficient: 0.4626885681782484\n",
            "\n",
            "Mean absolute error: 0.2733333333333333\n",
            "\n",
            "Confusion matrix:\n",
            "\n"
          ]
        },
        {
          "output_type": "display_data",
          "data": {
            "text/plain": [
              "<Figure size 432x288 with 2 Axes>"
            ],
            "image/png": "[encoded data removed]"
          },
          "metadata": {
            "needs_background": "light"
          }
        },
        {
          "output_type": "stream",
          "name": "stdout",
          "text": [
            "\n",
            "Classification report:\n",
            "\n",
            "              precision    recall  f1-score   support\n",
            "\n",
            "           0       0.78      0.64      0.70       152\n",
            "           1       0.69      0.82      0.75       148\n",
            "\n",
            "    accuracy                           0.73       300\n",
            "   macro avg       0.73      0.73      0.72       300\n",
            "weighted avg       0.74      0.73      0.72       300\n",
            "\n",
            "\n",
            "\n",
            "\t\t=============== Word2Vec ===============\n",
            "\n"
          ]
        },
        {
          "output_type": "stream",
          "name": "stderr",
          "text": [
            "/usr/local/lib/python3.7/dist-packages/sklearn/metrics/_classification.py:1318: UndefinedMetricWarning: Precision and F-score are ill-defined and being set to 0.0 in labels with no predicted samples. Use `zero_division` parameter to control this behavior.\n",
            "  _warn_prf(average, modifier, msg_start, len(result))\n",
            "/usr/local/lib/python3.7/dist-packages/sklearn/metrics/_classification.py:1318: UndefinedMetricWarning: Precision and F-score are ill-defined and being set to 0.0 in labels with no predicted samples. Use `zero_division` parameter to control this behavior.\n",
            "  _warn_prf(average, modifier, msg_start, len(result))\n",
            "/usr/local/lib/python3.7/dist-packages/sklearn/metrics/_classification.py:1318: UndefinedMetricWarning: Precision and F-score are ill-defined and being set to 0.0 in labels with no predicted samples. Use `zero_division` parameter to control this behavior.\n",
            "  _warn_prf(average, modifier, msg_start, len(result))\n",
            "/usr/local/lib/python3.7/dist-packages/sklearn/metrics/_classification.py:1318: UndefinedMetricWarning: Precision and F-score are ill-defined and being set to 0.0 in labels with no predicted samples. Use `zero_division` parameter to control this behavior.\n",
            "  _warn_prf(average, modifier, msg_start, len(result))\n",
            "/usr/local/lib/python3.7/dist-packages/sklearn/metrics/_classification.py:1318: UndefinedMetricWarning: Precision and F-score are ill-defined and being set to 0.0 in labels with no predicted samples. Use `zero_division` parameter to control this behavior.\n",
            "  _warn_prf(average, modifier, msg_start, len(result))\n",
            "/usr/local/lib/python3.7/dist-packages/sklearn/metrics/_classification.py:1318: UndefinedMetricWarning: Precision and F-score are ill-defined and being set to 0.0 in labels with no predicted samples. Use `zero_division` parameter to control this behavior.\n",
            "  _warn_prf(average, modifier, msg_start, len(result))\n"
          ]
        },
        {
          "output_type": "stream",
          "name": "stdout",
          "text": [
            "Precomputed matrix must be a square matrix. Input is a 700x50 matrix.\n",
            "[#1]\n",
            "\n",
            "* Parameters:\n",
            "\n",
            "- Model: C-Support Vector Classification\n",
            "- C: 1.0\n",
            "- break_ties: False\n",
            "- cache_size: 200\n",
            "- class_weight: None\n",
            "- coef0: 0.0\n",
            "- decision_function_shape: ovr\n",
            "- degree: 3\n",
            "- gamma: scale\n",
            "- kernel: poly\n",
            "- max_iter: -1\n",
            "- probability: False\n",
            "- random_state: None\n",
            "- shrinking: True\n",
            "- tol: 0.001\n",
            "- verbose: False\n",
            "\n",
            "Accuracy: 54.666666666666664 %\n",
            "\n",
            "Average precision score: 52.07411957411957 %\n",
            "\n",
            "Average recall score: 93.24324324324324 %\n",
            "\n",
            "Average F1-score: 66.99029126213591 %\n",
            "\n",
            "Matthews correlation coefficient: 0.1592124811828634\n",
            "\n",
            "Mean absolute error: 0.4533333333333333\n",
            "\n",
            "Confusion matrix:\n",
            "\n"
          ]
        },
        {
          "output_type": "display_data",
          "data": {
            "text/plain": [
              "<Figure size 432x288 with 2 Axes>"
            ],
            "image/png": "[encoded data removed]"
          },
          "metadata": {
            "needs_background": "light"
          }
        },
        {
          "output_type": "stream",
          "name": "stdout",
          "text": [
            "\n",
            "Classification report:\n",
            "\n",
            "              precision    recall  f1-score   support\n",
            "\n",
            "           0       0.72      0.17      0.28       152\n",
            "           1       0.52      0.93      0.67       148\n",
            "\n",
            "    accuracy                           0.55       300\n",
            "   macro avg       0.62      0.55      0.47       300\n",
            "weighted avg       0.62      0.55      0.47       300\n",
            "\n",
            "\n",
            "[#2]\n",
            "\n",
            "* Parameters:\n",
            "\n",
            "- Model: C-Support Vector Classification\n",
            "- C: 1.0\n",
            "- break_ties: False\n",
            "- cache_size: 200\n",
            "- class_weight: None\n",
            "- coef0: 0.0\n",
            "- decision_function_shape: ovr\n",
            "- degree: 3\n",
            "- gamma: scale\n",
            "- kernel: linear\n",
            "- max_iter: -1\n",
            "- probability: False\n",
            "- random_state: None\n",
            "- shrinking: True\n",
            "- tol: 0.001\n",
            "- verbose: False\n",
            "\n",
            "Accuracy: 49.333333333333336 %\n",
            "\n",
            "Average precision score: 49.333333333333336 %\n",
            "\n",
            "Average recall score: 100.0 %\n",
            "\n",
            "Average F1-score: 66.07142857142857 %\n",
            "\n",
            "Matthews correlation coefficient: 0.0\n",
            "\n",
            "Mean absolute error: 0.5066666666666667\n",
            "\n",
            "Confusion matrix:\n",
            "\n"
          ]
        },
        {
          "output_type": "display_data",
          "data": {
            "text/plain": [
              "<Figure size 432x288 with 2 Axes>"
            ],
            "image/png": "[encoded data removed]"
          },
          "metadata": {
            "needs_background": "light"
          }
        },
        {
          "output_type": "stream",
          "name": "stdout",
          "text": [
            "\n",
            "Classification report:\n",
            "\n",
            "              precision    recall  f1-score   support\n",
            "\n",
            "           0       0.00      0.00      0.00       152\n",
            "           1       0.49      1.00      0.66       148\n",
            "\n",
            "    accuracy                           0.49       300\n",
            "   macro avg       0.25      0.50      0.33       300\n",
            "weighted avg       0.24      0.49      0.33       300\n",
            "\n",
            "\n",
            "\t--------------- K-FOLD ---------------\n",
            "\n",
            "- n_folds: 10\n",
            "\n",
            "\t\t=============== BoW ===============\n",
            "\n",
            "X should be a square kernel matrix\n",
            "[#1]\n",
            "\n",
            "* Parameters:\n",
            "\n",
            "- Model: C-Support Vector Classification\n",
            "- C: 1.0\n",
            "- break_ties: False\n",
            "- cache_size: 200\n",
            "- class_weight: None\n",
            "- coef0: 0.0\n",
            "- decision_function_shape: ovr\n",
            "- degree: 3\n",
            "- gamma: scale\n",
            "- kernel: linear\n",
            "- max_iter: -1\n",
            "- probability: False\n",
            "- random_state: None\n",
            "- shrinking: True\n",
            "- tol: 0.001\n",
            "- verbose: False\n",
            "\n",
            "Accuracy: 76.6 %\n",
            "\n",
            "Average precision score: 70.54959016393443 %\n",
            "\n",
            "Average recall score: 75.4 %\n",
            "\n",
            "Average F1-score: 76.31578947368422 %\n",
            "\n",
            "Matthews correlation coefficient: 0.5321532822210989\n",
            "\n",
            "Mean absolute error: 0.234\n",
            "\n",
            "Confusion matrix:\n",
            "\n"
          ]
        },
        {
          "output_type": "display_data",
          "data": {
            "text/plain": [
              "<Figure size 432x288 with 2 Axes>"
            ],
            "image/png": "[encoded data removed]"
          },
          "metadata": {
            "needs_background": "light"
          }
        },
        {
          "output_type": "stream",
          "name": "stdout",
          "text": [
            "\n",
            "Classification report:\n",
            "\n",
            "              precision    recall  f1-score   support\n",
            "\n",
            "           0       0.76      0.78      0.77       500\n",
            "           1       0.77      0.75      0.76       500\n",
            "\n",
            "    accuracy                           0.77      1000\n",
            "   macro avg       0.77      0.77      0.77      1000\n",
            "weighted avg       0.77      0.77      0.77      1000\n",
            "\n",
            "\n",
            "[#2]\n",
            "\n",
            "* Parameters:\n",
            "\n",
            "- Model: C-Support Vector Classification\n",
            "- C: 1.0\n",
            "- break_ties: False\n",
            "- cache_size: 200\n",
            "- class_weight: None\n",
            "- coef0: 0.0\n",
            "- decision_function_shape: ovr\n",
            "- degree: 3\n",
            "- gamma: scale\n",
            "- kernel: poly\n",
            "- max_iter: -1\n",
            "- probability: False\n",
            "- random_state: None\n",
            "- shrinking: True\n",
            "- tol: 0.001\n",
            "- verbose: False\n",
            "\n",
            "Accuracy: 67.7 %\n",
            "\n",
            "Average precision score: 61.38061389337641 %\n",
            "\n",
            "Average recall score: 79.60000000000001 %\n",
            "\n",
            "Average F1-score: 71.13494191242181 %\n",
            "\n",
            "Matthews correlation coefficient: 0.3644730776397911\n",
            "\n",
            "Mean absolute error: 0.323\n",
            "\n",
            "Confusion matrix:\n",
            "\n"
          ]
        },
        {
          "output_type": "display_data",
          "data": {
            "text/plain": [
              "<Figure size 432x288 with 2 Axes>"
            ],
            "image/png": "[encoded data removed]"
          },
          "metadata": {
            "needs_background": "light"
          }
        },
        {
          "output_type": "stream",
          "name": "stdout",
          "text": [
            "\n",
            "Classification report:\n",
            "\n",
            "              precision    recall  f1-score   support\n",
            "\n",
            "           0       0.73      0.56      0.63       500\n",
            "           1       0.64      0.80      0.71       500\n",
            "\n",
            "    accuracy                           0.68      1000\n",
            "   macro avg       0.69      0.68      0.67      1000\n",
            "weighted avg       0.69      0.68      0.67      1000\n",
            "\n",
            "\n",
            "\n",
            "\t\t=============== Tf-idf ===============\n",
            "\n",
            "X should be a square kernel matrix\n",
            "[#1]\n",
            "\n",
            "* Parameters:\n",
            "\n",
            "- Model: C-Support Vector Classification\n",
            "- C: 1.0\n",
            "- break_ties: False\n",
            "- cache_size: 200\n",
            "- class_weight: None\n",
            "- coef0: 0.0\n",
            "- decision_function_shape: ovr\n",
            "- degree: 3\n",
            "- gamma: scale\n",
            "- kernel: poly\n",
            "- max_iter: -1\n",
            "- probability: False\n",
            "- random_state: None\n",
            "- shrinking: True\n",
            "- tol: 0.001\n",
            "- verbose: False\n",
            "\n",
            "Accuracy: 78.60000000000001 %\n",
            "\n",
            "Average precision score: 71.81801470588233 %\n",
            "\n",
            "Average recall score: 83.0 %\n",
            "\n",
            "Average F1-score: 79.50191570881225 %\n",
            "\n",
            "Matthews correlation coefficient: 0.5742277310441418\n",
            "\n",
            "Mean absolute error: 0.214\n",
            "\n",
            "Confusion matrix:\n",
            "\n"
          ]
        },
        {
          "output_type": "display_data",
          "data": {
            "text/plain": [
              "<Figure size 432x288 with 2 Axes>"
            ],
            "image/png": "[encoded data removed]"
          },
          "metadata": {
            "needs_background": "light"
          }
        },
        {
          "output_type": "stream",
          "name": "stdout",
          "text": [
            "\n",
            "Classification report:\n",
            "\n",
            "              precision    recall  f1-score   support\n",
            "\n",
            "           0       0.81      0.74      0.78       500\n",
            "           1       0.76      0.83      0.80       500\n",
            "\n",
            "    accuracy                           0.79      1000\n",
            "   macro avg       0.79      0.79      0.79      1000\n",
            "weighted avg       0.79      0.79      0.79      1000\n",
            "\n",
            "\n",
            "[#2]\n",
            "\n",
            "* Parameters:\n",
            "\n",
            "- Model: C-Support Vector Classification\n",
            "- C: 1.0\n",
            "- break_ties: False\n",
            "- cache_size: 200\n",
            "- class_weight: None\n",
            "- coef0: 0.0\n",
            "- decision_function_shape: ovr\n",
            "- degree: 3\n",
            "- gamma: scale\n",
            "- kernel: sigmoid\n",
            "- max_iter: -1\n",
            "- probability: False\n",
            "- random_state: None\n",
            "- shrinking: True\n",
            "- tol: 0.001\n",
            "- verbose: False\n",
            "\n",
            "Accuracy: 78.5 %\n",
            "\n",
            "Average precision score: 72.62371134020619 %\n",
            "\n",
            "Average recall score: 77.0 %\n",
            "\n",
            "Average F1-score: 78.17258883248732 %\n",
            "\n",
            "Matthews correlation coefficient: 0.5702566732674554\n",
            "\n",
            "Mean absolute error: 0.215\n",
            "\n",
            "Confusion matrix:\n",
            "\n"
          ]
        },
        {
          "output_type": "display_data",
          "data": {
            "text/plain": [
              "<Figure size 432x288 with 2 Axes>"
            ],
            "image/png": "[encoded data removed]"
          },
          "metadata": {
            "needs_background": "light"
          }
        },
        {
          "output_type": "stream",
          "name": "stdout",
          "text": [
            "\n",
            "Classification report:\n",
            "\n",
            "              precision    recall  f1-score   support\n",
            "\n",
            "           0       0.78      0.80      0.79       500\n",
            "           1       0.79      0.77      0.78       500\n",
            "\n",
            "    accuracy                           0.79      1000\n",
            "   macro avg       0.79      0.79      0.78      1000\n",
            "weighted avg       0.79      0.79      0.78      1000\n",
            "\n",
            "\n",
            "\n",
            "\t\t=============== Word2Vec ===============\n",
            "\n",
            "X should be a square kernel matrix\n",
            "[#1]\n",
            "\n",
            "* Parameters:\n",
            "\n",
            "- Model: C-Support Vector Classification\n",
            "- C: 1.0\n",
            "- break_ties: False\n",
            "- cache_size: 200\n",
            "- class_weight: None\n",
            "- coef0: 0.0\n",
            "- decision_function_shape: ovr\n",
            "- degree: 3\n",
            "- gamma: scale\n",
            "- kernel: sigmoid\n",
            "- max_iter: -1\n",
            "- probability: False\n",
            "- random_state: None\n",
            "- shrinking: True\n",
            "- tol: 0.001\n",
            "- verbose: False\n",
            "\n",
            "Accuracy: 63.2 %\n",
            "\n",
            "Average precision score: 58.400000000000006 %\n",
            "\n",
            "Average recall score: 61.6 %\n",
            "\n",
            "Average F1-score: 62.60162601626017 %\n",
            "\n",
            "Matthews correlation coefficient: 0.26413527189768715\n",
            "\n",
            "Mean absolute error: 0.368\n",
            "\n",
            "Confusion matrix:\n",
            "\n"
          ]
        },
        {
          "output_type": "display_data",
          "data": {
            "text/plain": [
              "<Figure size 432x288 with 2 Axes>"
            ],
            "image/png": "[encoded data removed]"
          },
          "metadata": {
            "needs_background": "light"
          }
        },
        {
          "output_type": "stream",
          "name": "stdout",
          "text": [
            "\n",
            "Classification report:\n",
            "\n",
            "              precision    recall  f1-score   support\n",
            "\n",
            "           0       0.63      0.65      0.64       500\n",
            "           1       0.64      0.62      0.63       500\n",
            "\n",
            "    accuracy                           0.63      1000\n",
            "   macro avg       0.63      0.63      0.63      1000\n",
            "weighted avg       0.63      0.63      0.63      1000\n",
            "\n",
            "\n",
            "[#2]\n",
            "\n",
            "* Parameters:\n",
            "\n",
            "- Model: C-Support Vector Classification\n",
            "- C: 1.0\n",
            "- break_ties: False\n",
            "- cache_size: 200\n",
            "- class_weight: None\n",
            "- coef0: 0.0\n",
            "- decision_function_shape: ovr\n",
            "- degree: 3\n",
            "- gamma: scale\n",
            "- kernel: linear\n",
            "- max_iter: -1\n",
            "- probability: False\n",
            "- random_state: None\n",
            "- shrinking: True\n",
            "- tol: 0.001\n",
            "- verbose: False\n",
            "\n",
            "Accuracy: 63.1 %\n",
            "\n",
            "Average precision score: 58.24240631163708 %\n",
            "\n",
            "Average recall score: 63.800000000000004 %\n",
            "\n",
            "Average F1-score: 63.35650446871897 %\n",
            "\n",
            "Matthews correlation coefficient: 0.2620256797749886\n",
            "\n",
            "Mean absolute error: 0.369\n",
            "\n",
            "Confusion matrix:\n",
            "\n"
          ]
        },
        {
          "output_type": "display_data",
          "data": {
            "text/plain": [
              "<Figure size 432x288 with 2 Axes>"
            ],
            "image/png": "[encoded data removed]"
          },
          "metadata": {
            "needs_background": "light"
          }
        },
        {
          "output_type": "stream",
          "name": "stdout",
          "text": [
            "\n",
            "Classification report:\n",
            "\n",
            "              precision    recall  f1-score   support\n",
            "\n",
            "           0       0.63      0.62      0.63       500\n",
            "           1       0.63      0.64      0.63       500\n",
            "\n",
            "    accuracy                           0.63      1000\n",
            "   macro avg       0.63      0.63      0.63      1000\n",
            "weighted avg       0.63      0.63      0.63      1000\n",
            "\n",
            "\n"
          ]
        }
      ],
      "source": [
        "# Executes a series of learnings\n",
        "execute_a_series_of_support_vector_machine_learnings(X=X, Y=Y)"
      ]
    },
    {
      "cell_type": "markdown",
      "id": "d0601682",
      "metadata": {
        "id": "d0601682"
      },
      "source": [
        "## File: 'headlines_004.json'"
      ]
    },
    {
      "cell_type": "markdown",
      "id": "8bb71fb7",
      "metadata": {
        "id": "8bb71fb7"
      },
      "source": [
        "Reads the data."
      ]
    },
    {
      "cell_type": "code",
      "execution_count": 4,
      "id": "2cab753c",
      "metadata": {
        "colab": {
          "base_uri": "https://localhost:8080/"
        },
        "id": "2cab753c",
        "outputId": "87a81659-bd41-4abf-9183-0c535d55cedb"
      },
      "outputs": [
        {
          "output_type": "stream",
          "name": "stdout",
          "text": [
            "LENGTH - headline: 11000; is_clickbait: 11000\n"
          ]
        }
      ],
      "source": [
        "# Reads the data from the file\n",
        "X, Y = get_json_content(i=3)\n",
        "\n",
        "# Prints the dataset size\n",
        "print(f\"LENGTH - headline: {len(X)}; is_clickbait: {len(Y)}\")"
      ]
    },
    {
      "cell_type": "markdown",
      "id": "e377e029",
      "metadata": {
        "id": "e377e029"
      },
      "source": [
        "Executes a series of learnings."
      ]
    },
    {
      "cell_type": "code",
      "execution_count": 5,
      "id": "199b1662",
      "metadata": {
        "scrolled": false,
        "colab": {
          "base_uri": "https://localhost:8080/",
          "height": 1000
        },
        "id": "199b1662",
        "outputId": "a3069937-ebc7-48db-a564-5f9e4b55fcb3"
      },
      "outputs": [
        {
          "output_type": "stream",
          "name": "stdout",
          "text": [
            "\t--------------- TRAIN-TEST SPLIT ---------------\n",
            "\n",
            "- test_size: 0.3\n",
            "\n",
            "\t\t=============== BoW ===============\n",
            "\n",
            "Precomputed matrix must be a square matrix. Input is a 7700x4061 matrix.\n",
            "[#1]\n",
            "\n",
            "* Parameters:\n",
            "\n",
            "- Model: C-Support Vector Classification\n",
            "- C: 1.0\n",
            "- break_ties: False\n",
            "- cache_size: 200\n",
            "- class_weight: None\n",
            "- coef0: 0.0\n",
            "- decision_function_shape: ovr\n",
            "- degree: 3\n",
            "- gamma: scale\n",
            "- kernel: linear\n",
            "- max_iter: -1\n",
            "- probability: False\n",
            "- random_state: None\n",
            "- shrinking: True\n",
            "- tol: 0.001\n",
            "- verbose: False\n",
            "\n",
            "Accuracy: 97.7878787878788 %\n",
            "\n",
            "Average precision score: 96.55440674681941 %\n",
            "\n",
            "Average recall score: 97.8125 %\n",
            "\n",
            "Average F1-score: 97.72088666874805 %\n",
            "\n",
            "Matthews correlation coefficient: 0.9557209361481124\n",
            "\n",
            "Mean absolute error: 0.02212121212121212\n",
            "\n",
            "Confusion matrix:\n",
            "\n"
          ]
        },
        {
          "output_type": "display_data",
          "data": {
            "text/plain": [
              "<Figure size 432x288 with 2 Axes>"
            ],
            "image/png": "[encoded data removed]"
          },
          "metadata": {
            "needs_background": "light"
          }
        },
        {
          "output_type": "stream",
          "name": "stdout",
          "text": [
            "\n",
            "Classification report:\n",
            "\n",
            "              precision    recall  f1-score   support\n",
            "\n",
            "           0       0.98      0.98      0.98      1700\n",
            "           1       0.98      0.98      0.98      1600\n",
            "\n",
            "    accuracy                           0.98      3300\n",
            "   macro avg       0.98      0.98      0.98      3300\n",
            "weighted avg       0.98      0.98      0.98      3300\n",
            "\n",
            "\n",
            "[#2]\n",
            "\n",
            "* Parameters:\n",
            "\n",
            "- Model: C-Support Vector Classification\n",
            "- C: 1.0\n",
            "- break_ties: False\n",
            "- cache_size: 200\n",
            "- class_weight: None\n",
            "- coef0: 0.0\n",
            "- decision_function_shape: ovr\n",
            "- degree: 3\n",
            "- gamma: scale\n",
            "- kernel: rbf\n",
            "- max_iter: -1\n",
            "- probability: False\n",
            "- random_state: None\n",
            "- shrinking: True\n",
            "- tol: 0.001\n",
            "- verbose: False\n",
            "\n",
            "Accuracy: 95.06060606060606 %\n",
            "\n",
            "Average precision score: 90.75439591605219 %\n",
            "\n",
            "Average recall score: 100.0 %\n",
            "\n",
            "Average F1-score: 95.1531370799881 %\n",
            "\n",
            "Matthews correlation coefficient: 0.9058291831016818\n",
            "\n",
            "Mean absolute error: 0.04939393939393939\n",
            "\n",
            "Confusion matrix:\n",
            "\n"
          ]
        },
        {
          "output_type": "display_data",
          "data": {
            "text/plain": [
              "<Figure size 432x288 with 2 Axes>"
            ],
            "image/png": "[encoded data removed]"
          },
          "metadata": {
            "needs_background": "light"
          }
        },
        {
          "output_type": "stream",
          "name": "stdout",
          "text": [
            "\n",
            "Classification report:\n",
            "\n",
            "              precision    recall  f1-score   support\n",
            "\n",
            "           0       1.00      0.90      0.95      1700\n",
            "           1       0.91      1.00      0.95      1600\n",
            "\n",
            "    accuracy                           0.95      3300\n",
            "   macro avg       0.95      0.95      0.95      3300\n",
            "weighted avg       0.96      0.95      0.95      3300\n",
            "\n",
            "\n",
            "\n",
            "\t\t=============== Tf-idf ===============\n",
            "\n",
            "Precomputed matrix must be a square matrix. Input is a 7700x4061 matrix.\n",
            "[#1]\n",
            "\n",
            "* Parameters:\n",
            "\n",
            "- Model: C-Support Vector Classification\n",
            "- C: 1.0\n",
            "- break_ties: False\n",
            "- cache_size: 200\n",
            "- class_weight: None\n",
            "- coef0: 0.0\n",
            "- decision_function_shape: ovr\n",
            "- degree: 3\n",
            "- gamma: scale\n",
            "- kernel: linear\n",
            "- max_iter: -1\n",
            "- probability: False\n",
            "- random_state: None\n",
            "- shrinking: True\n",
            "- tol: 0.001\n",
            "- verbose: False\n",
            "\n",
            "Accuracy: 98.57575757575758 %\n",
            "\n",
            "Average precision score: 97.58453888732527 %\n",
            "\n",
            "Average recall score: 99.0 %\n",
            "\n",
            "Average F1-score: 98.53810264385692 %\n",
            "\n",
            "Matthews correlation coefficient: 0.9715370285690913\n",
            "\n",
            "Mean absolute error: 0.014242424242424242\n",
            "\n",
            "Confusion matrix:\n",
            "\n"
          ]
        },
        {
          "output_type": "display_data",
          "data": {
            "text/plain": [
              "<Figure size 432x288 with 2 Axes>"
            ],
            "image/png": "[encoded data removed]"
          },
          "metadata": {
            "needs_background": "light"
          }
        },
        {
          "output_type": "stream",
          "name": "stdout",
          "text": [
            "\n",
            "Classification report:\n",
            "\n",
            "              precision    recall  f1-score   support\n",
            "\n",
            "           0       0.99      0.98      0.99      1700\n",
            "           1       0.98      0.99      0.99      1600\n",
            "\n",
            "    accuracy                           0.99      3300\n",
            "   macro avg       0.99      0.99      0.99      3300\n",
            "weighted avg       0.99      0.99      0.99      3300\n",
            "\n",
            "\n",
            "[#2]\n",
            "\n",
            "* Parameters:\n",
            "\n",
            "- Model: C-Support Vector Classification\n",
            "- C: 1.0\n",
            "- break_ties: False\n",
            "- cache_size: 200\n",
            "- class_weight: None\n",
            "- coef0: 0.0\n",
            "- decision_function_shape: ovr\n",
            "- degree: 3\n",
            "- gamma: scale\n",
            "- kernel: poly\n",
            "- max_iter: -1\n",
            "- probability: False\n",
            "- random_state: None\n",
            "- shrinking: True\n",
            "- tol: 0.001\n",
            "- verbose: False\n",
            "\n",
            "Accuracy: 95.69696969696969 %\n",
            "\n",
            "Average precision score: 91.84845005740529 %\n",
            "\n",
            "Average recall score: 100.0 %\n",
            "\n",
            "Average F1-score: 95.7510472770796 %\n",
            "\n",
            "Matthews correlation coefficient: 0.917476991823829\n",
            "\n",
            "Mean absolute error: 0.04303030303030303\n",
            "\n",
            "Confusion matrix:\n",
            "\n"
          ]
        },
        {
          "output_type": "display_data",
          "data": {
            "text/plain": [
              "<Figure size 432x288 with 2 Axes>"
            ],
            "image/png": "[encoded data removed]"
          },
          "metadata": {
            "needs_background": "light"
          }
        },
        {
          "output_type": "stream",
          "name": "stdout",
          "text": [
            "\n",
            "Classification report:\n",
            "\n",
            "              precision    recall  f1-score   support\n",
            "\n",
            "           0       1.00      0.92      0.96      1700\n",
            "           1       0.92      1.00      0.96      1600\n",
            "\n",
            "    accuracy                           0.96      3300\n",
            "   macro avg       0.96      0.96      0.96      3300\n",
            "weighted avg       0.96      0.96      0.96      3300\n",
            "\n",
            "\n",
            "\n",
            "\t\t=============== Word2Vec ===============\n",
            "\n"
          ]
        },
        {
          "output_type": "stream",
          "name": "stderr",
          "text": [
            "/usr/local/lib/python3.7/dist-packages/sklearn/metrics/_classification.py:1318: UndefinedMetricWarning: Precision and F-score are ill-defined and being set to 0.0 in labels with no predicted samples. Use `zero_division` parameter to control this behavior.\n",
            "  _warn_prf(average, modifier, msg_start, len(result))\n",
            "/usr/local/lib/python3.7/dist-packages/sklearn/metrics/_classification.py:1318: UndefinedMetricWarning: Precision and F-score are ill-defined and being set to 0.0 in labels with no predicted samples. Use `zero_division` parameter to control this behavior.\n",
            "  _warn_prf(average, modifier, msg_start, len(result))\n",
            "/usr/local/lib/python3.7/dist-packages/sklearn/metrics/_classification.py:1318: UndefinedMetricWarning: Precision and F-score are ill-defined and being set to 0.0 in labels with no predicted samples. Use `zero_division` parameter to control this behavior.\n",
            "  _warn_prf(average, modifier, msg_start, len(result))\n",
            "/usr/local/lib/python3.7/dist-packages/sklearn/metrics/_classification.py:1318: UndefinedMetricWarning: Precision and F-score are ill-defined and being set to 0.0 in labels with no predicted samples. Use `zero_division` parameter to control this behavior.\n",
            "  _warn_prf(average, modifier, msg_start, len(result))\n",
            "/usr/local/lib/python3.7/dist-packages/sklearn/metrics/_classification.py:1318: UndefinedMetricWarning: Precision and F-score are ill-defined and being set to 0.0 in labels with no predicted samples. Use `zero_division` parameter to control this behavior.\n",
            "  _warn_prf(average, modifier, msg_start, len(result))\n",
            "/usr/local/lib/python3.7/dist-packages/sklearn/metrics/_classification.py:1318: UndefinedMetricWarning: Precision and F-score are ill-defined and being set to 0.0 in labels with no predicted samples. Use `zero_division` parameter to control this behavior.\n",
            "  _warn_prf(average, modifier, msg_start, len(result))\n"
          ]
        },
        {
          "output_type": "stream",
          "name": "stdout",
          "text": [
            "Precomputed matrix must be a square matrix. Input is a 7700x50 matrix.\n",
            "[#1]\n",
            "\n",
            "* Parameters:\n",
            "\n",
            "- Model: C-Support Vector Classification\n",
            "- C: 1.0\n",
            "- break_ties: False\n",
            "- cache_size: 200\n",
            "- class_weight: None\n",
            "- coef0: 0.0\n",
            "- decision_function_shape: ovr\n",
            "- degree: 3\n",
            "- gamma: scale\n",
            "- kernel: linear\n",
            "- max_iter: -1\n",
            "- probability: False\n",
            "- random_state: None\n",
            "- shrinking: True\n",
            "- tol: 0.001\n",
            "- verbose: False\n",
            "\n",
            "Accuracy: 55.96969696969697 %\n",
            "\n",
            "Average precision score: 52.70951332698714 %\n",
            "\n",
            "Average recall score: 10.5625 %\n",
            "\n",
            "Average F1-score: 18.872138470128423 %\n",
            "\n",
            "Matthews correlation coefficient: 0.19836331112187036\n",
            "\n",
            "Mean absolute error: 0.4403030303030303\n",
            "\n",
            "Confusion matrix:\n",
            "\n"
          ]
        },
        {
          "output_type": "display_data",
          "data": {
            "text/plain": [
              "<Figure size 432x288 with 2 Axes>"
            ],
            "image/png": "[encoded data removed]"
          },
          "metadata": {
            "needs_background": "light"
          }
        },
        {
          "output_type": "stream",
          "name": "stdout",
          "text": [
            "\n",
            "Classification report:\n",
            "\n",
            "              precision    recall  f1-score   support\n",
            "\n",
            "           0       0.54      0.99      0.70      1700\n",
            "           1       0.88      0.11      0.19      1600\n",
            "\n",
            "    accuracy                           0.56      3300\n",
            "   macro avg       0.71      0.55      0.44      3300\n",
            "weighted avg       0.71      0.56      0.45      3300\n",
            "\n",
            "\n",
            "[#2]\n",
            "\n",
            "* Parameters:\n",
            "\n",
            "- Model: C-Support Vector Classification\n",
            "- C: 1.0\n",
            "- break_ties: False\n",
            "- cache_size: 200\n",
            "- class_weight: None\n",
            "- coef0: 0.0\n",
            "- decision_function_shape: ovr\n",
            "- degree: 3\n",
            "- gamma: scale\n",
            "- kernel: rbf\n",
            "- max_iter: -1\n",
            "- probability: False\n",
            "- random_state: None\n",
            "- shrinking: True\n",
            "- tol: 0.001\n",
            "- verbose: False\n",
            "\n",
            "Accuracy: 48.484848484848484 %\n",
            "\n",
            "Average precision score: 48.484848484848484 %\n",
            "\n",
            "Average recall score: 100.0 %\n",
            "\n",
            "Average F1-score: 65.3061224489796 %\n",
            "\n",
            "Matthews correlation coefficient: 0.0\n",
            "\n",
            "Mean absolute error: 0.5151515151515151\n",
            "\n",
            "Confusion matrix:\n",
            "\n"
          ]
        },
        {
          "output_type": "display_data",
          "data": {
            "text/plain": [
              "<Figure size 432x288 with 2 Axes>"
            ],
            "image/png": "[encoded data removed]"
          },
          "metadata": {
            "needs_background": "light"
          }
        },
        {
          "output_type": "stream",
          "name": "stdout",
          "text": [
            "\n",
            "Classification report:\n",
            "\n",
            "              precision    recall  f1-score   support\n",
            "\n",
            "           0       0.00      0.00      0.00      1700\n",
            "           1       0.48      1.00      0.65      1600\n",
            "\n",
            "    accuracy                           0.48      3300\n",
            "   macro avg       0.24      0.50      0.33      3300\n",
            "weighted avg       0.24      0.48      0.32      3300\n",
            "\n",
            "\n",
            "\t--------------- K-FOLD ---------------\n",
            "\n",
            "- n_folds: 10\n",
            "\n",
            "\t\t=============== BoW ===============\n",
            "\n",
            "X should be a square kernel matrix\n",
            "[#1]\n",
            "\n",
            "* Parameters:\n",
            "\n",
            "- Model: C-Support Vector Classification\n",
            "- C: 1.0\n",
            "- break_ties: False\n",
            "- cache_size: 200\n",
            "- class_weight: None\n",
            "- coef0: 0.0\n",
            "- decision_function_shape: ovr\n",
            "- degree: 3\n",
            "- gamma: scale\n",
            "- kernel: linear\n",
            "- max_iter: -1\n",
            "- probability: False\n",
            "- random_state: None\n",
            "- shrinking: True\n",
            "- tol: 0.001\n",
            "- verbose: False\n",
            "\n",
            "Accuracy: 98.03636363636363 %\n",
            "\n",
            "Average precision score: 96.93666769722688 %\n",
            "\n",
            "Average recall score: 98.09417040358744 %\n",
            "\n",
            "Average F1-score: 97.98432250839866 %\n",
            "\n",
            "Matthews correlation coefficient: 0.9607034133913713\n",
            "\n",
            "Mean absolute error: 0.019636363636363636\n",
            "\n",
            "Confusion matrix:\n",
            "\n"
          ]
        },
        {
          "output_type": "display_data",
          "data": {
            "text/plain": [
              "<Figure size 432x288 with 2 Axes>"
            ],
            "image/png": "[encoded data removed]"
          },
          "metadata": {
            "needs_background": "light"
          }
        },
        {
          "output_type": "stream",
          "name": "stdout",
          "text": [
            "\n",
            "Classification report:\n",
            "\n",
            "              precision    recall  f1-score   support\n",
            "\n",
            "           0       0.98      0.98      0.98      5648\n",
            "           1       0.98      0.98      0.98      5352\n",
            "\n",
            "    accuracy                           0.98     11000\n",
            "   macro avg       0.98      0.98      0.98     11000\n",
            "weighted avg       0.98      0.98      0.98     11000\n",
            "\n",
            "\n",
            "[#2]\n",
            "\n",
            "* Parameters:\n",
            "\n",
            "- Model: C-Support Vector Classification\n",
            "- C: 1.0\n",
            "- break_ties: False\n",
            "- cache_size: 200\n",
            "- class_weight: None\n",
            "- coef0: 0.0\n",
            "- decision_function_shape: ovr\n",
            "- degree: 3\n",
            "- gamma: scale\n",
            "- kernel: rbf\n",
            "- max_iter: -1\n",
            "- probability: False\n",
            "- random_state: None\n",
            "- shrinking: True\n",
            "- tol: 0.001\n",
            "- verbose: False\n",
            "\n",
            "Accuracy: 95.2090909090909 %\n",
            "\n",
            "Average precision score: 91.03589045756081 %\n",
            "\n",
            "Average recall score: 100.0 %\n",
            "\n",
            "Average F1-score: 95.30763066512331 %\n",
            "\n",
            "Matthews correlation coefficient: 0.9085239202055382\n",
            "\n",
            "Mean absolute error: 0.04790909090909091\n",
            "\n",
            "Confusion matrix:\n",
            "\n"
          ]
        },
        {
          "output_type": "display_data",
          "data": {
            "text/plain": [
              "<Figure size 432x288 with 2 Axes>"
            ],
            "image/png": "[encoded data removed]"
          },
          "metadata": {
            "needs_background": "light"
          }
        },
        {
          "output_type": "stream",
          "name": "stdout",
          "text": [
            "\n",
            "Classification report:\n",
            "\n",
            "              precision    recall  f1-score   support\n",
            "\n",
            "           0       1.00      0.91      0.95      5648\n",
            "           1       0.91      1.00      0.95      5352\n",
            "\n",
            "    accuracy                           0.95     11000\n",
            "   macro avg       0.96      0.95      0.95     11000\n",
            "weighted avg       0.96      0.95      0.95     11000\n",
            "\n",
            "\n",
            "\n",
            "\t\t=============== Tf-idf ===============\n",
            "\n",
            "X should be a square kernel matrix\n",
            "[#1]\n",
            "\n",
            "* Parameters:\n",
            "\n",
            "- Model: C-Support Vector Classification\n",
            "- C: 1.0\n",
            "- break_ties: False\n",
            "- cache_size: 200\n",
            "- class_weight: None\n",
            "- coef0: 0.0\n",
            "- decision_function_shape: ovr\n",
            "- degree: 3\n",
            "- gamma: scale\n",
            "- kernel: linear\n",
            "- max_iter: -1\n",
            "- probability: False\n",
            "- random_state: None\n",
            "- shrinking: True\n",
            "- tol: 0.001\n",
            "- verbose: False\n",
            "\n",
            "Accuracy: 98.37272727272726 %\n",
            "\n",
            "Average precision score: 97.3832166335839 %\n",
            "\n",
            "Average recall score: 98.57997010463379 %\n",
            "\n",
            "Average F1-score: 98.33193551393158 %\n",
            "\n",
            "Matthews correlation coefficient: 0.9674469383534758\n",
            "\n",
            "Mean absolute error: 0.016272727272727272\n",
            "\n",
            "Confusion matrix:\n",
            "\n"
          ]
        },
        {
          "output_type": "display_data",
          "data": {
            "text/plain": [
              "<Figure size 432x288 with 2 Axes>"
            ],
            "image/png": "[encoded data removed]"
          },
          "metadata": {
            "needs_background": "light"
          }
        },
        {
          "output_type": "stream",
          "name": "stdout",
          "text": [
            "\n",
            "Classification report:\n",
            "\n",
            "              precision    recall  f1-score   support\n",
            "\n",
            "           0       0.99      0.98      0.98      5648\n",
            "           1       0.98      0.99      0.98      5352\n",
            "\n",
            "    accuracy                           0.98     11000\n",
            "   macro avg       0.98      0.98      0.98     11000\n",
            "weighted avg       0.98      0.98      0.98     11000\n",
            "\n",
            "\n",
            "[#2]\n",
            "\n",
            "* Parameters:\n",
            "\n",
            "- Model: C-Support Vector Classification\n",
            "- C: 1.0\n",
            "- break_ties: False\n",
            "- cache_size: 200\n",
            "- class_weight: None\n",
            "- coef0: 0.0\n",
            "- decision_function_shape: ovr\n",
            "- degree: 3\n",
            "- gamma: scale\n",
            "- kernel: poly\n",
            "- max_iter: -1\n",
            "- probability: False\n",
            "- random_state: None\n",
            "- shrinking: True\n",
            "- tol: 0.001\n",
            "- verbose: False\n",
            "\n",
            "Accuracy: 95.82727272727273 %\n",
            "\n",
            "Average precision score: 92.10118740320083 %\n",
            "\n",
            "Average recall score: 100.0 %\n",
            "\n",
            "Average F1-score: 95.88820209621069 %\n",
            "\n",
            "Matthews correlation coefficient: 0.9198713781825422\n",
            "\n",
            "Mean absolute error: 0.041727272727272724\n",
            "\n",
            "Confusion matrix:\n",
            "\n"
          ]
        },
        {
          "output_type": "display_data",
          "data": {
            "text/plain": [
              "<Figure size 432x288 with 2 Axes>"
            ],
            "image/png": "[encoded data removed]"
          },
          "metadata": {
            "needs_background": "light"
          }
        },
        {
          "output_type": "stream",
          "name": "stdout",
          "text": [
            "\n",
            "Classification report:\n",
            "\n",
            "              precision    recall  f1-score   support\n",
            "\n",
            "           0       1.00      0.92      0.96      5648\n",
            "           1       0.92      1.00      0.96      5352\n",
            "\n",
            "    accuracy                           0.96     11000\n",
            "   macro avg       0.96      0.96      0.96     11000\n",
            "weighted avg       0.96      0.96      0.96     11000\n",
            "\n",
            "\n",
            "[#3]\n",
            "\n",
            "* Parameters:\n",
            "\n",
            "- Model: C-Support Vector Classification\n",
            "- C: 1.0\n",
            "- break_ties: False\n",
            "- cache_size: 200\n",
            "- class_weight: None\n",
            "- coef0: 0.0\n",
            "- decision_function_shape: ovr\n",
            "- degree: 3\n",
            "- gamma: scale\n",
            "- kernel: rbf\n",
            "- max_iter: -1\n",
            "- probability: False\n",
            "- random_state: None\n",
            "- shrinking: True\n",
            "- tol: 0.001\n",
            "- verbose: False\n",
            "\n",
            "Accuracy: 98.36363636363636 %\n",
            "\n",
            "Average precision score: 96.95399699260948 %\n",
            "\n",
            "Average recall score: 99.51420029895365 %\n",
            "\n",
            "Average F1-score: 98.33825701624815 %\n",
            "\n",
            "Matthews correlation coefficient: 0.9675316285023481\n",
            "\n",
            "Mean absolute error: 0.016363636363636365\n",
            "\n",
            "Confusion matrix:\n",
            "\n"
          ]
        },
        {
          "output_type": "display_data",
          "data": {
            "text/plain": [
              "<Figure size 432x288 with 2 Axes>"
            ],
            "image/png": "[encoded data removed]"
          },
          "metadata": {
            "needs_background": "light"
          }
        },
        {
          "output_type": "stream",
          "name": "stdout",
          "text": [
            "\n",
            "Classification report:\n",
            "\n",
            "              precision    recall  f1-score   support\n",
            "\n",
            "           0       1.00      0.97      0.98      5648\n",
            "           1       0.97      1.00      0.98      5352\n",
            "\n",
            "    accuracy                           0.98     11000\n",
            "   macro avg       0.98      0.98      0.98     11000\n",
            "weighted avg       0.98      0.98      0.98     11000\n",
            "\n",
            "\n",
            "\n",
            "\t\t=============== Word2Vec ===============\n",
            "\n",
            "X should be a square kernel matrix\n",
            "[#1]\n",
            "\n",
            "* Parameters:\n",
            "\n",
            "- Model: C-Support Vector Classification\n",
            "- C: 1.0\n",
            "- break_ties: False\n",
            "- cache_size: 200\n",
            "- class_weight: None\n",
            "- coef0: 0.0\n",
            "- decision_function_shape: ovr\n",
            "- degree: 3\n",
            "- gamma: scale\n",
            "- kernel: poly\n",
            "- max_iter: -1\n",
            "- probability: False\n",
            "- random_state: None\n",
            "- shrinking: True\n",
            "- tol: 0.001\n",
            "- verbose: False\n",
            "\n",
            "Accuracy: 95.24545454545455 %\n",
            "\n",
            "Average precision score: 93.03335654529515 %\n",
            "\n",
            "Average recall score: 94.63751868460389 %\n",
            "\n",
            "Average F1-score: 95.09058481179011 %\n",
            "\n",
            "Matthews correlation coefficient: 0.9048553962903438\n",
            "\n",
            "Mean absolute error: 0.047545454545454544\n",
            "\n",
            "Confusion matrix:\n",
            "\n"
          ]
        },
        {
          "output_type": "display_data",
          "data": {
            "text/plain": [
              "<Figure size 432x288 with 2 Axes>"
            ],
            "image/png": "[encoded data removed]"
          },
          "metadata": {
            "needs_background": "light"
          }
        },
        {
          "output_type": "stream",
          "name": "stdout",
          "text": [
            "\n",
            "Classification report:\n",
            "\n",
            "              precision    recall  f1-score   support\n",
            "\n",
            "           0       0.95      0.96      0.95      5648\n",
            "           1       0.96      0.95      0.95      5352\n",
            "\n",
            "    accuracy                           0.95     11000\n",
            "   macro avg       0.95      0.95      0.95     11000\n",
            "weighted avg       0.95      0.95      0.95     11000\n",
            "\n",
            "\n"
          ]
        }
      ],
      "source": [
        "# Executes a series of learnings\n",
        "execute_a_series_of_support_vector_machine_learnings(X=X, Y=Y)"
      ]
    }
  ],
  "metadata": {
    "kernelspec": {
      "display_name": "Python 3 (ipykernel)",
      "language": "python",
      "name": "python3"
    },
    "language_info": {
      "codemirror_mode": {
        "name": "ipython",
        "version": 3
      },
      "file_extension": ".py",
      "mimetype": "text/x-python",
      "name": "python",
      "nbconvert_exporter": "python",
      "pygments_lexer": "ipython3",
      "version": "3.9.7"
    },
    "colab": {
      "name": "Support_Vector_Machines",
      "provenance": []
    }
  },
  "nbformat": 4,
  "nbformat_minor": 5
}
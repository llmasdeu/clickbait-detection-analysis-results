{
  "cells": [
    {
      "cell_type": "code",
      "execution_count": 1,
      "id": "ce7a8119",
      "metadata": {
        "id": "ce7a8119"
      },
      "outputs": [],
      "source": [
        "from utils.utils import get_json_content\n",
        "from utils.learners import execute_a_series_of_k_nearest_neighbors_learnings"
      ]
    },
    {
      "cell_type": "markdown",
      "id": "c4618cb0",
      "metadata": {
        "id": "c4618cb0"
      },
      "source": [
        "# K-Nearest Neighbors Training"
      ]
    },
    {
      "cell_type": "markdown",
      "id": "97952f24",
      "metadata": {
        "id": "97952f24"
      },
      "source": [
        "## File: 'headlines_001.json'"
      ]
    },
    {
      "cell_type": "markdown",
      "id": "e9b5eb24",
      "metadata": {
        "id": "e9b5eb24"
      },
      "source": [
        "Reads the data."
      ]
    },
    {
      "cell_type": "code",
      "execution_count": 2,
      "id": "16274016",
      "metadata": {
        "colab": {
          "base_uri": "https://localhost:8080/"
        },
        "id": "16274016",
        "outputId": "d3da20dc-ba2c-4e5e-e681-ce44ace0b151"
      },
      "outputs": [
        {
          "output_type": "stream",
          "name": "stdout",
          "text": [
            "LENGTH - headline: 1000; is_clickbait: 1000\n"
          ]
        }
      ],
      "source": [
        "# Reads the data from the file\n",
        "X, Y = get_json_content(i=0)\n",
        "\n",
        "# Prints the dataset size\n",
        "print(f\"LENGTH - headline: {len(X)}; is_clickbait: {len(Y)}\")"
      ]
    },
    {
      "cell_type": "markdown",
      "id": "dfd2ee15",
      "metadata": {
        "id": "dfd2ee15"
      },
      "source": [
        "Executes a series of learnings."
      ]
    },
    {
      "cell_type": "code",
      "execution_count": 3,
      "id": "f74e3a92",
      "metadata": {
        "scrolled": false,
        "colab": {
          "base_uri": "https://localhost:8080/",
          "height": 1000
        },
        "id": "f74e3a92",
        "outputId": "5447e5a7-43e2-44de-ae82-3315b4c136fd"
      },
      "outputs": [
        {
          "output_type": "stream",
          "name": "stdout",
          "text": [
            "\t--------------- TRAIN-TEST SPLIT ---------------\n",
            "\n",
            "- test_size: 0.3\n",
            "\n",
            "\t\t=============== BoW ===============\n",
            "\n",
            "[#1]\n",
            "\n",
            "* Parameters:\n",
            "\n",
            "- Model: K-Nearest Neighbors\n",
            "- algorithm: auto\n",
            "- leaf_size: 30\n",
            "- metric: minkowski\n",
            "- metric_params: None\n",
            "- n_jobs: None\n",
            "- n_neighbors: 7\n",
            "- p: 2\n",
            "- weights: uniform\n",
            "\n",
            "Accuracy: 59.333333333333336 %\n",
            "\n",
            "Average precision score: 54.802064200122445 %\n",
            "\n",
            "Average recall score: 78.37837837837837 %\n",
            "\n",
            "Average F1-score: 65.5367231638418 %\n",
            "\n",
            "Matthews correlation coefficient: 0.206599165761306\n",
            "\n",
            "Mean absolute error: 0.4066666666666667\n",
            "\n",
            "Confusion matrix:\n",
            "\n"
          ]
        },
        {
          "output_type": "display_data",
          "data": {
            "text/plain": [
              "<Figure size 432x288 with 2 Axes>"
            ],
            "image/png": "[encoded data removed]"
          },
          "metadata": {
            "needs_background": "light"
          }
        },
        {
          "output_type": "stream",
          "name": "stdout",
          "text": [
            "\n",
            "Classification report:\n",
            "\n",
            "              precision    recall  f1-score   support\n",
            "\n",
            "           0       0.66      0.41      0.50       152\n",
            "           1       0.56      0.78      0.66       148\n",
            "\n",
            "    accuracy                           0.59       300\n",
            "   macro avg       0.61      0.60      0.58       300\n",
            "weighted avg       0.61      0.59      0.58       300\n",
            "\n",
            "\n",
            "[#2]\n",
            "\n",
            "* Parameters:\n",
            "\n",
            "- Model: K-Nearest Neighbors\n",
            "- algorithm: auto\n",
            "- leaf_size: 30\n",
            "- metric: minkowski\n",
            "- metric_params: None\n",
            "- n_jobs: None\n",
            "- n_neighbors: 1\n",
            "- p: 2\n",
            "- weights: uniform\n",
            "\n",
            "Accuracy: 53.666666666666664 %\n",
            "\n",
            "Average precision score: 51.461376269886905 %\n",
            "\n",
            "Average recall score: 82.43243243243244 %\n",
            "\n",
            "Average F1-score: 63.70757180156657 %\n",
            "\n",
            "Matthews correlation coefficient: 0.0981811527477667\n",
            "\n",
            "Mean absolute error: 0.4633333333333333\n",
            "\n",
            "Confusion matrix:\n",
            "\n"
          ]
        },
        {
          "output_type": "display_data",
          "data": {
            "text/plain": [
              "<Figure size 432x288 with 2 Axes>"
            ],
            "image/png": "[encoded data removed]"
          },
          "metadata": {
            "needs_background": "light"
          }
        },
        {
          "output_type": "stream",
          "name": "stdout",
          "text": [
            "\n",
            "Classification report:\n",
            "\n",
            "              precision    recall  f1-score   support\n",
            "\n",
            "           0       0.60      0.26      0.36       152\n",
            "           1       0.52      0.82      0.64       148\n",
            "\n",
            "    accuracy                           0.54       300\n",
            "   macro avg       0.56      0.54      0.50       300\n",
            "weighted avg       0.56      0.54      0.50       300\n",
            "\n",
            "\n",
            "[#3]\n",
            "\n",
            "* Parameters:\n",
            "\n",
            "- Model: K-Nearest Neighbors\n",
            "- algorithm: auto\n",
            "- leaf_size: 30\n",
            "- metric: minkowski\n",
            "- metric_params: None\n",
            "- n_jobs: None\n",
            "- n_neighbors: 5\n",
            "- p: 2\n",
            "- weights: uniform\n",
            "\n",
            "Accuracy: 59.0 %\n",
            "\n",
            "Average precision score: 54.58819008582042 %\n",
            "\n",
            "Average recall score: 79.72972972972973 %\n",
            "\n",
            "Average F1-score: 65.73816155988858 %\n",
            "\n",
            "Matthews correlation coefficient: 0.2029810137197322\n",
            "\n",
            "Mean absolute error: 0.41\n",
            "\n",
            "Confusion matrix:\n",
            "\n"
          ]
        },
        {
          "output_type": "display_data",
          "data": {
            "text/plain": [
              "<Figure size 432x288 with 2 Axes>"
            ],
            "image/png": "[encoded data removed]"
          },
          "metadata": {
            "needs_background": "light"
          }
        },
        {
          "output_type": "stream",
          "name": "stdout",
          "text": [
            "\n",
            "Classification report:\n",
            "\n",
            "              precision    recall  f1-score   support\n",
            "\n",
            "           0       0.66      0.39      0.49       152\n",
            "           1       0.56      0.80      0.66       148\n",
            "\n",
            "    accuracy                           0.59       300\n",
            "   macro avg       0.61      0.59      0.57       300\n",
            "weighted avg       0.61      0.59      0.57       300\n",
            "\n",
            "\n",
            "\n",
            "\t\t=============== Tf-idf ===============\n",
            "\n",
            "[#1]\n",
            "\n",
            "* Parameters:\n",
            "\n",
            "- Model: K-Nearest Neighbors\n",
            "- algorithm: auto\n",
            "- leaf_size: 30\n",
            "- metric: minkowski\n",
            "- metric_params: None\n",
            "- n_jobs: None\n",
            "- n_neighbors: 10\n",
            "- p: 2\n",
            "- weights: distance\n",
            "\n",
            "Accuracy: 75.33333333333333 %\n",
            "\n",
            "Average precision score: 68.28083853083852 %\n",
            "\n",
            "Average recall score: 77.7027027027027 %\n",
            "\n",
            "Average F1-score: 75.6578947368421 %\n",
            "\n",
            "Matthews correlation coefficient: 0.5076513741344305\n",
            "\n",
            "Mean absolute error: 0.24666666666666667\n",
            "\n",
            "Confusion matrix:\n",
            "\n"
          ]
        },
        {
          "output_type": "display_data",
          "data": {
            "text/plain": [
              "<Figure size 432x288 with 2 Axes>"
            ],
            "image/png": "[encoded data removed]"
          },
          "metadata": {
            "needs_background": "light"
          }
        },
        {
          "output_type": "stream",
          "name": "stdout",
          "text": [
            "\n",
            "Classification report:\n",
            "\n",
            "              precision    recall  f1-score   support\n",
            "\n",
            "           0       0.77      0.73      0.75       152\n",
            "           1       0.74      0.78      0.76       148\n",
            "\n",
            "    accuracy                           0.75       300\n",
            "   macro avg       0.75      0.75      0.75       300\n",
            "weighted avg       0.75      0.75      0.75       300\n",
            "\n",
            "\n",
            "\n",
            "\t\t=============== Word2Vec ===============\n",
            "\n",
            "[#1]\n",
            "\n",
            "* Parameters:\n",
            "\n",
            "- Model: K-Nearest Neighbors\n",
            "- algorithm: auto\n",
            "- leaf_size: 30\n",
            "- metric: minkowski\n",
            "- metric_params: None\n",
            "- n_jobs: None\n",
            "- n_neighbors: 7\n",
            "- p: 2\n",
            "- weights: uniform\n",
            "\n",
            "Accuracy: 52.0 %\n",
            "\n",
            "Average precision score: 50.373873873873876 %\n",
            "\n",
            "Average recall score: 4.054054054054054 %\n",
            "\n",
            "Average F1-score: 7.6923076923076925 %\n",
            "\n",
            "Matthews correlation coefficient: 0.08497509157371691\n",
            "\n",
            "Mean absolute error: 0.48\n",
            "\n",
            "Confusion matrix:\n",
            "\n"
          ]
        },
        {
          "output_type": "display_data",
          "data": {
            "text/plain": [
              "<Figure size 432x288 with 2 Axes>"
            ],
            "image/png": "[encoded data removed]"
          },
          "metadata": {
            "needs_background": "light"
          }
        },
        {
          "output_type": "stream",
          "name": "stdout",
          "text": [
            "\n",
            "Classification report:\n",
            "\n",
            "              precision    recall  f1-score   support\n",
            "\n",
            "           0       0.51      0.99      0.68       152\n",
            "           1       0.75      0.04      0.08       148\n",
            "\n",
            "    accuracy                           0.52       300\n",
            "   macro avg       0.63      0.51      0.38       300\n",
            "weighted avg       0.63      0.52      0.38       300\n",
            "\n",
            "\n",
            "[#2]\n",
            "\n",
            "* Parameters:\n",
            "\n",
            "- Model: K-Nearest Neighbors\n",
            "- algorithm: auto\n",
            "- leaf_size: 30\n",
            "- metric: minkowski\n",
            "- metric_params: None\n",
            "- n_jobs: None\n",
            "- n_neighbors: 1\n",
            "- p: 2\n",
            "- weights: uniform\n",
            "\n",
            "Accuracy: 49.333333333333336 %\n",
            "\n",
            "Average precision score: 48.83933933933935 %\n",
            "\n",
            "Average recall score: 4.72972972972973 %\n",
            "\n",
            "Average F1-score: 8.433734939759036 %\n",
            "\n",
            "Matthews correlation coefficient: -0.05277954544384941\n",
            "\n",
            "Mean absolute error: 0.5066666666666667\n",
            "\n",
            "Confusion matrix:\n",
            "\n"
          ]
        },
        {
          "output_type": "display_data",
          "data": {
            "text/plain": [
              "<Figure size 432x288 with 2 Axes>"
            ],
            "image/png": "[encoded data removed]"
          },
          "metadata": {
            "needs_background": "light"
          }
        },
        {
          "output_type": "stream",
          "name": "stdout",
          "text": [
            "\n",
            "Classification report:\n",
            "\n",
            "              precision    recall  f1-score   support\n",
            "\n",
            "           0       0.50      0.93      0.65       152\n",
            "           1       0.39      0.05      0.08       148\n",
            "\n",
            "    accuracy                           0.49       300\n",
            "   macro avg       0.44      0.49      0.37       300\n",
            "weighted avg       0.45      0.49      0.37       300\n",
            "\n",
            "\n",
            "\t--------------- K-FOLD ---------------\n",
            "\n",
            "- n_folds: 10\n",
            "\n",
            "\t\t=============== BoW ===============\n",
            "\n",
            "[#1]\n",
            "\n",
            "* Parameters:\n",
            "\n",
            "- Model: K-Nearest Neighbors\n",
            "- algorithm: auto\n",
            "- leaf_size: 30\n",
            "- metric: minkowski\n",
            "- metric_params: None\n",
            "- n_jobs: None\n",
            "- n_neighbors: 5\n",
            "- p: 2\n",
            "- weights: uniform\n",
            "\n",
            "Accuracy: 62.8 %\n",
            "\n",
            "Average precision score: 57.747368421052634 %\n",
            "\n",
            "Average recall score: 73.6 %\n",
            "\n",
            "Average F1-score: 66.42599277978339 %\n",
            "\n",
            "Matthews correlation coefficient: 0.2621894101377849\n",
            "\n",
            "Mean absolute error: 0.372\n",
            "\n",
            "Confusion matrix:\n",
            "\n"
          ]
        },
        {
          "output_type": "display_data",
          "data": {
            "text/plain": [
              "<Figure size 432x288 with 2 Axes>"
            ],
            "image/png": "[encoded data removed]"
          },
          "metadata": {
            "needs_background": "light"
          }
        },
        {
          "output_type": "stream",
          "name": "stdout",
          "text": [
            "\n",
            "Classification report:\n",
            "\n",
            "              precision    recall  f1-score   support\n",
            "\n",
            "           0       0.66      0.52      0.58       500\n",
            "           1       0.61      0.74      0.66       500\n",
            "\n",
            "    accuracy                           0.63      1000\n",
            "   macro avg       0.63      0.63      0.62      1000\n",
            "weighted avg       0.63      0.63      0.62      1000\n",
            "\n",
            "\n",
            "[#2]\n",
            "\n",
            "* Parameters:\n",
            "\n",
            "- Model: K-Nearest Neighbors\n",
            "- algorithm: auto\n",
            "- leaf_size: 30\n",
            "- metric: minkowski\n",
            "- metric_params: None\n",
            "- n_jobs: None\n",
            "- n_neighbors: 10\n",
            "- p: 2\n",
            "- weights: uniform\n",
            "\n",
            "Accuracy: 62.5 %\n",
            "\n",
            "Average precision score: 57.959518599562365 %\n",
            "\n",
            "Average recall score: 58.199999999999996 %\n",
            "\n",
            "Average F1-score: 60.81504702194357 %\n",
            "\n",
            "Matthews correlation coefficient: 0.25092966001422956\n",
            "\n",
            "Mean absolute error: 0.375\n",
            "\n",
            "Confusion matrix:\n",
            "\n"
          ]
        },
        {
          "output_type": "display_data",
          "data": {
            "text/plain": [
              "<Figure size 432x288 with 2 Axes>"
            ],
            "image/png": "[encoded data removed]"
          },
          "metadata": {
            "needs_background": "light"
          }
        },
        {
          "output_type": "stream",
          "name": "stdout",
          "text": [
            "\n",
            "Classification report:\n",
            "\n",
            "              precision    recall  f1-score   support\n",
            "\n",
            "           0       0.62      0.67      0.64       500\n",
            "           1       0.64      0.58      0.61       500\n",
            "\n",
            "    accuracy                           0.62      1000\n",
            "   macro avg       0.63      0.62      0.62      1000\n",
            "weighted avg       0.63      0.62      0.62      1000\n",
            "\n",
            "\n",
            "[#3]\n",
            "\n",
            "* Parameters:\n",
            "\n",
            "- Model: K-Nearest Neighbors\n",
            "- algorithm: auto\n",
            "- leaf_size: 30\n",
            "- metric: minkowski\n",
            "- metric_params: None\n",
            "- n_jobs: None\n",
            "- n_neighbors: 1\n",
            "- p: 2\n",
            "- weights: uniform\n",
            "\n",
            "Accuracy: 60.099999999999994 %\n",
            "\n",
            "Average precision score: 55.80562962962963 %\n",
            "\n",
            "Average recall score: 77.60000000000001 %\n",
            "\n",
            "Average F1-score: 66.04255319148935 %\n",
            "\n",
            "Matthews correlation coefficient: 0.215639247124184\n",
            "\n",
            "Mean absolute error: 0.399\n",
            "\n",
            "Confusion matrix:\n",
            "\n"
          ]
        },
        {
          "output_type": "display_data",
          "data": {
            "text/plain": [
              "<Figure size 432x288 with 2 Axes>"
            ],
            "image/png": "[encoded data removed]"
          },
          "metadata": {
            "needs_background": "light"
          }
        },
        {
          "output_type": "stream",
          "name": "stdout",
          "text": [
            "\n",
            "Classification report:\n",
            "\n",
            "              precision    recall  f1-score   support\n",
            "\n",
            "           0       0.66      0.43      0.52       500\n",
            "           1       0.57      0.78      0.66       500\n",
            "\n",
            "    accuracy                           0.60      1000\n",
            "   macro avg       0.62      0.60      0.59      1000\n",
            "weighted avg       0.62      0.60      0.59      1000\n",
            "\n",
            "\n",
            "\n",
            "\t\t=============== Tf-idf ===============\n",
            "\n",
            "[#1]\n",
            "\n",
            "* Parameters:\n",
            "\n",
            "- Model: K-Nearest Neighbors\n",
            "- algorithm: auto\n",
            "- leaf_size: 30\n",
            "- metric: minkowski\n",
            "- metric_params: None\n",
            "- n_jobs: None\n",
            "- n_neighbors: 10\n",
            "- p: 2\n",
            "- weights: distance\n",
            "\n",
            "Accuracy: 78.3 %\n",
            "\n",
            "Average precision score: 72.11113320079522 %\n",
            "\n",
            "Average recall score: 78.60000000000001 %\n",
            "\n",
            "Average F1-score: 78.36490528414755 %\n",
            "\n",
            "Matthews correlation coefficient: 0.5660101882750842\n",
            "\n",
            "Mean absolute error: 0.217\n",
            "\n",
            "Confusion matrix:\n",
            "\n"
          ]
        },
        {
          "output_type": "display_data",
          "data": {
            "text/plain": [
              "<Figure size 432x288 with 2 Axes>"
            ],
            "image/png": "[encoded data removed]"
          },
          "metadata": {
            "needs_background": "light"
          }
        },
        {
          "output_type": "stream",
          "name": "stdout",
          "text": [
            "\n",
            "Classification report:\n",
            "\n",
            "              precision    recall  f1-score   support\n",
            "\n",
            "           0       0.78      0.78      0.78       500\n",
            "           1       0.78      0.79      0.78       500\n",
            "\n",
            "    accuracy                           0.78      1000\n",
            "   macro avg       0.78      0.78      0.78      1000\n",
            "weighted avg       0.78      0.78      0.78      1000\n",
            "\n",
            "\n",
            "\n",
            "\t\t=============== Word2Vec ===============\n",
            "\n",
            "[#1]\n",
            "\n",
            "* Parameters:\n",
            "\n",
            "- Model: K-Nearest Neighbors\n",
            "- algorithm: auto\n",
            "- leaf_size: 30\n",
            "- metric: minkowski\n",
            "- metric_params: None\n",
            "- n_jobs: None\n",
            "- n_neighbors: 15\n",
            "- p: 2\n",
            "- weights: distance\n",
            "\n",
            "Accuracy: 63.4 %\n",
            "\n",
            "Average precision score: 58.439922480620154 %\n",
            "\n",
            "Average recall score: 65.0 %\n",
            "\n",
            "Average F1-score: 63.976377952755904 %\n",
            "\n",
            "Matthews correlation coefficient: 0.2681373214718945\n",
            "\n",
            "Mean absolute error: 0.366\n",
            "\n",
            "Confusion matrix:\n",
            "\n"
          ]
        },
        {
          "output_type": "display_data",
          "data": {
            "text/plain": [
              "<Figure size 432x288 with 2 Axes>"
            ],
            "image/png": "[encoded data removed]"
          },
          "metadata": {
            "needs_background": "light"
          }
        },
        {
          "output_type": "stream",
          "name": "stdout",
          "text": [
            "\n",
            "Classification report:\n",
            "\n",
            "              precision    recall  f1-score   support\n",
            "\n",
            "           0       0.64      0.62      0.63       500\n",
            "           1       0.63      0.65      0.64       500\n",
            "\n",
            "    accuracy                           0.63      1000\n",
            "   macro avg       0.63      0.63      0.63      1000\n",
            "weighted avg       0.63      0.63      0.63      1000\n",
            "\n",
            "\n",
            "[#2]\n",
            "\n",
            "* Parameters:\n",
            "\n",
            "- Model: K-Nearest Neighbors\n",
            "- algorithm: auto\n",
            "- leaf_size: 30\n",
            "- metric: minkowski\n",
            "- metric_params: None\n",
            "- n_jobs: None\n",
            "- n_neighbors: 7\n",
            "- p: 2\n",
            "- weights: distance\n",
            "\n",
            "Accuracy: 62.4 %\n",
            "\n",
            "Average precision score: 57.64511278195488 %\n",
            "\n",
            "Average recall score: 65.60000000000001 %\n",
            "\n",
            "Average F1-score: 63.56589147286821 %\n",
            "\n",
            "Matthews correlation coefficient: 0.24850946962600562\n",
            "\n",
            "Mean absolute error: 0.376\n",
            "\n",
            "Confusion matrix:\n",
            "\n"
          ]
        },
        {
          "output_type": "display_data",
          "data": {
            "text/plain": [
              "<Figure size 432x288 with 2 Axes>"
            ],
            "image/png": "[encoded data removed]"
          },
          "metadata": {
            "needs_background": "light"
          }
        },
        {
          "output_type": "stream",
          "name": "stdout",
          "text": [
            "\n",
            "Classification report:\n",
            "\n",
            "              precision    recall  f1-score   support\n",
            "\n",
            "           0       0.63      0.59      0.61       500\n",
            "           1       0.62      0.66      0.64       500\n",
            "\n",
            "    accuracy                           0.62      1000\n",
            "   macro avg       0.62      0.62      0.62      1000\n",
            "weighted avg       0.62      0.62      0.62      1000\n",
            "\n",
            "\n"
          ]
        }
      ],
      "source": [
        "# Executes a series of learnings\n",
        "execute_a_series_of_k_nearest_neighbors_learnings(X=X, Y=Y)"
      ]
    },
    {
      "cell_type": "markdown",
      "id": "fff7e280",
      "metadata": {
        "id": "fff7e280"
      },
      "source": [
        "## File: 'headlines_004.json'"
      ]
    },
    {
      "cell_type": "markdown",
      "id": "3ea78103",
      "metadata": {
        "id": "3ea78103"
      },
      "source": [
        "Reads the data."
      ]
    },
    {
      "cell_type": "code",
      "execution_count": 4,
      "id": "43002812",
      "metadata": {
        "colab": {
          "base_uri": "https://localhost:8080/"
        },
        "id": "43002812",
        "outputId": "220d03bc-c326-401a-d159-7b1939d82e6c"
      },
      "outputs": [
        {
          "output_type": "stream",
          "name": "stdout",
          "text": [
            "LENGTH - headline: 11000; is_clickbait: 11000\n"
          ]
        }
      ],
      "source": [
        "# Reads the data from the file\n",
        "X, Y = get_json_content(i=3)\n",
        "\n",
        "# Prints the dataset size\n",
        "print(f\"LENGTH - headline: {len(X)}; is_clickbait: {len(Y)}\")"
      ]
    },
    {
      "cell_type": "markdown",
      "id": "80d7d342",
      "metadata": {
        "id": "80d7d342"
      },
      "source": [
        "Executes a series of learnings."
      ]
    },
    {
      "cell_type": "code",
      "execution_count": 5,
      "id": "7143622c",
      "metadata": {
        "scrolled": false,
        "colab": {
          "base_uri": "https://localhost:8080/",
          "height": 1000
        },
        "id": "7143622c",
        "outputId": "fe8c1b72-b748-49ee-b63a-6cb033816e0a"
      },
      "outputs": [
        {
          "metadata": {
            "tags": null
          },
          "name": "stdout",
          "output_type": "stream",
          "text": [
            "\t--------------- TRAIN-TEST SPLIT ---------------\n",
            "\n",
            "- test_size: 0.3\n",
            "\n",
            "\t\t=============== BoW ===============\n",
            "\n",
            "[#1]\n",
            "\n",
            "* Parameters:\n",
            "\n",
            "- Model: K-Nearest Neighbors\n",
            "- algorithm: auto\n",
            "- leaf_size: 30\n",
            "- metric: minkowski\n",
            "- metric_params: None\n",
            "- n_jobs: None\n",
            "- n_neighbors: 10\n",
            "- p: 2\n",
            "- weights: distance\n",
            "\n",
            "Accuracy: 96.81818181818181 %\n",
            "\n",
            "Average precision score: 95.22867088968783 %\n",
            "\n",
            "Average recall score: 96.5 %\n",
            "\n",
            "Average F1-score: 96.71155652990919 %\n",
            "\n",
            "Matthews correlation coefficient: 0.9363053935707291\n",
            "\n",
            "Mean absolute error: 0.031818181818181815\n",
            "\n",
            "Confusion matrix:\n",
            "\n"
          ]
        },
        {
          "data": {
            "image/png": "[encoded data removed]",
            "text/plain": [
              "<Figure size 432x288 with 2 Axes>"
            ]
          },
          "metadata": {},
          "output_type": "display_data"
        },
        {
          "metadata": {
            "tags": null
          },
          "name": "stdout",
          "output_type": "stream",
          "text": [
            "\n",
            "Classification report:\n",
            "\n",
            "              precision    recall  f1-score   support\n",
            "\n",
            "           0       0.97      0.97      0.97      1700\n",
            "           1       0.97      0.96      0.97      1600\n",
            "\n",
            "    accuracy                           0.97      3300\n",
            "   macro avg       0.97      0.97      0.97      3300\n",
            "weighted avg       0.97      0.97      0.97      3300\n",
            "\n",
            "\n",
            "[#2]\n",
            "\n",
            "* Parameters:\n",
            "\n",
            "- Model: K-Nearest Neighbors\n",
            "- algorithm: auto\n",
            "- leaf_size: 30\n",
            "- metric: minkowski\n",
            "- metric_params: None\n",
            "- n_jobs: None\n",
            "- n_neighbors: 15\n",
            "- p: 2\n",
            "- weights: distance\n",
            "\n",
            "Accuracy: 96.72727272727273 %\n",
            "\n",
            "Average precision score: 95.4836084631481 %\n",
            "\n",
            "Average recall score: 95.5 %\n",
            "\n",
            "Average F1-score: 96.5865992414665 %\n",
            "\n",
            "Matthews correlation coefficient: 0.9346651068884018\n",
            "\n",
            "Mean absolute error: 0.03272727272727273\n",
            "\n",
            "Confusion matrix:\n",
            "\n"
          ]
        },
        {
          "data": {
            "image/png": "[encoded data removed]",
            "text/plain": [
              "<Figure size 432x288 with 2 Axes>"
            ]
          },
          "metadata": {},
          "output_type": "display_data"
        },
        {
          "metadata": {
            "tags": null
          },
          "name": "stdout",
          "output_type": "stream",
          "text": [
            "\n",
            "Classification report:\n",
            "\n",
            "              precision    recall  f1-score   support\n",
            "\n",
            "           0       0.96      0.98      0.97      1700\n",
            "           1       0.98      0.95      0.97      1600\n",
            "\n",
            "    accuracy                           0.97      3300\n",
            "   macro avg       0.97      0.97      0.97      3300\n",
            "weighted avg       0.97      0.97      0.97      3300\n",
            "\n",
            "\n",
            "[#3]\n",
            "\n",
            "* Parameters:\n",
            "\n",
            "- Model: K-Nearest Neighbors\n",
            "- algorithm: auto\n",
            "- leaf_size: 30\n",
            "- metric: minkowski\n",
            "- metric_params: None\n",
            "- n_jobs: None\n",
            "- n_neighbors: 5\n",
            "- p: 2\n",
            "- weights: distance\n",
            "\n",
            "Accuracy: 96.7878787878788 %\n",
            "\n",
            "Average precision score: 95.03832393448198 %\n",
            "\n",
            "Average recall score: 96.8125 %\n",
            "\n",
            "Average F1-score: 96.6916354556804 %\n",
            "\n",
            "Matthews correlation coefficient: 0.9357060113184426\n",
            "\n",
            "Mean absolute error: 0.03212121212121212\n",
            "\n",
            "Confusion matrix:\n",
            "\n"
          ]
        },
        {
          "data": {
            "image/png": "[encoded data removed]",
            "text/plain": [
              "<Figure size 432x288 with 2 Axes>"
            ]
          },
          "metadata": {},
          "output_type": "display_data"
        },
        {
          "metadata": {
            "tags": null
          },
          "name": "stdout",
          "output_type": "stream",
          "text": [
            "\n",
            "Classification report:\n",
            "\n",
            "              precision    recall  f1-score   support\n",
            "\n",
            "           0       0.97      0.97      0.97      1700\n",
            "           1       0.97      0.97      0.97      1600\n",
            "\n",
            "    accuracy                           0.97      3300\n",
            "   macro avg       0.97      0.97      0.97      3300\n",
            "weighted avg       0.97      0.97      0.97      3300\n",
            "\n",
            "\n",
            "\n",
            "\t\t=============== Tf-idf ===============\n",
            "\n",
            "[#1]\n",
            "\n",
            "* Parameters:\n",
            "\n",
            "- Model: K-Nearest Neighbors\n",
            "- algorithm: auto\n",
            "- leaf_size: 30\n",
            "- metric: minkowski\n",
            "- metric_params: None\n",
            "- n_jobs: None\n",
            "- n_neighbors: 1\n",
            "- p: 2\n",
            "- weights: uniform\n",
            "\n",
            "Accuracy: 99.33333333333333 %\n",
            "\n",
            "Average precision score: 98.75875858961362 %\n",
            "\n",
            "Average recall score: 99.75 %\n",
            "\n",
            "Average F1-score: 99.31549471064096 %\n",
            "\n",
            "Matthews correlation coefficient: 0.9866934103986452\n",
            "\n",
            "Mean absolute error: 0.006666666666666667\n",
            "\n",
            "Confusion matrix:\n",
            "\n"
          ]
        },
        {
          "data": {
            "image/png": "[encoded data removed]",
            "text/plain": [
              "<Figure size 432x288 with 2 Axes>"
            ]
          },
          "metadata": {},
          "output_type": "display_data"
        },
        {
          "metadata": {
            "tags": null
          },
          "name": "stdout",
          "output_type": "stream",
          "text": [
            "\n",
            "Classification report:\n",
            "\n",
            "              precision    recall  f1-score   support\n",
            "\n",
            "           0       1.00      0.99      0.99      1700\n",
            "           1       0.99      1.00      0.99      1600\n",
            "\n",
            "    accuracy                           0.99      3300\n",
            "   macro avg       0.99      0.99      0.99      3300\n",
            "weighted avg       0.99      0.99      0.99      3300\n",
            "\n",
            "\n",
            "\n",
            "\t\t=============== Word2Vec ===============\n",
            "\n"
          ]
        },
        {
          "metadata": {
            "tags": null
          },
          "name": "stderr",
          "output_type": "stream",
          "text": [
            "/usr/local/lib/python3.7/dist-packages/sklearn/metrics/_classification.py:1318: UndefinedMetricWarning: Precision and F-score are ill-defined and being set to 0.0 in labels with no predicted samples. Use `zero_division` parameter to control this behavior.\n",
            "  _warn_prf(average, modifier, msg_start, len(result))\n",
            "/usr/local/lib/python3.7/dist-packages/sklearn/metrics/_classification.py:1318: UndefinedMetricWarning: Precision and F-score are ill-defined and being set to 0.0 in labels with no predicted samples. Use `zero_division` parameter to control this behavior.\n",
            "  _warn_prf(average, modifier, msg_start, len(result))\n",
            "/usr/local/lib/python3.7/dist-packages/sklearn/metrics/_classification.py:1318: UndefinedMetricWarning: Precision and F-score are ill-defined and being set to 0.0 in labels with no predicted samples. Use `zero_division` parameter to control this behavior.\n",
            "  _warn_prf(average, modifier, msg_start, len(result))\n",
            "/usr/local/lib/python3.7/dist-packages/sklearn/metrics/_classification.py:1318: UndefinedMetricWarning: Precision and F-score are ill-defined and being set to 0.0 in labels with no predicted samples. Use `zero_division` parameter to control this behavior.\n",
            "  _warn_prf(average, modifier, msg_start, len(result))\n",
            "/usr/local/lib/python3.7/dist-packages/sklearn/metrics/_classification.py:1318: UndefinedMetricWarning: Precision and F-score are ill-defined and being set to 0.0 in labels with no predicted samples. Use `zero_division` parameter to control this behavior.\n",
            "  _warn_prf(average, modifier, msg_start, len(result))\n",
            "/usr/local/lib/python3.7/dist-packages/sklearn/metrics/_classification.py:1318: UndefinedMetricWarning: Precision and F-score are ill-defined and being set to 0.0 in labels with no predicted samples. Use `zero_division` parameter to control this behavior.\n",
            "  _warn_prf(average, modifier, msg_start, len(result))\n",
            "/usr/local/lib/python3.7/dist-packages/sklearn/metrics/_classification.py:1318: UndefinedMetricWarning: Precision and F-score are ill-defined and being set to 0.0 in labels with no predicted samples. Use `zero_division` parameter to control this behavior.\n",
            "  _warn_prf(average, modifier, msg_start, len(result))\n",
            "/usr/local/lib/python3.7/dist-packages/sklearn/metrics/_classification.py:1318: UndefinedMetricWarning: Precision and F-score are ill-defined and being set to 0.0 in labels with no predicted samples. Use `zero_division` parameter to control this behavior.\n",
            "  _warn_prf(average, modifier, msg_start, len(result))\n",
            "/usr/local/lib/python3.7/dist-packages/sklearn/metrics/_classification.py:1318: UndefinedMetricWarning: Precision and F-score are ill-defined and being set to 0.0 in labels with no predicted samples. Use `zero_division` parameter to control this behavior.\n",
            "  _warn_prf(average, modifier, msg_start, len(result))\n",
            "/usr/local/lib/python3.7/dist-packages/sklearn/metrics/_classification.py:1318: UndefinedMetricWarning: Precision and F-score are ill-defined and being set to 0.0 in labels with no predicted samples. Use `zero_division` parameter to control this behavior.\n",
            "  _warn_prf(average, modifier, msg_start, len(result))\n",
            "/usr/local/lib/python3.7/dist-packages/sklearn/metrics/_classification.py:1318: UndefinedMetricWarning: Precision and F-score are ill-defined and being set to 0.0 in labels with no predicted samples. Use `zero_division` parameter to control this behavior.\n",
            "  _warn_prf(average, modifier, msg_start, len(result))\n",
            "/usr/local/lib/python3.7/dist-packages/sklearn/metrics/_classification.py:1318: UndefinedMetricWarning: Precision and F-score are ill-defined and being set to 0.0 in labels with no predicted samples. Use `zero_division` parameter to control this behavior.\n",
            "  _warn_prf(average, modifier, msg_start, len(result))\n",
            "/usr/local/lib/python3.7/dist-packages/sklearn/metrics/_classification.py:1318: UndefinedMetricWarning: Precision and F-score are ill-defined and being set to 0.0 in labels with no predicted samples. Use `zero_division` parameter to control this behavior.\n",
            "  _warn_prf(average, modifier, msg_start, len(result))\n",
            "/usr/local/lib/python3.7/dist-packages/sklearn/metrics/_classification.py:1318: UndefinedMetricWarning: Precision and F-score are ill-defined and being set to 0.0 in labels with no predicted samples. Use `zero_division` parameter to control this behavior.\n",
            "  _warn_prf(average, modifier, msg_start, len(result))\n",
            "/usr/local/lib/python3.7/dist-packages/sklearn/metrics/_classification.py:1318: UndefinedMetricWarning: Precision and F-score are ill-defined and being set to 0.0 in labels with no predicted samples. Use `zero_division` parameter to control this behavior.\n",
            "  _warn_prf(average, modifier, msg_start, len(result))\n",
            "/usr/local/lib/python3.7/dist-packages/sklearn/metrics/_classification.py:1318: UndefinedMetricWarning: Precision and F-score are ill-defined and being set to 0.0 in labels with no predicted samples. Use `zero_division` parameter to control this behavior.\n",
            "  _warn_prf(average, modifier, msg_start, len(result))\n",
            "/usr/local/lib/python3.7/dist-packages/sklearn/metrics/_classification.py:1318: UndefinedMetricWarning: Precision and F-score are ill-defined and being set to 0.0 in labels with no predicted samples. Use `zero_division` parameter to control this behavior.\n",
            "  _warn_prf(average, modifier, msg_start, len(result))\n",
            "/usr/local/lib/python3.7/dist-packages/sklearn/metrics/_classification.py:1318: UndefinedMetricWarning: Precision and F-score are ill-defined and being set to 0.0 in labels with no predicted samples. Use `zero_division` parameter to control this behavior.\n",
            "  _warn_prf(average, modifier, msg_start, len(result))\n",
            "/usr/local/lib/python3.7/dist-packages/sklearn/metrics/_classification.py:1318: UndefinedMetricWarning: Precision and F-score are ill-defined and being set to 0.0 in labels with no predicted samples. Use `zero_division` parameter to control this behavior.\n",
            "  _warn_prf(average, modifier, msg_start, len(result))\n",
            "/usr/local/lib/python3.7/dist-packages/sklearn/metrics/_classification.py:1318: UndefinedMetricWarning: Precision and F-score are ill-defined and being set to 0.0 in labels with no predicted samples. Use `zero_division` parameter to control this behavior.\n",
            "  _warn_prf(average, modifier, msg_start, len(result))\n",
            "/usr/local/lib/python3.7/dist-packages/sklearn/metrics/_classification.py:1318: UndefinedMetricWarning: Precision and F-score are ill-defined and being set to 0.0 in labels with no predicted samples. Use `zero_division` parameter to control this behavior.\n",
            "  _warn_prf(average, modifier, msg_start, len(result))\n",
            "/usr/local/lib/python3.7/dist-packages/sklearn/metrics/_classification.py:1318: UndefinedMetricWarning: Precision and F-score are ill-defined and being set to 0.0 in labels with no predicted samples. Use `zero_division` parameter to control this behavior.\n",
            "  _warn_prf(average, modifier, msg_start, len(result))\n",
            "/usr/local/lib/python3.7/dist-packages/sklearn/metrics/_classification.py:1318: UndefinedMetricWarning: Precision and F-score are ill-defined and being set to 0.0 in labels with no predicted samples. Use `zero_division` parameter to control this behavior.\n",
            "  _warn_prf(average, modifier, msg_start, len(result))\n",
            "/usr/local/lib/python3.7/dist-packages/sklearn/metrics/_classification.py:1318: UndefinedMetricWarning: Precision and F-score are ill-defined and being set to 0.0 in labels with no predicted samples. Use `zero_division` parameter to control this behavior.\n",
            "  _warn_prf(average, modifier, msg_start, len(result))\n",
            "/usr/local/lib/python3.7/dist-packages/sklearn/metrics/_classification.py:1318: UndefinedMetricWarning: Precision and F-score are ill-defined and being set to 0.0 in labels with no predicted samples. Use `zero_division` parameter to control this behavior.\n",
            "  _warn_prf(average, modifier, msg_start, len(result))\n",
            "/usr/local/lib/python3.7/dist-packages/sklearn/metrics/_classification.py:1318: UndefinedMetricWarning: Precision and F-score are ill-defined and being set to 0.0 in labels with no predicted samples. Use `zero_division` parameter to control this behavior.\n",
            "  _warn_prf(average, modifier, msg_start, len(result))\n",
            "/usr/local/lib/python3.7/dist-packages/sklearn/metrics/_classification.py:1318: UndefinedMetricWarning: Precision and F-score are ill-defined and being set to 0.0 in labels with no predicted samples. Use `zero_division` parameter to control this behavior.\n",
            "  _warn_prf(average, modifier, msg_start, len(result))\n",
            "/usr/local/lib/python3.7/dist-packages/sklearn/metrics/_classification.py:1318: UndefinedMetricWarning: Precision and F-score are ill-defined and being set to 0.0 in labels with no predicted samples. Use `zero_division` parameter to control this behavior.\n",
            "  _warn_prf(average, modifier, msg_start, len(result))\n",
            "/usr/local/lib/python3.7/dist-packages/sklearn/metrics/_classification.py:1318: UndefinedMetricWarning: Precision and F-score are ill-defined and being set to 0.0 in labels with no predicted samples. Use `zero_division` parameter to control this behavior.\n",
            "  _warn_prf(average, modifier, msg_start, len(result))\n",
            "/usr/local/lib/python3.7/dist-packages/sklearn/metrics/_classification.py:1318: UndefinedMetricWarning: Precision and F-score are ill-defined and being set to 0.0 in labels with no predicted samples. Use `zero_division` parameter to control this behavior.\n",
            "  _warn_prf(average, modifier, msg_start, len(result))\n",
            "/usr/local/lib/python3.7/dist-packages/sklearn/metrics/_classification.py:1318: UndefinedMetricWarning: Precision and F-score are ill-defined and being set to 0.0 in labels with no predicted samples. Use `zero_division` parameter to control this behavior.\n",
            "  _warn_prf(average, modifier, msg_start, len(result))\n",
            "/usr/local/lib/python3.7/dist-packages/sklearn/metrics/_classification.py:1318: UndefinedMetricWarning: Precision and F-score are ill-defined and being set to 0.0 in labels with no predicted samples. Use `zero_division` parameter to control this behavior.\n",
            "  _warn_prf(average, modifier, msg_start, len(result))\n",
            "/usr/local/lib/python3.7/dist-packages/sklearn/metrics/_classification.py:1318: UndefinedMetricWarning: Precision and F-score are ill-defined and being set to 0.0 in labels with no predicted samples. Use `zero_division` parameter to control this behavior.\n",
            "  _warn_prf(average, modifier, msg_start, len(result))\n",
            "/usr/local/lib/python3.7/dist-packages/sklearn/metrics/_classification.py:1318: UndefinedMetricWarning: Precision and F-score are ill-defined and being set to 0.0 in labels with no predicted samples. Use `zero_division` parameter to control this behavior.\n",
            "  _warn_prf(average, modifier, msg_start, len(result))\n",
            "/usr/local/lib/python3.7/dist-packages/sklearn/metrics/_classification.py:1318: UndefinedMetricWarning: Precision and F-score are ill-defined and being set to 0.0 in labels with no predicted samples. Use `zero_division` parameter to control this behavior.\n",
            "  _warn_prf(average, modifier, msg_start, len(result))\n",
            "/usr/local/lib/python3.7/dist-packages/sklearn/metrics/_classification.py:1318: UndefinedMetricWarning: Precision and F-score are ill-defined and being set to 0.0 in labels with no predicted samples. Use `zero_division` parameter to control this behavior.\n",
            "  _warn_prf(average, modifier, msg_start, len(result))\n"
          ]
        },
        {
          "metadata": {
            "tags": null
          },
          "name": "stdout",
          "output_type": "stream",
          "text": [
            "[#1]\n",
            "\n",
            "* Parameters:\n",
            "\n",
            "- Model: K-Nearest Neighbors\n",
            "- algorithm: auto\n",
            "- leaf_size: 30\n",
            "- metric: minkowski\n",
            "- metric_params: None\n",
            "- n_jobs: None\n",
            "- n_neighbors: 1\n",
            "- p: 2\n",
            "- weights: uniform\n",
            "\n",
            "Accuracy: 48.484848484848484 %\n",
            "\n",
            "Average precision score: 48.484848484848484 %\n",
            "\n",
            "Average recall score: 100.0 %\n",
            "\n",
            "Average F1-score: 65.3061224489796 %\n",
            "\n",
            "Matthews correlation coefficient: 0.0\n",
            "\n",
            "Mean absolute error: 0.5151515151515151\n",
            "\n",
            "Confusion matrix:\n",
            "\n"
          ]
        },
        {
          "data": {
            "image/png": "[encoded data removed]",
            "text/plain": [
              "<Figure size 432x288 with 2 Axes>"
            ]
          },
          "metadata": {},
          "output_type": "display_data"
        },
        {
          "output_type": "stream",
          "name": "stdout",
          "text": [
            "\n",
            "Classification report:\n",
            "\n",
            "              precision    recall  f1-score   support\n",
            "\n",
            "           0       0.00      0.00      0.00      1700\n",
            "           1       0.48      1.00      0.65      1600\n",
            "\n",
            "    accuracy                           0.48      3300\n",
            "   macro avg       0.24      0.50      0.33      3300\n",
            "weighted avg       0.24      0.48      0.32      3300\n",
            "\n",
            "\n",
            "\t--------------- K-FOLD ---------------\n",
            "\n",
            "- n_folds: 10\n",
            "\n",
            "\t\t=============== BoW ===============\n",
            "\n",
            "[#1]\n",
            "\n",
            "* Parameters:\n",
            "\n",
            "- Model: K-Nearest Neighbors\n",
            "- algorithm: auto\n",
            "- leaf_size: 30\n",
            "- metric: minkowski\n",
            "- metric_params: None\n",
            "- n_jobs: None\n",
            "- n_neighbors: 15\n",
            "- p: 2\n",
            "- weights: distance\n",
            "\n",
            "Accuracy: 96.6 %\n",
            "\n",
            "Average precision score: 94.13101659212946 %\n",
            "\n",
            "Average recall score: 98.24364723467862 %\n",
            "\n",
            "Average F1-score: 96.56565656565657 %\n",
            "\n",
            "Matthews correlation coefficient: 0.9325458563328088\n",
            "\n",
            "Mean absolute error: 0.034\n",
            "\n",
            "Confusion matrix:\n",
            "\n"
          ]
        },
        {
          "output_type": "display_data",
          "data": {
            "text/plain": [
              "<Figure size 432x288 with 2 Axes>"
            ],
            "image/png": "[encoded data removed]"
          },
          "metadata": {
            "needs_background": "light"
          }
        },
        {
          "output_type": "stream",
          "name": "stdout",
          "text": [
            "\n",
            "Classification report:\n",
            "\n",
            "              precision    recall  f1-score   support\n",
            "\n",
            "           0       0.98      0.95      0.97      5648\n",
            "           1       0.95      0.98      0.97      5352\n",
            "\n",
            "    accuracy                           0.97     11000\n",
            "   macro avg       0.97      0.97      0.97     11000\n",
            "weighted avg       0.97      0.97      0.97     11000\n",
            "\n",
            "\n",
            "[#2]\n",
            "\n",
            "* Parameters:\n",
            "\n",
            "- Model: K-Nearest Neighbors\n",
            "- algorithm: auto\n",
            "- leaf_size: 30\n",
            "- metric: minkowski\n",
            "- metric_params: None\n",
            "- n_jobs: None\n",
            "- n_neighbors: 1\n",
            "- p: 2\n",
            "- weights: uniform\n",
            "\n",
            "Accuracy: 96.56363636363636 %\n",
            "\n",
            "Average precision score: 94.22504746071048 %\n",
            "\n",
            "Average recall score: 97.83258594917787 %\n",
            "\n",
            "Average F1-score: 96.51612903225806 %\n",
            "\n",
            "Matthews correlation coefficient: 0.9316003503209025\n",
            "\n",
            "Mean absolute error: 0.03436363636363637\n",
            "\n",
            "Confusion matrix:\n",
            "\n"
          ]
        },
        {
          "output_type": "display_data",
          "data": {
            "text/plain": [
              "<Figure size 432x288 with 2 Axes>"
            ],
            "image/png": "[encoded data removed]"
          },
          "metadata": {
            "needs_background": "light"
          }
        },
        {
          "output_type": "stream",
          "name": "stdout",
          "text": [
            "\n",
            "Classification report:\n",
            "\n",
            "              precision    recall  f1-score   support\n",
            "\n",
            "           0       0.98      0.95      0.97      5648\n",
            "           1       0.95      0.98      0.97      5352\n",
            "\n",
            "    accuracy                           0.97     11000\n",
            "   macro avg       0.97      0.97      0.97     11000\n",
            "weighted avg       0.97      0.97      0.97     11000\n",
            "\n",
            "\n",
            "[#3]\n",
            "\n",
            "* Parameters:\n",
            "\n",
            "- Model: K-Nearest Neighbors\n",
            "- algorithm: auto\n",
            "- leaf_size: 30\n",
            "- metric: minkowski\n",
            "- metric_params: None\n",
            "- n_jobs: None\n",
            "- n_neighbors: 10\n",
            "- p: 2\n",
            "- weights: distance\n",
            "\n",
            "Accuracy: 96.55454545454546 %\n",
            "\n",
            "Average precision score: 94.03961200965895 %\n",
            "\n",
            "Average recall score: 98.26233183856502 %\n",
            "\n",
            "Average F1-score: 96.52197852619987 %\n",
            "\n",
            "Matthews correlation coefficient: 0.9316796232344894\n",
            "\n",
            "Mean absolute error: 0.03445454545454545\n",
            "\n",
            "Confusion matrix:\n",
            "\n"
          ]
        },
        {
          "output_type": "display_data",
          "data": {
            "text/plain": [
              "<Figure size 432x288 with 2 Axes>"
            ],
            "image/png": "[encoded data removed]"
          },
          "metadata": {
            "needs_background": "light"
          }
        },
        {
          "output_type": "stream",
          "name": "stdout",
          "text": [
            "\n",
            "Classification report:\n",
            "\n",
            "              precision    recall  f1-score   support\n",
            "\n",
            "           0       0.98      0.95      0.97      5648\n",
            "           1       0.95      0.98      0.97      5352\n",
            "\n",
            "    accuracy                           0.97     11000\n",
            "   macro avg       0.97      0.97      0.97     11000\n",
            "weighted avg       0.97      0.97      0.97     11000\n",
            "\n",
            "\n",
            "\n",
            "\t\t=============== Tf-idf ===============\n",
            "\n",
            "[#1]\n",
            "\n",
            "* Parameters:\n",
            "\n",
            "- Model: K-Nearest Neighbors\n",
            "- algorithm: auto\n",
            "- leaf_size: 30\n",
            "- metric: minkowski\n",
            "- metric_params: None\n",
            "- n_jobs: None\n",
            "- n_neighbors: 3\n",
            "- p: 2\n",
            "- weights: uniform\n",
            "\n",
            "Accuracy: 99.5 %\n",
            "\n",
            "Average precision score: 99.14074561920502 %\n",
            "\n",
            "Average recall score: 99.66367713004485 %\n",
            "\n",
            "Average F1-score: 99.48708383847804 %\n",
            "\n",
            "Matthews correlation coefficient: 0.9899995993608481\n",
            "\n",
            "Mean absolute error: 0.005\n",
            "\n",
            "Confusion matrix:\n",
            "\n"
          ]
        },
        {
          "output_type": "display_data",
          "data": {
            "text/plain": [
              "<Figure size 432x288 with 2 Axes>"
            ],
            "image/png": "[encoded data removed]"
          },
          "metadata": {
            "needs_background": "light"
          }
        },
        {
          "output_type": "stream",
          "name": "stdout",
          "text": [
            "\n",
            "Classification report:\n",
            "\n",
            "              precision    recall  f1-score   support\n",
            "\n",
            "           0       1.00      0.99      1.00      5648\n",
            "           1       0.99      1.00      0.99      5352\n",
            "\n",
            "    accuracy                           0.99     11000\n",
            "   macro avg       0.99      1.00      0.99     11000\n",
            "weighted avg       1.00      0.99      1.00     11000\n",
            "\n",
            "\n",
            "\n",
            "\t\t=============== Word2Vec ===============\n",
            "\n",
            "[#1]\n",
            "\n",
            "* Parameters:\n",
            "\n",
            "- Model: K-Nearest Neighbors\n",
            "- algorithm: auto\n",
            "- leaf_size: 30\n",
            "- metric: minkowski\n",
            "- metric_params: None\n",
            "- n_jobs: None\n",
            "- n_neighbors: 1\n",
            "- p: 2\n",
            "- weights: uniform\n",
            "\n",
            "Accuracy: 96.70909090909092 %\n",
            "\n",
            "Average precision score: 94.40751278657974 %\n",
            "\n",
            "Average recall score: 98.05680119581464 %\n",
            "\n",
            "Average F1-score: 96.66605268005158 %\n",
            "\n",
            "Matthews correlation coefficient: 0.9345501442145594\n",
            "\n",
            "Mean absolute error: 0.03290909090909091\n",
            "\n",
            "Confusion matrix:\n",
            "\n"
          ]
        },
        {
          "output_type": "display_data",
          "data": {
            "text/plain": [
              "<Figure size 432x288 with 2 Axes>"
            ],
            "image/png": "[encoded data removed]"
          },
          "metadata": {
            "needs_background": "light"
          }
        },
        {
          "output_type": "stream",
          "name": "stdout",
          "text": [
            "\n",
            "Classification report:\n",
            "\n",
            "              precision    recall  f1-score   support\n",
            "\n",
            "           0       0.98      0.95      0.97      5648\n",
            "           1       0.95      0.98      0.97      5352\n",
            "\n",
            "    accuracy                           0.97     11000\n",
            "   macro avg       0.97      0.97      0.97     11000\n",
            "weighted avg       0.97      0.97      0.97     11000\n",
            "\n",
            "\n",
            "[#2]\n",
            "\n",
            "* Parameters:\n",
            "\n",
            "- Model: K-Nearest Neighbors\n",
            "- algorithm: auto\n",
            "- leaf_size: 30\n",
            "- metric: minkowski\n",
            "- metric_params: None\n",
            "- n_jobs: None\n",
            "- n_neighbors: 5\n",
            "- p: 2\n",
            "- weights: distance\n",
            "\n",
            "Accuracy: 96.66363636363636 %\n",
            "\n",
            "Average precision score: 94.14687723615435 %\n",
            "\n",
            "Average recall score: 98.50523168908819 %\n",
            "\n",
            "Average F1-score: 96.63642195949042 %\n",
            "\n",
            "Matthews correlation coefficient: 0.9339533062071358\n",
            "\n",
            "Mean absolute error: 0.033363636363636366\n",
            "\n",
            "Confusion matrix:\n",
            "\n"
          ]
        },
        {
          "output_type": "display_data",
          "data": {
            "text/plain": [
              "<Figure size 432x288 with 2 Axes>"
            ],
            "image/png": "[encoded data removed]"
          },
          "metadata": {
            "needs_background": "light"
          }
        },
        {
          "output_type": "stream",
          "name": "stdout",
          "text": [
            "\n",
            "Classification report:\n",
            "\n",
            "              precision    recall  f1-score   support\n",
            "\n",
            "           0       0.99      0.95      0.97      5648\n",
            "           1       0.95      0.99      0.97      5352\n",
            "\n",
            "    accuracy                           0.97     11000\n",
            "   macro avg       0.97      0.97      0.97     11000\n",
            "weighted avg       0.97      0.97      0.97     11000\n",
            "\n",
            "\n"
          ]
        }
      ],
      "source": [
        "# Executes a series of learnings\n",
        "execute_a_series_of_k_nearest_neighbors_learnings(X=X, Y=Y)"
      ]
    }
  ],
  "metadata": {
    "kernelspec": {
      "display_name": "Python 3 (ipykernel)",
      "language": "python",
      "name": "python3"
    },
    "language_info": {
      "codemirror_mode": {
        "name": "ipython",
        "version": 3
      },
      "file_extension": ".py",
      "mimetype": "text/x-python",
      "name": "python",
      "nbconvert_exporter": "python",
      "pygments_lexer": "ipython3",
      "version": "3.9.7"
    },
    "colab": {
      "name": "K-Nearest_Neighbors.ipynb",
      "provenance": []
    }
  },
  "nbformat": 4,
  "nbformat_minor": 5
}
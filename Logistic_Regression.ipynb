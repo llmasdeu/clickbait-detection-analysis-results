{
  "cells": [
    {
      "cell_type": "code",
      "execution_count": 1,
      "id": "db56e24f",
      "metadata": {
        "id": "db56e24f"
      },
      "outputs": [],
      "source": [
        "from utils.utils import get_json_content\n",
        "from utils.learners import execute_a_series_of_logistic_regression_learnings"
      ]
    },
    {
      "cell_type": "markdown",
      "id": "c2e90002",
      "metadata": {
        "id": "c2e90002"
      },
      "source": [
        "# Logistic Regression Training"
      ]
    },
    {
      "cell_type": "markdown",
      "id": "1a86dbba",
      "metadata": {
        "id": "1a86dbba"
      },
      "source": [
        "## File: 'headlines_001.json'"
      ]
    },
    {
      "cell_type": "markdown",
      "id": "b1bb136d",
      "metadata": {
        "id": "b1bb136d"
      },
      "source": [
        "Reads the data."
      ]
    },
    {
      "cell_type": "code",
      "execution_count": 2,
      "id": "f13bfaa3",
      "metadata": {
        "colab": {
          "base_uri": "https://localhost:8080/"
        },
        "id": "f13bfaa3",
        "outputId": "540ae1e7-0050-4a31-8427-7d942450b887"
      },
      "outputs": [
        {
          "output_type": "stream",
          "name": "stdout",
          "text": [
            "LENGTH - headline: 1000; is_clickbait: 1000\n"
          ]
        }
      ],
      "source": [
        "# Reads the data from the file\n",
        "X, Y = get_json_content(i=0)\n",
        "\n",
        "# Prints the dataset size\n",
        "print(f\"LENGTH - headline: {len(X)}; is_clickbait: {len(Y)}\")"
      ]
    },
    {
      "cell_type": "markdown",
      "id": "246601a7",
      "metadata": {
        "id": "246601a7"
      },
      "source": [
        "Executes a series of learnings."
      ]
    },
    {
      "cell_type": "code",
      "execution_count": 3,
      "id": "0dfc468e",
      "metadata": {
        "scrolled": false,
        "colab": {
          "base_uri": "https://localhost:8080/",
          "height": 1000
        },
        "id": "0dfc468e",
        "outputId": "a0854e09-af78-4d40-a5b6-35a7bf2a4a8f"
      },
      "outputs": [
        {
          "output_type": "stream",
          "name": "stdout",
          "text": [
            "\t--------------- TRAIN-TEST SPLIT ---------------\n",
            "\n",
            "- test_size: 0.3\n",
            "\n",
            "\t\t=============== BoW ===============\n",
            "\n",
            "Solver lbfgs supports only dual=False, got dual=True\n",
            "Solver lbfgs supports only 'l2' or 'none' penalties, got l1 penalty.\n",
            "Solver lbfgs supports only 'l2' or 'none' penalties, got l1 penalty.\n",
            "Solver lbfgs supports only 'l2' or 'none' penalties, got elasticnet penalty.\n",
            "Solver lbfgs supports only 'l2' or 'none' penalties, got elasticnet penalty.\n",
            "Solver lbfgs supports only dual=False, got dual=True\n",
            "[#1]\n",
            "\n",
            "* Parameters:\n",
            "\n",
            "- Model: Logistic Regression\n",
            "- C: 1.0\n",
            "- class_weight: None\n",
            "- dual: False\n",
            "- fit_intercept: True\n",
            "- intercept_scaling: 1\n",
            "- l1_ratio: None\n",
            "- max_iter: 100\n",
            "- multi_class: auto\n",
            "- n_jobs: None\n",
            "- penalty: none\n",
            "- random_state: None\n",
            "- solver: lbfgs\n",
            "- tol: 0.0001\n",
            "- verbose: 0\n",
            "- warm_start: False\n",
            "\n",
            "Accuracy: 68.66666666666667 %\n",
            "\n",
            "Average precision score: 61.85691573926868 %\n",
            "\n",
            "Average recall score: 75.67567567567568 %\n",
            "\n",
            "Average F1-score: 70.44025157232704 %\n",
            "\n",
            "Matthews correlation coefficient: 0.37852420684695987\n",
            "\n",
            "Mean absolute error: 0.31333333333333335\n",
            "\n",
            "Confusion matrix:\n",
            "\n"
          ]
        },
        {
          "output_type": "display_data",
          "data": {
            "text/plain": [
              "<Figure size 432x288 with 2 Axes>"
            ],
            "image/png": "[encoded data removed]"
          },
          "metadata": {
            "needs_background": "light"
          }
        },
        {
          "output_type": "stream",
          "name": "stdout",
          "text": [
            "\n",
            "Classification report:\n",
            "\n",
            "              precision    recall  f1-score   support\n",
            "\n",
            "           0       0.72      0.62      0.67       152\n",
            "           1       0.66      0.76      0.70       148\n",
            "\n",
            "    accuracy                           0.69       300\n",
            "   macro avg       0.69      0.69      0.69       300\n",
            "weighted avg       0.69      0.69      0.69       300\n",
            "\n",
            "\n",
            "\n",
            "\t\t=============== Tf-idf ===============\n",
            "\n",
            "Solver lbfgs supports only dual=False, got dual=True\n",
            "Solver lbfgs supports only 'l2' or 'none' penalties, got l1 penalty.\n",
            "Solver lbfgs supports only 'l2' or 'none' penalties, got l1 penalty.\n",
            "Solver lbfgs supports only 'l2' or 'none' penalties, got elasticnet penalty.\n",
            "Solver lbfgs supports only 'l2' or 'none' penalties, got elasticnet penalty.\n",
            "Solver lbfgs supports only dual=False, got dual=True\n",
            "[#1]\n",
            "\n",
            "* Parameters:\n",
            "\n",
            "- Model: Logistic Regression\n",
            "- C: 1.0\n",
            "- class_weight: None\n",
            "- dual: False\n",
            "- fit_intercept: True\n",
            "- intercept_scaling: 1\n",
            "- l1_ratio: None\n",
            "- max_iter: 100\n",
            "- multi_class: auto\n",
            "- n_jobs: None\n",
            "- penalty: none\n",
            "- random_state: None\n",
            "- solver: lbfgs\n",
            "- tol: 0.0001\n",
            "- verbose: 0\n",
            "- warm_start: False\n",
            "\n",
            "Accuracy: 70.33333333333334 %\n",
            "\n",
            "Average precision score: 63.575123510607376 %\n",
            "\n",
            "Average recall score: 72.2972972972973 %\n",
            "\n",
            "Average F1-score: 70.62706270627064 %\n",
            "\n",
            "Matthews correlation coefficient: 0.4073736852064306\n",
            "\n",
            "Mean absolute error: 0.2966666666666667\n",
            "\n",
            "Confusion matrix:\n",
            "\n"
          ]
        },
        {
          "output_type": "display_data",
          "data": {
            "text/plain": [
              "<Figure size 432x288 with 2 Axes>"
            ],
            "image/png": "[encoded data removed]"
          },
          "metadata": {
            "needs_background": "light"
          }
        },
        {
          "output_type": "stream",
          "name": "stdout",
          "text": [
            "\n",
            "Classification report:\n",
            "\n",
            "              precision    recall  f1-score   support\n",
            "\n",
            "           0       0.72      0.68      0.70       152\n",
            "           1       0.69      0.72      0.71       148\n",
            "\n",
            "    accuracy                           0.70       300\n",
            "   macro avg       0.70      0.70      0.70       300\n",
            "weighted avg       0.70      0.70      0.70       300\n",
            "\n",
            "\n",
            "\n",
            "\t\t=============== Word2Vec ===============\n",
            "\n",
            "Solver lbfgs supports only dual=False, got dual=True\n",
            "Solver lbfgs supports only 'l2' or 'none' penalties, got l1 penalty.\n",
            "Solver lbfgs supports only 'l2' or 'none' penalties, got l1 penalty.\n",
            "Solver lbfgs supports only 'l2' or 'none' penalties, got elasticnet penalty.\n",
            "Solver lbfgs supports only 'l2' or 'none' penalties, got elasticnet penalty.\n",
            "Solver lbfgs supports only dual=False, got dual=True\n",
            "[#1]\n",
            "\n",
            "* Parameters:\n",
            "\n",
            "- Model: Logistic Regression\n",
            "- C: 1.0\n",
            "- class_weight: None\n",
            "- dual: False\n",
            "- fit_intercept: True\n",
            "- intercept_scaling: 1\n",
            "- l1_ratio: None\n",
            "- max_iter: 100\n",
            "- multi_class: auto\n",
            "- n_jobs: None\n",
            "- penalty: l2\n",
            "- random_state: None\n",
            "- solver: lbfgs\n",
            "- tol: 0.0001\n",
            "- verbose: 0\n",
            "- warm_start: False\n",
            "\n",
            "Accuracy: 54.333333333333336 %\n",
            "\n",
            "Average precision score: 51.682539682539684 %\n",
            "\n",
            "Average recall score: 25.0 %\n",
            "\n",
            "Average F1-score: 35.07109004739337 %\n",
            "\n",
            "Matthews correlation coefficient: 0.09690492773922955\n",
            "\n",
            "Mean absolute error: 0.45666666666666667\n",
            "\n",
            "Confusion matrix:\n",
            "\n"
          ]
        },
        {
          "output_type": "stream",
          "name": "stderr",
          "text": [
            "/usr/local/lib/python3.7/dist-packages/sklearn/linear_model/_logistic.py:818: ConvergenceWarning: lbfgs failed to converge (status=1):\n",
            "STOP: TOTAL NO. of ITERATIONS REACHED LIMIT.\n",
            "\n",
            "Increase the number of iterations (max_iter) or scale the data as shown in:\n",
            "    https://scikit-learn.org/stable/modules/preprocessing.html\n",
            "Please also refer to the documentation for alternative solver options:\n",
            "    https://scikit-learn.org/stable/modules/linear_model.html#logistic-regression\n",
            "  extra_warning_msg=_LOGISTIC_SOLVER_CONVERGENCE_MSG,\n",
            "/usr/local/lib/python3.7/dist-packages/sklearn/metrics/_classification.py:1318: UndefinedMetricWarning: Precision and F-score are ill-defined and being set to 0.0 in labels with no predicted samples. Use `zero_division` parameter to control this behavior.\n",
            "  _warn_prf(average, modifier, msg_start, len(result))\n",
            "/usr/local/lib/python3.7/dist-packages/sklearn/metrics/_classification.py:1318: UndefinedMetricWarning: Precision and F-score are ill-defined and being set to 0.0 in labels with no predicted samples. Use `zero_division` parameter to control this behavior.\n",
            "  _warn_prf(average, modifier, msg_start, len(result))\n",
            "/usr/local/lib/python3.7/dist-packages/sklearn/metrics/_classification.py:1318: UndefinedMetricWarning: Precision and F-score are ill-defined and being set to 0.0 in labels with no predicted samples. Use `zero_division` parameter to control this behavior.\n",
            "  _warn_prf(average, modifier, msg_start, len(result))\n"
          ]
        },
        {
          "output_type": "display_data",
          "data": {
            "text/plain": [
              "<Figure size 432x288 with 2 Axes>"
            ],
            "image/png": "[encoded data removed]"
          },
          "metadata": {
            "needs_background": "light"
          }
        },
        {
          "output_type": "stream",
          "name": "stdout",
          "text": [
            "\n",
            "Classification report:\n",
            "\n",
            "              precision    recall  f1-score   support\n",
            "\n",
            "           0       0.53      0.83      0.65       152\n",
            "           1       0.59      0.25      0.35       148\n",
            "\n",
            "    accuracy                           0.54       300\n",
            "   macro avg       0.56      0.54      0.50       300\n",
            "weighted avg       0.56      0.54      0.50       300\n",
            "\n",
            "\n",
            "[#2]\n",
            "\n",
            "* Parameters:\n",
            "\n",
            "- Model: Logistic Regression\n",
            "- C: 1.0\n",
            "- class_weight: None\n",
            "- dual: False\n",
            "- fit_intercept: True\n",
            "- intercept_scaling: 1\n",
            "- l1_ratio: None\n",
            "- max_iter: 100\n",
            "- multi_class: auto\n",
            "- n_jobs: None\n",
            "- penalty: none\n",
            "- random_state: None\n",
            "- solver: lbfgs\n",
            "- tol: 0.0001\n",
            "- verbose: 0\n",
            "- warm_start: False\n",
            "\n",
            "Accuracy: 49.333333333333336 %\n",
            "\n",
            "Average precision score: 49.333333333333336 %\n",
            "\n",
            "Average recall score: 100.0 %\n",
            "\n",
            "Average F1-score: 66.07142857142857 %\n",
            "\n",
            "Matthews correlation coefficient: 0.0\n",
            "\n",
            "Mean absolute error: 0.5066666666666667\n",
            "\n",
            "Confusion matrix:\n",
            "\n"
          ]
        },
        {
          "output_type": "display_data",
          "data": {
            "text/plain": [
              "<Figure size 432x288 with 2 Axes>"
            ],
            "image/png": "[encoded data removed]"
          },
          "metadata": {
            "needs_background": "light"
          }
        },
        {
          "output_type": "stream",
          "name": "stdout",
          "text": [
            "\n",
            "Classification report:\n",
            "\n",
            "              precision    recall  f1-score   support\n",
            "\n",
            "           0       0.00      0.00      0.00       152\n",
            "           1       0.49      1.00      0.66       148\n",
            "\n",
            "    accuracy                           0.49       300\n",
            "   macro avg       0.25      0.50      0.33       300\n",
            "weighted avg       0.24      0.49      0.33       300\n",
            "\n",
            "\n",
            "\t--------------- K-FOLD ---------------\n",
            "\n",
            "- n_folds: 10\n",
            "\n",
            "\t\t=============== BoW ===============\n",
            "\n",
            "Solver lbfgs supports only dual=False, got dual=True\n",
            "Solver lbfgs supports only 'l2' or 'none' penalties, got l1 penalty.\n",
            "Solver lbfgs supports only 'l2' or 'none' penalties, got l1 penalty.\n",
            "Solver lbfgs supports only 'l2' or 'none' penalties, got elasticnet penalty.\n",
            "Solver lbfgs supports only 'l2' or 'none' penalties, got elasticnet penalty.\n",
            "Solver lbfgs supports only dual=False, got dual=True\n",
            "[#1]\n",
            "\n",
            "* Parameters:\n",
            "\n",
            "- Model: Logistic Regression\n",
            "- C: 1.0\n",
            "- class_weight: None\n",
            "- dual: False\n",
            "- fit_intercept: True\n",
            "- intercept_scaling: 1\n",
            "- l1_ratio: None\n",
            "- max_iter: 100\n",
            "- multi_class: auto\n",
            "- n_jobs: None\n",
            "- penalty: none\n",
            "- random_state: None\n",
            "- solver: lbfgs\n",
            "- tol: 0.0001\n",
            "- verbose: 0\n",
            "- warm_start: False\n",
            "\n",
            "Accuracy: 77.60000000000001 %\n",
            "\n",
            "Average precision score: 71.51012145748987 %\n",
            "\n",
            "Average recall score: 77.0 %\n",
            "\n",
            "Average F1-score: 77.46478873239435 %\n",
            "\n",
            "Matthews correlation coefficient: 0.5520397482928672\n",
            "\n",
            "Mean absolute error: 0.224\n",
            "\n",
            "Confusion matrix:\n",
            "\n"
          ]
        },
        {
          "output_type": "display_data",
          "data": {
            "text/plain": [
              "<Figure size 432x288 with 2 Axes>"
            ],
            "image/png": "[encoded data removed]"
          },
          "metadata": {
            "needs_background": "light"
          }
        },
        {
          "output_type": "stream",
          "name": "stdout",
          "text": [
            "\n",
            "Classification report:\n",
            "\n",
            "              precision    recall  f1-score   support\n",
            "\n",
            "           0       0.77      0.78      0.78       500\n",
            "           1       0.78      0.77      0.77       500\n",
            "\n",
            "    accuracy                           0.78      1000\n",
            "   macro avg       0.78      0.78      0.78      1000\n",
            "weighted avg       0.78      0.78      0.78      1000\n",
            "\n",
            "\n",
            "\n",
            "\t\t=============== Tf-idf ===============\n",
            "\n",
            "Solver lbfgs supports only dual=False, got dual=True\n",
            "Solver lbfgs supports only 'l2' or 'none' penalties, got l1 penalty.\n",
            "Solver lbfgs supports only 'l2' or 'none' penalties, got l1 penalty.\n",
            "Solver lbfgs supports only 'l2' or 'none' penalties, got elasticnet penalty.\n",
            "Solver lbfgs supports only 'l2' or 'none' penalties, got elasticnet penalty.\n",
            "Solver lbfgs supports only dual=False, got dual=True\n",
            "[#1]\n",
            "\n",
            "* Parameters:\n",
            "\n",
            "- Model: Logistic Regression\n",
            "- C: 1.0\n",
            "- class_weight: None\n",
            "- dual: False\n",
            "- fit_intercept: True\n",
            "- intercept_scaling: 1\n",
            "- l1_ratio: None\n",
            "- max_iter: 100\n",
            "- multi_class: auto\n",
            "- n_jobs: None\n",
            "- penalty: none\n",
            "- random_state: None\n",
            "- solver: lbfgs\n",
            "- tol: 0.0001\n",
            "- verbose: 0\n",
            "- warm_start: False\n",
            "\n",
            "Accuracy: 78.4 %\n",
            "\n",
            "Average precision score: 72.33064516129032 %\n",
            "\n",
            "Average recall score: 78.0 %\n",
            "\n",
            "Average F1-score: 78.3132530120482 %\n",
            "\n",
            "Matthews correlation coefficient: 0.5680181768724946\n",
            "\n",
            "Mean absolute error: 0.216\n",
            "\n",
            "Confusion matrix:\n",
            "\n"
          ]
        },
        {
          "output_type": "display_data",
          "data": {
            "text/plain": [
              "<Figure size 432x288 with 2 Axes>"
            ],
            "image/png": "[encoded data removed]"
          },
          "metadata": {
            "needs_background": "light"
          }
        },
        {
          "output_type": "stream",
          "name": "stdout",
          "text": [
            "\n",
            "Classification report:\n",
            "\n",
            "              precision    recall  f1-score   support\n",
            "\n",
            "           0       0.78      0.79      0.78       500\n",
            "           1       0.79      0.78      0.78       500\n",
            "\n",
            "    accuracy                           0.78      1000\n",
            "   macro avg       0.78      0.78      0.78      1000\n",
            "weighted avg       0.78      0.78      0.78      1000\n",
            "\n",
            "\n",
            "\n",
            "\t\t=============== Word2Vec ===============\n",
            "\n",
            "Solver lbfgs supports only dual=False, got dual=True\n",
            "Solver lbfgs supports only 'l2' or 'none' penalties, got l1 penalty.\n",
            "Solver lbfgs supports only 'l2' or 'none' penalties, got l1 penalty.\n",
            "Solver lbfgs supports only 'l2' or 'none' penalties, got elasticnet penalty.\n",
            "Solver lbfgs supports only 'l2' or 'none' penalties, got elasticnet penalty.\n"
          ]
        },
        {
          "output_type": "stream",
          "name": "stderr",
          "text": [
            "/usr/local/lib/python3.7/dist-packages/sklearn/linear_model/_logistic.py:818: ConvergenceWarning: lbfgs failed to converge (status=1):\n",
            "STOP: TOTAL NO. of ITERATIONS REACHED LIMIT.\n",
            "\n",
            "Increase the number of iterations (max_iter) or scale the data as shown in:\n",
            "    https://scikit-learn.org/stable/modules/preprocessing.html\n",
            "Please also refer to the documentation for alternative solver options:\n",
            "    https://scikit-learn.org/stable/modules/linear_model.html#logistic-regression\n",
            "  extra_warning_msg=_LOGISTIC_SOLVER_CONVERGENCE_MSG,\n",
            "/usr/local/lib/python3.7/dist-packages/sklearn/linear_model/_logistic.py:818: ConvergenceWarning: lbfgs failed to converge (status=1):\n",
            "STOP: TOTAL NO. of ITERATIONS REACHED LIMIT.\n",
            "\n",
            "Increase the number of iterations (max_iter) or scale the data as shown in:\n",
            "    https://scikit-learn.org/stable/modules/preprocessing.html\n",
            "Please also refer to the documentation for alternative solver options:\n",
            "    https://scikit-learn.org/stable/modules/linear_model.html#logistic-regression\n",
            "  extra_warning_msg=_LOGISTIC_SOLVER_CONVERGENCE_MSG,\n",
            "/usr/local/lib/python3.7/dist-packages/sklearn/linear_model/_logistic.py:818: ConvergenceWarning: lbfgs failed to converge (status=1):\n",
            "STOP: TOTAL NO. of ITERATIONS REACHED LIMIT.\n",
            "\n",
            "Increase the number of iterations (max_iter) or scale the data as shown in:\n",
            "    https://scikit-learn.org/stable/modules/preprocessing.html\n",
            "Please also refer to the documentation for alternative solver options:\n",
            "    https://scikit-learn.org/stable/modules/linear_model.html#logistic-regression\n",
            "  extra_warning_msg=_LOGISTIC_SOLVER_CONVERGENCE_MSG,\n",
            "/usr/local/lib/python3.7/dist-packages/sklearn/linear_model/_logistic.py:818: ConvergenceWarning: lbfgs failed to converge (status=1):\n",
            "STOP: TOTAL NO. of ITERATIONS REACHED LIMIT.\n",
            "\n",
            "Increase the number of iterations (max_iter) or scale the data as shown in:\n",
            "    https://scikit-learn.org/stable/modules/preprocessing.html\n",
            "Please also refer to the documentation for alternative solver options:\n",
            "    https://scikit-learn.org/stable/modules/linear_model.html#logistic-regression\n",
            "  extra_warning_msg=_LOGISTIC_SOLVER_CONVERGENCE_MSG,\n",
            "/usr/local/lib/python3.7/dist-packages/sklearn/linear_model/_logistic.py:818: ConvergenceWarning: lbfgs failed to converge (status=1):\n",
            "STOP: TOTAL NO. of ITERATIONS REACHED LIMIT.\n",
            "\n",
            "Increase the number of iterations (max_iter) or scale the data as shown in:\n",
            "    https://scikit-learn.org/stable/modules/preprocessing.html\n",
            "Please also refer to the documentation for alternative solver options:\n",
            "    https://scikit-learn.org/stable/modules/linear_model.html#logistic-regression\n",
            "  extra_warning_msg=_LOGISTIC_SOLVER_CONVERGENCE_MSG,\n",
            "/usr/local/lib/python3.7/dist-packages/sklearn/linear_model/_logistic.py:818: ConvergenceWarning: lbfgs failed to converge (status=1):\n",
            "STOP: TOTAL NO. of ITERATIONS REACHED LIMIT.\n",
            "\n",
            "Increase the number of iterations (max_iter) or scale the data as shown in:\n",
            "    https://scikit-learn.org/stable/modules/preprocessing.html\n",
            "Please also refer to the documentation for alternative solver options:\n",
            "    https://scikit-learn.org/stable/modules/linear_model.html#logistic-regression\n",
            "  extra_warning_msg=_LOGISTIC_SOLVER_CONVERGENCE_MSG,\n",
            "/usr/local/lib/python3.7/dist-packages/sklearn/linear_model/_logistic.py:818: ConvergenceWarning: lbfgs failed to converge (status=1):\n",
            "STOP: TOTAL NO. of ITERATIONS REACHED LIMIT.\n",
            "\n",
            "Increase the number of iterations (max_iter) or scale the data as shown in:\n",
            "    https://scikit-learn.org/stable/modules/preprocessing.html\n",
            "Please also refer to the documentation for alternative solver options:\n",
            "    https://scikit-learn.org/stable/modules/linear_model.html#logistic-regression\n",
            "  extra_warning_msg=_LOGISTIC_SOLVER_CONVERGENCE_MSG,\n",
            "/usr/local/lib/python3.7/dist-packages/sklearn/linear_model/_logistic.py:818: ConvergenceWarning: lbfgs failed to converge (status=1):\n",
            "STOP: TOTAL NO. of ITERATIONS REACHED LIMIT.\n",
            "\n",
            "Increase the number of iterations (max_iter) or scale the data as shown in:\n",
            "    https://scikit-learn.org/stable/modules/preprocessing.html\n",
            "Please also refer to the documentation for alternative solver options:\n",
            "    https://scikit-learn.org/stable/modules/linear_model.html#logistic-regression\n",
            "  extra_warning_msg=_LOGISTIC_SOLVER_CONVERGENCE_MSG,\n",
            "/usr/local/lib/python3.7/dist-packages/sklearn/linear_model/_logistic.py:818: ConvergenceWarning: lbfgs failed to converge (status=1):\n",
            "STOP: TOTAL NO. of ITERATIONS REACHED LIMIT.\n",
            "\n",
            "Increase the number of iterations (max_iter) or scale the data as shown in:\n",
            "    https://scikit-learn.org/stable/modules/preprocessing.html\n",
            "Please also refer to the documentation for alternative solver options:\n",
            "    https://scikit-learn.org/stable/modules/linear_model.html#logistic-regression\n",
            "  extra_warning_msg=_LOGISTIC_SOLVER_CONVERGENCE_MSG,\n",
            "/usr/local/lib/python3.7/dist-packages/sklearn/linear_model/_logistic.py:818: ConvergenceWarning: lbfgs failed to converge (status=1):\n",
            "STOP: TOTAL NO. of ITERATIONS REACHED LIMIT.\n",
            "\n",
            "Increase the number of iterations (max_iter) or scale the data as shown in:\n",
            "    https://scikit-learn.org/stable/modules/preprocessing.html\n",
            "Please also refer to the documentation for alternative solver options:\n",
            "    https://scikit-learn.org/stable/modules/linear_model.html#logistic-regression\n",
            "  extra_warning_msg=_LOGISTIC_SOLVER_CONVERGENCE_MSG,\n"
          ]
        },
        {
          "output_type": "stream",
          "name": "stdout",
          "text": [
            "Solver lbfgs supports only dual=False, got dual=True\n",
            "[#1]\n",
            "\n",
            "* Parameters:\n",
            "\n",
            "- Model: Logistic Regression\n",
            "- C: 1.0\n",
            "- class_weight: None\n",
            "- dual: False\n",
            "- fit_intercept: True\n",
            "- intercept_scaling: 1\n",
            "- l1_ratio: None\n",
            "- max_iter: 100\n",
            "- multi_class: auto\n",
            "- n_jobs: None\n",
            "- penalty: none\n",
            "- random_state: None\n",
            "- solver: lbfgs\n",
            "- tol: 0.0001\n",
            "- verbose: 0\n",
            "- warm_start: False\n",
            "\n",
            "Accuracy: 65.10000000000001 %\n",
            "\n",
            "Average precision score: 59.89096509240246 %\n",
            "\n",
            "Average recall score: 63.800000000000004 %\n",
            "\n",
            "Average F1-score: 64.6403242147923 %\n",
            "\n",
            "Matthews correlation coefficient: 0.3021021277817032\n",
            "\n",
            "Mean absolute error: 0.349\n",
            "\n",
            "Confusion matrix:\n",
            "\n"
          ]
        },
        {
          "output_type": "display_data",
          "data": {
            "text/plain": [
              "<Figure size 432x288 with 2 Axes>"
            ],
            "image/png": "[encoded data removed]"
          },
          "metadata": {
            "needs_background": "light"
          }
        },
        {
          "output_type": "stream",
          "name": "stdout",
          "text": [
            "\n",
            "Classification report:\n",
            "\n",
            "              precision    recall  f1-score   support\n",
            "\n",
            "           0       0.65      0.66      0.66       500\n",
            "           1       0.66      0.64      0.65       500\n",
            "\n",
            "    accuracy                           0.65      1000\n",
            "   macro avg       0.65      0.65      0.65      1000\n",
            "weighted avg       0.65      0.65      0.65      1000\n",
            "\n",
            "\n"
          ]
        }
      ],
      "source": [
        "# Executes a series of learnings\n",
        "execute_a_series_of_logistic_regression_learnings(X=X, Y=Y)"
      ]
    },
    {
      "cell_type": "markdown",
      "id": "b95307e0",
      "metadata": {
        "id": "b95307e0"
      },
      "source": [
        "## File: 'headlines_004.json'"
      ]
    },
    {
      "cell_type": "markdown",
      "id": "9cd1313b",
      "metadata": {
        "id": "9cd1313b"
      },
      "source": [
        "Reads the data."
      ]
    },
    {
      "cell_type": "code",
      "execution_count": 4,
      "id": "1593dc65",
      "metadata": {
        "colab": {
          "base_uri": "https://localhost:8080/"
        },
        "id": "1593dc65",
        "outputId": "d20fe4e2-b1bc-4c5d-e4b7-dee8b9dc4414"
      },
      "outputs": [
        {
          "output_type": "stream",
          "name": "stdout",
          "text": [
            "LENGTH - headline: 11000; is_clickbait: 11000\n"
          ]
        }
      ],
      "source": [
        "# Reads the data from the file\n",
        "X, Y = get_json_content(i=3)\n",
        "\n",
        "# Prints the dataset size\n",
        "print(f\"LENGTH - headline: {len(X)}; is_clickbait: {len(Y)}\")"
      ]
    },
    {
      "cell_type": "markdown",
      "id": "82e655ce",
      "metadata": {
        "id": "82e655ce"
      },
      "source": [
        "Executes a series of learnings."
      ]
    },
    {
      "cell_type": "code",
      "execution_count": 5,
      "id": "1e1756b5",
      "metadata": {
        "scrolled": false,
        "colab": {
          "base_uri": "https://localhost:8080/",
          "height": 1000
        },
        "id": "1e1756b5",
        "outputId": "a6ceabc6-c234-452a-ef84-e5e892fc57de"
      },
      "outputs": [
        {
          "output_type": "stream",
          "name": "stdout",
          "text": [
            "\t--------------- TRAIN-TEST SPLIT ---------------\n",
            "\n",
            "- test_size: 0.3\n",
            "\n",
            "\t\t=============== BoW ===============\n",
            "\n",
            "Solver lbfgs supports only dual=False, got dual=True\n",
            "Solver lbfgs supports only 'l2' or 'none' penalties, got l1 penalty.\n",
            "Solver lbfgs supports only 'l2' or 'none' penalties, got l1 penalty.\n",
            "Solver lbfgs supports only 'l2' or 'none' penalties, got elasticnet penalty.\n",
            "Solver lbfgs supports only 'l2' or 'none' penalties, got elasticnet penalty.\n",
            "Solver lbfgs supports only dual=False, got dual=True\n",
            "[#1]\n",
            "\n",
            "* Parameters:\n",
            "\n",
            "- Model: Logistic Regression\n",
            "- C: 1.0\n",
            "- class_weight: None\n",
            "- dual: False\n",
            "- fit_intercept: True\n",
            "- intercept_scaling: 1\n",
            "- l1_ratio: None\n",
            "- max_iter: 100\n",
            "- multi_class: auto\n",
            "- n_jobs: None\n",
            "- penalty: l2\n",
            "- random_state: None\n",
            "- solver: lbfgs\n",
            "- tol: 0.0001\n",
            "- verbose: 0\n",
            "- warm_start: False\n",
            "\n",
            "Accuracy: 98.12121212121212 %\n",
            "\n",
            "Average precision score: 97.07404097151287 %\n",
            "\n",
            "Average recall score: 98.125 %\n",
            "\n",
            "Average F1-score: 98.06371018113678 %\n",
            "\n",
            "Matthews correlation coefficient: 0.9623917968025361\n",
            "\n",
            "Mean absolute error: 0.018787878787878787\n",
            "\n",
            "Confusion matrix:\n",
            "\n"
          ]
        },
        {
          "output_type": "display_data",
          "data": {
            "text/plain": [
              "<Figure size 432x288 with 2 Axes>"
            ],
            "image/png": "[encoded data removed]"
          },
          "metadata": {
            "needs_background": "light"
          }
        },
        {
          "output_type": "stream",
          "name": "stdout",
          "text": [
            "\n",
            "Classification report:\n",
            "\n",
            "              precision    recall  f1-score   support\n",
            "\n",
            "           0       0.98      0.98      0.98      1700\n",
            "           1       0.98      0.98      0.98      1600\n",
            "\n",
            "    accuracy                           0.98      3300\n",
            "   macro avg       0.98      0.98      0.98      3300\n",
            "weighted avg       0.98      0.98      0.98      3300\n",
            "\n",
            "\n",
            "[#2]\n",
            "\n",
            "* Parameters:\n",
            "\n",
            "- Model: Logistic Regression\n",
            "- C: 1.0\n",
            "- class_weight: None\n",
            "- dual: False\n",
            "- fit_intercept: True\n",
            "- intercept_scaling: 1\n",
            "- l1_ratio: None\n",
            "- max_iter: 100\n",
            "- multi_class: auto\n",
            "- n_jobs: None\n",
            "- penalty: none\n",
            "- random_state: None\n",
            "- solver: lbfgs\n",
            "- tol: 0.0001\n",
            "- verbose: 0\n",
            "- warm_start: False\n",
            "\n",
            "Accuracy: 98.12121212121212 %\n",
            "\n",
            "Average precision score: 97.01847239518473 %\n",
            "\n",
            "Average recall score: 98.25 %\n",
            "\n",
            "Average F1-score: 98.06612601372427 %\n",
            "\n",
            "Matthews correlation coefficient: 0.9624002269129731\n",
            "\n",
            "Mean absolute error: 0.018787878787878787\n",
            "\n",
            "Confusion matrix:\n",
            "\n"
          ]
        },
        {
          "output_type": "display_data",
          "data": {
            "text/plain": [
              "<Figure size 432x288 with 2 Axes>"
            ],
            "image/png": "[encoded data removed]"
          },
          "metadata": {
            "needs_background": "light"
          }
        },
        {
          "output_type": "stream",
          "name": "stdout",
          "text": [
            "\n",
            "Classification report:\n",
            "\n",
            "              precision    recall  f1-score   support\n",
            "\n",
            "           0       0.98      0.98      0.98      1700\n",
            "           1       0.98      0.98      0.98      1600\n",
            "\n",
            "    accuracy                           0.98      3300\n",
            "   macro avg       0.98      0.98      0.98      3300\n",
            "weighted avg       0.98      0.98      0.98      3300\n",
            "\n",
            "\n",
            "\n",
            "\t\t=============== Tf-idf ===============\n",
            "\n",
            "Solver lbfgs supports only dual=False, got dual=True\n",
            "Solver lbfgs supports only 'l2' or 'none' penalties, got l1 penalty.\n",
            "Solver lbfgs supports only 'l2' or 'none' penalties, got l1 penalty.\n",
            "Solver lbfgs supports only 'l2' or 'none' penalties, got elasticnet penalty.\n",
            "Solver lbfgs supports only 'l2' or 'none' penalties, got elasticnet penalty.\n",
            "Solver lbfgs supports only dual=False, got dual=True\n",
            "[#1]\n",
            "\n",
            "* Parameters:\n",
            "\n",
            "- Model: Logistic Regression\n",
            "- C: 1.0\n",
            "- class_weight: None\n",
            "- dual: False\n",
            "- fit_intercept: True\n",
            "- intercept_scaling: 1\n",
            "- l1_ratio: None\n",
            "- max_iter: 100\n",
            "- multi_class: auto\n",
            "- n_jobs: None\n",
            "- penalty: none\n",
            "- random_state: None\n",
            "- solver: lbfgs\n",
            "- tol: 0.0001\n",
            "- verbose: 0\n",
            "- warm_start: False\n",
            "\n",
            "Accuracy: 98.69696969696969 %\n",
            "\n",
            "Average precision score: 97.79742363185481 %\n",
            "\n",
            "Average recall score: 99.0625 %\n",
            "\n",
            "Average F1-score: 98.66168689698101 %\n",
            "\n",
            "Matthews correlation coefficient: 0.9739519439035149\n",
            "\n",
            "Mean absolute error: 0.013030303030303031\n",
            "\n",
            "Confusion matrix:\n",
            "\n"
          ]
        },
        {
          "output_type": "display_data",
          "data": {
            "text/plain": [
              "<Figure size 432x288 with 2 Axes>"
            ],
            "image/png": "[encoded data removed]"
          },
          "metadata": {
            "needs_background": "light"
          }
        },
        {
          "output_type": "stream",
          "name": "stdout",
          "text": [
            "\n",
            "Classification report:\n",
            "\n",
            "              precision    recall  f1-score   support\n",
            "\n",
            "           0       0.99      0.98      0.99      1700\n",
            "           1       0.98      0.99      0.99      1600\n",
            "\n",
            "    accuracy                           0.99      3300\n",
            "   macro avg       0.99      0.99      0.99      3300\n",
            "weighted avg       0.99      0.99      0.99      3300\n",
            "\n",
            "\n",
            "[#2]\n",
            "\n",
            "* Parameters:\n",
            "\n",
            "- Model: Logistic Regression\n",
            "- C: 1.0\n",
            "- class_weight: None\n",
            "- dual: False\n",
            "- fit_intercept: True\n",
            "- intercept_scaling: 1\n",
            "- l1_ratio: None\n",
            "- max_iter: 100\n",
            "- multi_class: auto\n",
            "- n_jobs: None\n",
            "- penalty: l2\n",
            "- random_state: None\n",
            "- solver: lbfgs\n",
            "- tol: 0.0001\n",
            "- verbose: 0\n",
            "- warm_start: False\n",
            "\n",
            "Accuracy: 97.42424242424242 %\n",
            "\n",
            "Average precision score: 94.97983511586452 %\n",
            "\n",
            "Average recall score: 99.9375 %\n",
            "\n",
            "Average F1-score: 97.41090466037161 %\n",
            "\n",
            "Matthews correlation coefficient: 0.9497169344022625\n",
            "\n",
            "Mean absolute error: 0.025757575757575757\n",
            "\n",
            "Confusion matrix:\n",
            "\n"
          ]
        },
        {
          "output_type": "display_data",
          "data": {
            "text/plain": [
              "<Figure size 432x288 with 2 Axes>"
            ],
            "image/png": "[encoded data removed]"
          },
          "metadata": {
            "needs_background": "light"
          }
        },
        {
          "output_type": "stream",
          "name": "stdout",
          "text": [
            "\n",
            "Classification report:\n",
            "\n",
            "              precision    recall  f1-score   support\n",
            "\n",
            "           0       1.00      0.95      0.97      1700\n",
            "           1       0.95      1.00      0.97      1600\n",
            "\n",
            "    accuracy                           0.97      3300\n",
            "   macro avg       0.97      0.97      0.97      3300\n",
            "weighted avg       0.98      0.97      0.97      3300\n",
            "\n",
            "\n",
            "\n",
            "\t\t=============== Word2Vec ===============\n",
            "\n",
            "Solver lbfgs supports only dual=False, got dual=True\n",
            "Solver lbfgs supports only 'l2' or 'none' penalties, got l1 penalty.\n",
            "Solver lbfgs supports only 'l2' or 'none' penalties, got l1 penalty.\n",
            "Solver lbfgs supports only 'l2' or 'none' penalties, got elasticnet penalty.\n",
            "Solver lbfgs supports only 'l2' or 'none' penalties, got elasticnet penalty.\n"
          ]
        },
        {
          "output_type": "stream",
          "name": "stderr",
          "text": [
            "/usr/local/lib/python3.7/dist-packages/sklearn/linear_model/_logistic.py:818: ConvergenceWarning: lbfgs failed to converge (status=1):\n",
            "STOP: TOTAL NO. of ITERATIONS REACHED LIMIT.\n",
            "\n",
            "Increase the number of iterations (max_iter) or scale the data as shown in:\n",
            "    https://scikit-learn.org/stable/modules/preprocessing.html\n",
            "Please also refer to the documentation for alternative solver options:\n",
            "    https://scikit-learn.org/stable/modules/linear_model.html#logistic-regression\n",
            "  extra_warning_msg=_LOGISTIC_SOLVER_CONVERGENCE_MSG,\n"
          ]
        },
        {
          "output_type": "stream",
          "name": "stdout",
          "text": [
            "Solver lbfgs supports only dual=False, got dual=True\n",
            "[#1]\n",
            "\n",
            "* Parameters:\n",
            "\n",
            "- Model: Logistic Regression\n",
            "- C: 1.0\n",
            "- class_weight: None\n",
            "- dual: False\n",
            "- fit_intercept: True\n",
            "- intercept_scaling: 1\n",
            "- l1_ratio: None\n",
            "- max_iter: 100\n",
            "- multi_class: auto\n",
            "- n_jobs: None\n",
            "- penalty: l2\n",
            "- random_state: None\n",
            "- solver: lbfgs\n",
            "- tol: 0.0001\n",
            "- verbose: 0\n",
            "- warm_start: False\n",
            "\n",
            "Accuracy: 52.33333333333333 %\n",
            "\n",
            "Average precision score: 49.11725955204216 %\n",
            "\n",
            "Average recall score: 3.0 %\n",
            "\n",
            "Average F1-score: 5.751947273816657 %\n",
            "\n",
            "Matthews correlation coefficient: 0.06164016051528605\n",
            "\n",
            "Mean absolute error: 0.4766666666666667\n",
            "\n",
            "Confusion matrix:\n",
            "\n"
          ]
        },
        {
          "output_type": "display_data",
          "data": {
            "text/plain": [
              "<Figure size 432x288 with 2 Axes>"
            ],
            "image/png": "[encoded data removed]"
          },
          "metadata": {
            "needs_background": "light"
          }
        },
        {
          "output_type": "stream",
          "name": "stdout",
          "text": [
            "\n",
            "Classification report:\n",
            "\n",
            "              precision    recall  f1-score   support\n",
            "\n",
            "           0       0.52      0.99      0.68      1700\n",
            "           1       0.70      0.03      0.06      1600\n",
            "\n",
            "    accuracy                           0.52      3300\n",
            "   macro avg       0.61      0.51      0.37      3300\n",
            "weighted avg       0.60      0.52      0.38      3300\n",
            "\n",
            "\n",
            "\t--------------- K-FOLD ---------------\n",
            "\n",
            "- n_folds: 10\n",
            "\n",
            "\t\t=============== BoW ===============\n",
            "\n",
            "Solver lbfgs supports only dual=False, got dual=True\n",
            "Solver lbfgs supports only 'l2' or 'none' penalties, got l1 penalty.\n",
            "Solver lbfgs supports only 'l2' or 'none' penalties, got l1 penalty.\n",
            "Solver lbfgs supports only 'l2' or 'none' penalties, got elasticnet penalty.\n",
            "Solver lbfgs supports only 'l2' or 'none' penalties, got elasticnet penalty.\n",
            "Solver lbfgs supports only dual=False, got dual=True\n",
            "[#1]\n",
            "\n",
            "* Parameters:\n",
            "\n",
            "- Model: Logistic Regression\n",
            "- C: 1.0\n",
            "- class_weight: None\n",
            "- dual: False\n",
            "- fit_intercept: True\n",
            "- intercept_scaling: 1\n",
            "- l1_ratio: None\n",
            "- max_iter: 100\n",
            "- multi_class: auto\n",
            "- n_jobs: None\n",
            "- penalty: none\n",
            "- random_state: None\n",
            "- solver: lbfgs\n",
            "- tol: 0.0001\n",
            "- verbose: 0\n",
            "- warm_start: False\n",
            "\n",
            "Accuracy: 98.45454545454545 %\n",
            "\n",
            "Average precision score: 97.65564793517328 %\n",
            "\n",
            "Average recall score: 98.33707025411061 %\n",
            "\n",
            "Average F1-score: 98.41062079281974 %\n",
            "\n",
            "Matthews correlation coefficient: 0.9690683267245154\n",
            "\n",
            "Mean absolute error: 0.015454545454545455\n",
            "\n",
            "Confusion matrix:\n",
            "\n"
          ]
        },
        {
          "output_type": "display_data",
          "data": {
            "text/plain": [
              "<Figure size 432x288 with 2 Axes>"
            ],
            "image/png": "[encoded data removed]"
          },
          "metadata": {
            "needs_background": "light"
          }
        },
        {
          "output_type": "stream",
          "name": "stdout",
          "text": [
            "\n",
            "Classification report:\n",
            "\n",
            "              precision    recall  f1-score   support\n",
            "\n",
            "           0       0.98      0.99      0.98      5648\n",
            "           1       0.98      0.98      0.98      5352\n",
            "\n",
            "    accuracy                           0.98     11000\n",
            "   macro avg       0.98      0.98      0.98     11000\n",
            "weighted avg       0.98      0.98      0.98     11000\n",
            "\n",
            "\n",
            "[#2]\n",
            "\n",
            "* Parameters:\n",
            "\n",
            "- Model: Logistic Regression\n",
            "- C: 1.0\n",
            "- class_weight: None\n",
            "- dual: False\n",
            "- fit_intercept: True\n",
            "- intercept_scaling: 1\n",
            "- l1_ratio: None\n",
            "- max_iter: 100\n",
            "- multi_class: auto\n",
            "- n_jobs: None\n",
            "- penalty: l2\n",
            "- random_state: None\n",
            "- solver: lbfgs\n",
            "- tol: 0.0001\n",
            "- verbose: 0\n",
            "- warm_start: False\n",
            "\n",
            "Accuracy: 98.22727272727273 %\n",
            "\n",
            "Average precision score: 97.2046954438989 %\n",
            "\n",
            "Average recall score: 98.33707025411061 %\n",
            "\n",
            "Average F1-score: 98.18113981904673 %\n",
            "\n",
            "Matthews correlation coefficient: 0.9645273295796472\n",
            "\n",
            "Mean absolute error: 0.017727272727272727\n",
            "\n",
            "Confusion matrix:\n",
            "\n"
          ]
        },
        {
          "output_type": "display_data",
          "data": {
            "text/plain": [
              "<Figure size 432x288 with 2 Axes>"
            ],
            "image/png": "[encoded data removed]"
          },
          "metadata": {
            "needs_background": "light"
          }
        },
        {
          "output_type": "stream",
          "name": "stdout",
          "text": [
            "\n",
            "Classification report:\n",
            "\n",
            "              precision    recall  f1-score   support\n",
            "\n",
            "           0       0.98      0.98      0.98      5648\n",
            "           1       0.98      0.98      0.98      5352\n",
            "\n",
            "    accuracy                           0.98     11000\n",
            "   macro avg       0.98      0.98      0.98     11000\n",
            "weighted avg       0.98      0.98      0.98     11000\n",
            "\n",
            "\n",
            "\n",
            "\t\t=============== Tf-idf ===============\n",
            "\n",
            "Solver lbfgs supports only dual=False, got dual=True\n",
            "Solver lbfgs supports only 'l2' or 'none' penalties, got l1 penalty.\n",
            "Solver lbfgs supports only 'l2' or 'none' penalties, got l1 penalty.\n",
            "Solver lbfgs supports only 'l2' or 'none' penalties, got elasticnet penalty.\n",
            "Solver lbfgs supports only 'l2' or 'none' penalties, got elasticnet penalty.\n",
            "Solver lbfgs supports only dual=False, got dual=True\n",
            "[#1]\n",
            "\n",
            "* Parameters:\n",
            "\n",
            "- Model: Logistic Regression\n",
            "- C: 1.0\n",
            "- class_weight: None\n",
            "- dual: False\n",
            "- fit_intercept: True\n",
            "- intercept_scaling: 1\n",
            "- l1_ratio: None\n",
            "- max_iter: 100\n",
            "- multi_class: auto\n",
            "- n_jobs: None\n",
            "- penalty: none\n",
            "- random_state: None\n",
            "- solver: lbfgs\n",
            "- tol: 0.0001\n",
            "- verbose: 0\n",
            "- warm_start: False\n",
            "\n",
            "Accuracy: 98.65454545454546 %\n",
            "\n",
            "Average precision score: 97.79006154738302 %\n",
            "\n",
            "Average recall score: 98.91629297458894 %\n",
            "\n",
            "Average F1-score: 98.6214605067064 %\n",
            "\n",
            "Matthews correlation coefficient: 0.973092117546532\n",
            "\n",
            "Mean absolute error: 0.013454545454545455\n",
            "\n",
            "Confusion matrix:\n",
            "\n"
          ]
        },
        {
          "output_type": "display_data",
          "data": {
            "text/plain": [
              "<Figure size 432x288 with 2 Axes>"
            ],
            "image/png": "[encoded data removed]"
          },
          "metadata": {
            "needs_background": "light"
          }
        },
        {
          "output_type": "stream",
          "name": "stdout",
          "text": [
            "\n",
            "Classification report:\n",
            "\n",
            "              precision    recall  f1-score   support\n",
            "\n",
            "           0       0.99      0.98      0.99      5648\n",
            "           1       0.98      0.99      0.99      5352\n",
            "\n",
            "    accuracy                           0.99     11000\n",
            "   macro avg       0.99      0.99      0.99     11000\n",
            "weighted avg       0.99      0.99      0.99     11000\n",
            "\n",
            "\n",
            "[#2]\n",
            "\n",
            "* Parameters:\n",
            "\n",
            "- Model: Logistic Regression\n",
            "- C: 1.0\n",
            "- class_weight: None\n",
            "- dual: False\n",
            "- fit_intercept: True\n",
            "- intercept_scaling: 1\n",
            "- l1_ratio: None\n",
            "- max_iter: 100\n",
            "- multi_class: auto\n",
            "- n_jobs: None\n",
            "- penalty: l2\n",
            "- random_state: None\n",
            "- solver: lbfgs\n",
            "- tol: 0.0001\n",
            "- verbose: 0\n",
            "- warm_start: False\n",
            "\n",
            "Accuracy: 97.43636363636364 %\n",
            "\n",
            "Average precision score: 95.06808551776848 %\n",
            "\n",
            "Average recall score: 99.81315396113602 %\n",
            "\n",
            "Average F1-score: 97.42841510122196 %\n",
            "\n",
            "Matthews correlation coefficient: 0.949832955262874\n",
            "\n",
            "Mean absolute error: 0.025636363636363638\n",
            "\n",
            "Confusion matrix:\n",
            "\n"
          ]
        },
        {
          "output_type": "display_data",
          "data": {
            "text/plain": [
              "<Figure size 432x288 with 2 Axes>"
            ],
            "image/png": "[encoded data removed]"
          },
          "metadata": {
            "needs_background": "light"
          }
        },
        {
          "output_type": "stream",
          "name": "stdout",
          "text": [
            "\n",
            "Classification report:\n",
            "\n",
            "              precision    recall  f1-score   support\n",
            "\n",
            "           0       1.00      0.95      0.97      5648\n",
            "           1       0.95      1.00      0.97      5352\n",
            "\n",
            "    accuracy                           0.97     11000\n",
            "   macro avg       0.97      0.97      0.97     11000\n",
            "weighted avg       0.98      0.97      0.97     11000\n",
            "\n",
            "\n",
            "\n",
            "\t\t=============== Word2Vec ===============\n",
            "\n",
            "Solver lbfgs supports only dual=False, got dual=True\n",
            "Solver lbfgs supports only 'l2' or 'none' penalties, got l1 penalty.\n",
            "Solver lbfgs supports only 'l2' or 'none' penalties, got l1 penalty.\n",
            "Solver lbfgs supports only 'l2' or 'none' penalties, got elasticnet penalty.\n",
            "Solver lbfgs supports only 'l2' or 'none' penalties, got elasticnet penalty.\n"
          ]
        },
        {
          "output_type": "stream",
          "name": "stderr",
          "text": [
            "/usr/local/lib/python3.7/dist-packages/sklearn/linear_model/_logistic.py:818: ConvergenceWarning: lbfgs failed to converge (status=1):\n",
            "STOP: TOTAL NO. of ITERATIONS REACHED LIMIT.\n",
            "\n",
            "Increase the number of iterations (max_iter) or scale the data as shown in:\n",
            "    https://scikit-learn.org/stable/modules/preprocessing.html\n",
            "Please also refer to the documentation for alternative solver options:\n",
            "    https://scikit-learn.org/stable/modules/linear_model.html#logistic-regression\n",
            "  extra_warning_msg=_LOGISTIC_SOLVER_CONVERGENCE_MSG,\n",
            "/usr/local/lib/python3.7/dist-packages/sklearn/linear_model/_logistic.py:818: ConvergenceWarning: lbfgs failed to converge (status=1):\n",
            "STOP: TOTAL NO. of ITERATIONS REACHED LIMIT.\n",
            "\n",
            "Increase the number of iterations (max_iter) or scale the data as shown in:\n",
            "    https://scikit-learn.org/stable/modules/preprocessing.html\n",
            "Please also refer to the documentation for alternative solver options:\n",
            "    https://scikit-learn.org/stable/modules/linear_model.html#logistic-regression\n",
            "  extra_warning_msg=_LOGISTIC_SOLVER_CONVERGENCE_MSG,\n",
            "/usr/local/lib/python3.7/dist-packages/sklearn/linear_model/_logistic.py:818: ConvergenceWarning: lbfgs failed to converge (status=1):\n",
            "STOP: TOTAL NO. of ITERATIONS REACHED LIMIT.\n",
            "\n",
            "Increase the number of iterations (max_iter) or scale the data as shown in:\n",
            "    https://scikit-learn.org/stable/modules/preprocessing.html\n",
            "Please also refer to the documentation for alternative solver options:\n",
            "    https://scikit-learn.org/stable/modules/linear_model.html#logistic-regression\n",
            "  extra_warning_msg=_LOGISTIC_SOLVER_CONVERGENCE_MSG,\n",
            "/usr/local/lib/python3.7/dist-packages/sklearn/linear_model/_logistic.py:818: ConvergenceWarning: lbfgs failed to converge (status=1):\n",
            "STOP: TOTAL NO. of ITERATIONS REACHED LIMIT.\n",
            "\n",
            "Increase the number of iterations (max_iter) or scale the data as shown in:\n",
            "    https://scikit-learn.org/stable/modules/preprocessing.html\n",
            "Please also refer to the documentation for alternative solver options:\n",
            "    https://scikit-learn.org/stable/modules/linear_model.html#logistic-regression\n",
            "  extra_warning_msg=_LOGISTIC_SOLVER_CONVERGENCE_MSG,\n",
            "/usr/local/lib/python3.7/dist-packages/sklearn/linear_model/_logistic.py:818: ConvergenceWarning: lbfgs failed to converge (status=1):\n",
            "STOP: TOTAL NO. of ITERATIONS REACHED LIMIT.\n",
            "\n",
            "Increase the number of iterations (max_iter) or scale the data as shown in:\n",
            "    https://scikit-learn.org/stable/modules/preprocessing.html\n",
            "Please also refer to the documentation for alternative solver options:\n",
            "    https://scikit-learn.org/stable/modules/linear_model.html#logistic-regression\n",
            "  extra_warning_msg=_LOGISTIC_SOLVER_CONVERGENCE_MSG,\n",
            "/usr/local/lib/python3.7/dist-packages/sklearn/linear_model/_logistic.py:818: ConvergenceWarning: lbfgs failed to converge (status=1):\n",
            "STOP: TOTAL NO. of ITERATIONS REACHED LIMIT.\n",
            "\n",
            "Increase the number of iterations (max_iter) or scale the data as shown in:\n",
            "    https://scikit-learn.org/stable/modules/preprocessing.html\n",
            "Please also refer to the documentation for alternative solver options:\n",
            "    https://scikit-learn.org/stable/modules/linear_model.html#logistic-regression\n",
            "  extra_warning_msg=_LOGISTIC_SOLVER_CONVERGENCE_MSG,\n",
            "/usr/local/lib/python3.7/dist-packages/sklearn/linear_model/_logistic.py:818: ConvergenceWarning: lbfgs failed to converge (status=1):\n",
            "STOP: TOTAL NO. of ITERATIONS REACHED LIMIT.\n",
            "\n",
            "Increase the number of iterations (max_iter) or scale the data as shown in:\n",
            "    https://scikit-learn.org/stable/modules/preprocessing.html\n",
            "Please also refer to the documentation for alternative solver options:\n",
            "    https://scikit-learn.org/stable/modules/linear_model.html#logistic-regression\n",
            "  extra_warning_msg=_LOGISTIC_SOLVER_CONVERGENCE_MSG,\n",
            "/usr/local/lib/python3.7/dist-packages/sklearn/linear_model/_logistic.py:818: ConvergenceWarning: lbfgs failed to converge (status=1):\n",
            "STOP: TOTAL NO. of ITERATIONS REACHED LIMIT.\n",
            "\n",
            "Increase the number of iterations (max_iter) or scale the data as shown in:\n",
            "    https://scikit-learn.org/stable/modules/preprocessing.html\n",
            "Please also refer to the documentation for alternative solver options:\n",
            "    https://scikit-learn.org/stable/modules/linear_model.html#logistic-regression\n",
            "  extra_warning_msg=_LOGISTIC_SOLVER_CONVERGENCE_MSG,\n",
            "/usr/local/lib/python3.7/dist-packages/sklearn/linear_model/_logistic.py:818: ConvergenceWarning: lbfgs failed to converge (status=1):\n",
            "STOP: TOTAL NO. of ITERATIONS REACHED LIMIT.\n",
            "\n",
            "Increase the number of iterations (max_iter) or scale the data as shown in:\n",
            "    https://scikit-learn.org/stable/modules/preprocessing.html\n",
            "Please also refer to the documentation for alternative solver options:\n",
            "    https://scikit-learn.org/stable/modules/linear_model.html#logistic-regression\n",
            "  extra_warning_msg=_LOGISTIC_SOLVER_CONVERGENCE_MSG,\n",
            "/usr/local/lib/python3.7/dist-packages/sklearn/linear_model/_logistic.py:818: ConvergenceWarning: lbfgs failed to converge (status=1):\n",
            "STOP: TOTAL NO. of ITERATIONS REACHED LIMIT.\n",
            "\n",
            "Increase the number of iterations (max_iter) or scale the data as shown in:\n",
            "    https://scikit-learn.org/stable/modules/preprocessing.html\n",
            "Please also refer to the documentation for alternative solver options:\n",
            "    https://scikit-learn.org/stable/modules/linear_model.html#logistic-regression\n",
            "  extra_warning_msg=_LOGISTIC_SOLVER_CONVERGENCE_MSG,\n"
          ]
        },
        {
          "output_type": "stream",
          "name": "stdout",
          "text": [
            "Solver lbfgs supports only dual=False, got dual=True\n",
            "[#1]\n",
            "\n",
            "* Parameters:\n",
            "\n",
            "- Model: Logistic Regression\n",
            "- C: 1.0\n",
            "- class_weight: None\n",
            "- dual: False\n",
            "- fit_intercept: True\n",
            "- intercept_scaling: 1\n",
            "- l1_ratio: None\n",
            "- max_iter: 100\n",
            "- multi_class: auto\n",
            "- n_jobs: None\n",
            "- penalty: none\n",
            "- random_state: None\n",
            "- solver: lbfgs\n",
            "- tol: 0.0001\n",
            "- verbose: 0\n",
            "- warm_start: False\n",
            "\n",
            "Accuracy: 95.68181818181817 %\n",
            "\n",
            "Average precision score: 93.76644365527929 %\n",
            "\n",
            "Average recall score: 94.86173393124065 %\n",
            "\n",
            "Average F1-score: 95.53109417631008 %\n",
            "\n",
            "Matthews correlation coefficient: 0.9136271687246685\n",
            "\n",
            "Mean absolute error: 0.04318181818181818\n",
            "\n",
            "Confusion matrix:\n",
            "\n"
          ]
        },
        {
          "output_type": "display_data",
          "data": {
            "text/plain": [
              "<Figure size 432x288 with 2 Axes>"
            ],
            "image/png": "[encoded data removed]"
          },
          "metadata": {
            "needs_background": "light"
          }
        },
        {
          "output_type": "stream",
          "name": "stdout",
          "text": [
            "\n",
            "Classification report:\n",
            "\n",
            "              precision    recall  f1-score   support\n",
            "\n",
            "           0       0.95      0.96      0.96      5648\n",
            "           1       0.96      0.95      0.96      5352\n",
            "\n",
            "    accuracy                           0.96     11000\n",
            "   macro avg       0.96      0.96      0.96     11000\n",
            "weighted avg       0.96      0.96      0.96     11000\n",
            "\n",
            "\n"
          ]
        }
      ],
      "source": [
        "# Executes a series of learnings\n",
        "execute_a_series_of_logistic_regression_learnings(X=X, Y=Y)"
      ]
    }
  ],
  "metadata": {
    "kernelspec": {
      "display_name": "Python 3 (ipykernel)",
      "language": "python",
      "name": "python3"
    },
    "language_info": {
      "codemirror_mode": {
        "name": "ipython",
        "version": 3
      },
      "file_extension": ".py",
      "mimetype": "text/x-python",
      "name": "python",
      "nbconvert_exporter": "python",
      "pygments_lexer": "ipython3",
      "version": "3.9.7"
    },
    "colab": {
      "name": "Logistic_Regression.ipynb",
      "provenance": []
    }
  },
  "nbformat": 4,
  "nbformat_minor": 5
}
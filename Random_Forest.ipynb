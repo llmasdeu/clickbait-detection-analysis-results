{
  "cells": [
    {
      "cell_type": "code",
      "execution_count": 1,
      "id": "5733cb4b",
      "metadata": {
        "id": "5733cb4b"
      },
      "outputs": [],
      "source": [
        "from utils.utils import get_json_content\n",
        "from utils.learners import execute_a_series_of_random_forest_learnings"
      ]
    },
    {
      "cell_type": "markdown",
      "id": "f507e6bd",
      "metadata": {
        "id": "f507e6bd"
      },
      "source": [
        "# Random Forest Training"
      ]
    },
    {
      "cell_type": "markdown",
      "id": "1e14a7e5",
      "metadata": {
        "id": "1e14a7e5"
      },
      "source": [
        "## File: 'headlines_001.json'"
      ]
    },
    {
      "cell_type": "markdown",
      "id": "94187795",
      "metadata": {
        "id": "94187795"
      },
      "source": [
        "Reads the data."
      ]
    },
    {
      "cell_type": "code",
      "execution_count": 2,
      "id": "2393095f",
      "metadata": {
        "colab": {
          "base_uri": "https://localhost:8080/"
        },
        "id": "2393095f",
        "outputId": "86647aa5-4233-49f5-e6ff-8ef7dfa684b7"
      },
      "outputs": [
        {
          "output_type": "stream",
          "name": "stdout",
          "text": [
            "LENGTH - headline: 1000; is_clickbait: 1000\n"
          ]
        }
      ],
      "source": [
        "# Reads the data from the file\n",
        "X, Y = get_json_content(i=0)\n",
        "\n",
        "# Prints the dataset size\n",
        "print(f\"LENGTH - headline: {len(X)}; is_clickbait: {len(Y)}\")"
      ]
    },
    {
      "cell_type": "markdown",
      "id": "90a50f3e",
      "metadata": {
        "id": "90a50f3e"
      },
      "source": [
        "Executes a series of learnings."
      ]
    },
    {
      "cell_type": "code",
      "execution_count": 3,
      "id": "ac1ad93b",
      "metadata": {
        "scrolled": false,
        "colab": {
          "base_uri": "https://localhost:8080/",
          "height": 1000
        },
        "id": "ac1ad93b",
        "outputId": "671f56ef-bc92-4247-8c81-e9272bbe22b9"
      },
      "outputs": [
        {
          "output_type": "stream",
          "name": "stdout",
          "text": [
            "\t--------------- TRAIN-TEST SPLIT ---------------\n",
            "\n",
            "- test_size: 0.3\n",
            "\n",
            "\t\t=============== BoW ===============\n",
            "\n",
            "[#1]\n",
            "\n",
            "* Parameters:\n",
            "\n",
            "- Model: Random Forest Classifier\n",
            "- bootstrap: True\n",
            "- ccp_alpha: 0.0\n",
            "- class_weight: None\n",
            "- criterion: gini\n",
            "- max_depth: None\n",
            "- max_features: auto\n",
            "- max_leaf_nodes: None\n",
            "- max_samples: None\n",
            "- min_impurity_decrease: 0.0\n",
            "- min_samples_leaf: 1\n",
            "- min_samples_split: 2\n",
            "- min_weight_fraction_leaf: 0.0\n",
            "- n_estimators: 100\n",
            "- n_jobs: None\n",
            "- oob_score: False\n",
            "- random_state: None\n",
            "- verbose: 0\n",
            "- warm_start: False\n",
            "\n",
            "Accuracy: 66.0 %\n",
            "\n",
            "Average precision score: 60.04415683288923 %\n",
            "\n",
            "Average recall score: 63.51351351351351 %\n",
            "\n",
            "Average F1-score: 64.82758620689654 %\n",
            "\n",
            "Matthews correlation coefficient: 0.31977238516555756\n",
            "\n",
            "Mean absolute error: 0.34\n",
            "\n",
            "Confusion matrix:\n",
            "\n"
          ]
        },
        {
          "output_type": "display_data",
          "data": {
            "text/plain": [
              "<Figure size 432x288 with 2 Axes>"
            ],
            "image/png": "[encoded data removed]"
          },
          "metadata": {
            "needs_background": "light"
          }
        },
        {
          "output_type": "stream",
          "name": "stdout",
          "text": [
            "\n",
            "Classification report:\n",
            "\n",
            "              precision    recall  f1-score   support\n",
            "\n",
            "           0       0.66      0.68      0.67       152\n",
            "           1       0.66      0.64      0.65       148\n",
            "\n",
            "    accuracy                           0.66       300\n",
            "   macro avg       0.66      0.66      0.66       300\n",
            "weighted avg       0.66      0.66      0.66       300\n",
            "\n",
            "\n",
            "[#2]\n",
            "\n",
            "* Parameters:\n",
            "\n",
            "- Model: Random Forest Classifier\n",
            "- bootstrap: True\n",
            "- ccp_alpha: 0.0\n",
            "- class_weight: None\n",
            "- criterion: gini\n",
            "- max_depth: None\n",
            "- max_features: auto\n",
            "- max_leaf_nodes: None\n",
            "- max_samples: None\n",
            "- min_impurity_decrease: 0.0\n",
            "- min_samples_leaf: 1\n",
            "- min_samples_split: 2\n",
            "- min_weight_fraction_leaf: 0.0\n",
            "- n_estimators: 75\n",
            "- n_jobs: None\n",
            "- oob_score: False\n",
            "- random_state: None\n",
            "- verbose: 0\n",
            "- warm_start: False\n",
            "\n",
            "Accuracy: 63.33333333333333 %\n",
            "\n",
            "Average precision score: 57.65553789083201 %\n",
            "\n",
            "Average recall score: 70.27027027027027 %\n",
            "\n",
            "Average F1-score: 65.40880503144655 %\n",
            "\n",
            "Matthews correlation coefficient: 0.2708869916298149\n",
            "\n",
            "Mean absolute error: 0.36666666666666664\n",
            "\n",
            "Confusion matrix:\n",
            "\n"
          ]
        },
        {
          "output_type": "display_data",
          "data": {
            "text/plain": [
              "<Figure size 432x288 with 2 Axes>"
            ],
            "image/png": "[encoded data removed]"
          },
          "metadata": {
            "needs_background": "light"
          }
        },
        {
          "output_type": "stream",
          "name": "stdout",
          "text": [
            "\n",
            "Classification report:\n",
            "\n",
            "              precision    recall  f1-score   support\n",
            "\n",
            "           0       0.66      0.57      0.61       152\n",
            "           1       0.61      0.70      0.65       148\n",
            "\n",
            "    accuracy                           0.63       300\n",
            "   macro avg       0.64      0.63      0.63       300\n",
            "weighted avg       0.64      0.63      0.63       300\n",
            "\n",
            "\n",
            "[#3]\n",
            "\n",
            "* Parameters:\n",
            "\n",
            "- Model: Random Forest Classifier\n",
            "- bootstrap: True\n",
            "- ccp_alpha: 0.0\n",
            "- class_weight: None\n",
            "- criterion: gini\n",
            "- max_depth: None\n",
            "- max_features: auto\n",
            "- max_leaf_nodes: None\n",
            "- max_samples: None\n",
            "- min_impurity_decrease: 0.0\n",
            "- min_samples_leaf: 1\n",
            "- min_samples_split: 2\n",
            "- min_weight_fraction_leaf: 0.0\n",
            "- n_estimators: 125\n",
            "- n_jobs: None\n",
            "- oob_score: False\n",
            "- random_state: None\n",
            "- verbose: 0\n",
            "- warm_start: False\n",
            "\n",
            "Accuracy: 65.33333333333333 %\n",
            "\n",
            "Average precision score: 59.269144144144136 %\n",
            "\n",
            "Average recall score: 68.91891891891892 %\n",
            "\n",
            "Average F1-score: 66.23376623376622 %\n",
            "\n",
            "Matthews correlation coefficient: 0.30826870188601263\n",
            "\n",
            "Mean absolute error: 0.3466666666666667\n",
            "\n",
            "Confusion matrix:\n",
            "\n"
          ]
        },
        {
          "output_type": "display_data",
          "data": {
            "text/plain": [
              "<Figure size 432x288 with 2 Axes>"
            ],
            "image/png": "[encoded data removed]"
          },
          "metadata": {
            "needs_background": "light"
          }
        },
        {
          "output_type": "stream",
          "name": "stdout",
          "text": [
            "\n",
            "Classification report:\n",
            "\n",
            "              precision    recall  f1-score   support\n",
            "\n",
            "           0       0.67      0.62      0.64       152\n",
            "           1       0.64      0.69      0.66       148\n",
            "\n",
            "    accuracy                           0.65       300\n",
            "   macro avg       0.65      0.65      0.65       300\n",
            "weighted avg       0.65      0.65      0.65       300\n",
            "\n",
            "\n",
            "\n",
            "\t\t=============== Tf-idf ===============\n",
            "\n",
            "[#1]\n",
            "\n",
            "* Parameters:\n",
            "\n",
            "- Model: Random Forest Classifier\n",
            "- bootstrap: True\n",
            "- ccp_alpha: 0.0\n",
            "- class_weight: None\n",
            "- criterion: gini\n",
            "- max_depth: None\n",
            "- max_features: auto\n",
            "- max_leaf_nodes: None\n",
            "- max_samples: None\n",
            "- min_impurity_decrease: 0.0\n",
            "- min_samples_leaf: 1\n",
            "- min_samples_split: 2\n",
            "- min_weight_fraction_leaf: 0.0\n",
            "- n_estimators: 125\n",
            "- n_jobs: None\n",
            "- oob_score: False\n",
            "- random_state: None\n",
            "- verbose: 0\n",
            "- warm_start: False\n",
            "\n",
            "Accuracy: 61.66666666666667 %\n",
            "\n",
            "Average precision score: 56.66463455937141 %\n",
            "\n",
            "Average recall score: 56.08108108108109 %\n",
            "\n",
            "Average F1-score: 59.07473309608542 %\n",
            "\n",
            "Matthews correlation coefficient: 0.23334627636303465\n",
            "\n",
            "Mean absolute error: 0.38333333333333336\n",
            "\n",
            "Confusion matrix:\n",
            "\n"
          ]
        },
        {
          "output_type": "display_data",
          "data": {
            "text/plain": [
              "<Figure size 432x288 with 2 Axes>"
            ],
            "image/png": "[encoded data removed]"
          },
          "metadata": {
            "needs_background": "light"
          }
        },
        {
          "output_type": "stream",
          "name": "stdout",
          "text": [
            "\n",
            "Classification report:\n",
            "\n",
            "              precision    recall  f1-score   support\n",
            "\n",
            "           0       0.61      0.67      0.64       152\n",
            "           1       0.62      0.56      0.59       148\n",
            "\n",
            "    accuracy                           0.62       300\n",
            "   macro avg       0.62      0.62      0.62       300\n",
            "weighted avg       0.62      0.62      0.62       300\n",
            "\n",
            "\n",
            "[#2]\n",
            "\n",
            "* Parameters:\n",
            "\n",
            "- Model: Random Forest Classifier\n",
            "- bootstrap: True\n",
            "- ccp_alpha: 0.0\n",
            "- class_weight: None\n",
            "- criterion: gini\n",
            "- max_depth: None\n",
            "- max_features: auto\n",
            "- max_leaf_nodes: None\n",
            "- max_samples: None\n",
            "- min_impurity_decrease: 0.0\n",
            "- min_samples_leaf: 1\n",
            "- min_samples_split: 2\n",
            "- min_weight_fraction_leaf: 0.0\n",
            "- n_estimators: 75\n",
            "- n_jobs: None\n",
            "- oob_score: False\n",
            "- random_state: None\n",
            "- verbose: 0\n",
            "- warm_start: False\n",
            "\n",
            "Accuracy: 61.0 %\n",
            "\n",
            "Average precision score: 56.12055220688315 %\n",
            "\n",
            "Average recall score: 57.432432432432435 %\n",
            "\n",
            "Average F1-score: 59.23344947735192 %\n",
            "\n",
            "Matthews correlation coefficient: 0.21963305848019107\n",
            "\n",
            "Mean absolute error: 0.39\n",
            "\n",
            "Confusion matrix:\n",
            "\n"
          ]
        },
        {
          "output_type": "display_data",
          "data": {
            "text/plain": [
              "<Figure size 432x288 with 2 Axes>"
            ],
            "image/png": "[encoded data removed]"
          },
          "metadata": {
            "needs_background": "light"
          }
        },
        {
          "output_type": "stream",
          "name": "stdout",
          "text": [
            "\n",
            "Classification report:\n",
            "\n",
            "              precision    recall  f1-score   support\n",
            "\n",
            "           0       0.61      0.64      0.63       152\n",
            "           1       0.61      0.57      0.59       148\n",
            "\n",
            "    accuracy                           0.61       300\n",
            "   macro avg       0.61      0.61      0.61       300\n",
            "weighted avg       0.61      0.61      0.61       300\n",
            "\n",
            "\n",
            "\n",
            "\t\t=============== Word2Vec ===============\n",
            "\n",
            "[#1]\n",
            "\n",
            "* Parameters:\n",
            "\n",
            "- Model: Random Forest Classifier\n",
            "- bootstrap: True\n",
            "- ccp_alpha: 0.0\n",
            "- class_weight: None\n",
            "- criterion: gini\n",
            "- max_depth: None\n",
            "- max_features: auto\n",
            "- max_leaf_nodes: None\n",
            "- max_samples: None\n",
            "- min_impurity_decrease: 0.0\n",
            "- min_samples_leaf: 1\n",
            "- min_samples_split: 2\n",
            "- min_weight_fraction_leaf: 0.0\n",
            "- n_estimators: 75\n",
            "- n_jobs: None\n",
            "- oob_score: False\n",
            "- random_state: None\n",
            "- verbose: 0\n",
            "- warm_start: False\n",
            "\n",
            "Accuracy: 51.66666666666667 %\n",
            "\n",
            "Average precision score: 49.993069993069994 %\n",
            "\n",
            "Average recall score: 5.405405405405405 %\n",
            "\n",
            "Average F1-score: 9.937888198757763 %\n",
            "\n",
            "Matthews correlation coefficient: 0.05195671402336793\n",
            "\n",
            "Mean absolute error: 0.48333333333333334\n",
            "\n",
            "Confusion matrix:\n",
            "\n"
          ]
        },
        {
          "output_type": "display_data",
          "data": {
            "text/plain": [
              "<Figure size 432x288 with 2 Axes>"
            ],
            "image/png": "[encoded data removed]"
          },
          "metadata": {
            "needs_background": "light"
          }
        },
        {
          "output_type": "stream",
          "name": "stdout",
          "text": [
            "\n",
            "Classification report:\n",
            "\n",
            "              precision    recall  f1-score   support\n",
            "\n",
            "           0       0.51      0.97      0.67       152\n",
            "           1       0.62      0.05      0.10       148\n",
            "\n",
            "    accuracy                           0.52       300\n",
            "   macro avg       0.56      0.51      0.38       300\n",
            "weighted avg       0.56      0.52      0.39       300\n",
            "\n",
            "\n",
            "[#2]\n",
            "\n",
            "* Parameters:\n",
            "\n",
            "- Model: Random Forest Classifier\n",
            "- bootstrap: True\n",
            "- ccp_alpha: 0.0\n",
            "- class_weight: None\n",
            "- criterion: gini\n",
            "- max_depth: None\n",
            "- max_features: auto\n",
            "- max_leaf_nodes: None\n",
            "- max_samples: None\n",
            "- min_impurity_decrease: 0.0\n",
            "- min_samples_leaf: 1\n",
            "- min_samples_split: 2\n",
            "- min_weight_fraction_leaf: 0.0\n",
            "- n_estimators: 125\n",
            "- n_jobs: None\n",
            "- oob_score: False\n",
            "- random_state: None\n",
            "- verbose: 0\n",
            "- warm_start: False\n",
            "\n",
            "Accuracy: 51.66666666666667 %\n",
            "\n",
            "Average precision score: 50.079794079794084 %\n",
            "\n",
            "Average recall score: 3.3783783783783785 %\n",
            "\n",
            "Average F1-score: 6.451612903225806 %\n",
            "\n",
            "Matthews correlation coefficient: 0.06830971898165714\n",
            "\n",
            "Mean absolute error: 0.48333333333333334\n",
            "\n",
            "Confusion matrix:\n",
            "\n"
          ]
        },
        {
          "output_type": "display_data",
          "data": {
            "text/plain": [
              "<Figure size 432x288 with 2 Axes>"
            ],
            "image/png": "[encoded data removed]"
          },
          "metadata": {
            "needs_background": "light"
          }
        },
        {
          "output_type": "stream",
          "name": "stdout",
          "text": [
            "\n",
            "Classification report:\n",
            "\n",
            "              precision    recall  f1-score   support\n",
            "\n",
            "           0       0.51      0.99      0.67       152\n",
            "           1       0.71      0.03      0.06       148\n",
            "\n",
            "    accuracy                           0.52       300\n",
            "   macro avg       0.61      0.51      0.37       300\n",
            "weighted avg       0.61      0.52      0.37       300\n",
            "\n",
            "\n",
            "\t--------------- K-FOLD ---------------\n",
            "\n",
            "- n_folds: 10\n",
            "\n",
            "\t\t=============== BoW ===============\n",
            "\n",
            "[#1]\n",
            "\n",
            "* Parameters:\n",
            "\n",
            "- Model: Random Forest Classifier\n",
            "- bootstrap: True\n",
            "- ccp_alpha: 0.0\n",
            "- class_weight: None\n",
            "- criterion: gini\n",
            "- max_depth: None\n",
            "- max_features: auto\n",
            "- max_leaf_nodes: None\n",
            "- max_samples: None\n",
            "- min_impurity_decrease: 0.0\n",
            "- min_samples_leaf: 1\n",
            "- min_samples_split: 2\n",
            "- min_weight_fraction_leaf: 0.0\n",
            "- n_estimators: 75\n",
            "- n_jobs: None\n",
            "- oob_score: False\n",
            "- random_state: None\n",
            "- verbose: 0\n",
            "- warm_start: False\n",
            "\n",
            "Accuracy: 72.8 %\n",
            "\n",
            "Average precision score: 67.58857142857143 %\n",
            "\n",
            "Average recall score: 64.8 %\n",
            "\n",
            "Average F1-score: 70.43478260869566 %\n",
            "\n",
            "Matthews correlation coefficient: 0.46195131212967144\n",
            "\n",
            "Mean absolute error: 0.272\n",
            "\n",
            "Confusion matrix:\n",
            "\n"
          ]
        },
        {
          "output_type": "display_data",
          "data": {
            "text/plain": [
              "<Figure size 432x288 with 2 Axes>"
            ],
            "image/png": "[encoded data removed]"
          },
          "metadata": {
            "needs_background": "light"
          }
        },
        {
          "output_type": "stream",
          "name": "stdout",
          "text": [
            "\n",
            "Classification report:\n",
            "\n",
            "              precision    recall  f1-score   support\n",
            "\n",
            "           0       0.70      0.81      0.75       500\n",
            "           1       0.77      0.65      0.70       500\n",
            "\n",
            "    accuracy                           0.73      1000\n",
            "   macro avg       0.73      0.73      0.73      1000\n",
            "weighted avg       0.73      0.73      0.73      1000\n",
            "\n",
            "\n",
            "[#2]\n",
            "\n",
            "* Parameters:\n",
            "\n",
            "- Model: Random Forest Classifier\n",
            "- bootstrap: True\n",
            "- ccp_alpha: 0.0\n",
            "- class_weight: None\n",
            "- criterion: gini\n",
            "- max_depth: None\n",
            "- max_features: auto\n",
            "- max_leaf_nodes: None\n",
            "- max_samples: None\n",
            "- min_impurity_decrease: 0.0\n",
            "- min_samples_leaf: 1\n",
            "- min_samples_split: 2\n",
            "- min_weight_fraction_leaf: 0.0\n",
            "- n_estimators: 100\n",
            "- n_jobs: None\n",
            "- oob_score: False\n",
            "- random_state: None\n",
            "- verbose: 0\n",
            "- warm_start: False\n",
            "\n",
            "Accuracy: 72.6 %\n",
            "\n",
            "Average precision score: 67.23906976744188 %\n",
            "\n",
            "Average recall score: 65.60000000000001 %\n",
            "\n",
            "Average F1-score: 70.53763440860216 %\n",
            "\n",
            "Matthews correlation coefficient: 0.4564957972344289\n",
            "\n",
            "Mean absolute error: 0.274\n",
            "\n",
            "Confusion matrix:\n",
            "\n"
          ]
        },
        {
          "output_type": "display_data",
          "data": {
            "text/plain": [
              "<Figure size 432x288 with 2 Axes>"
            ],
            "image/png": "[encoded data removed]"
          },
          "metadata": {
            "needs_background": "light"
          }
        },
        {
          "output_type": "stream",
          "name": "stdout",
          "text": [
            "\n",
            "Classification report:\n",
            "\n",
            "              precision    recall  f1-score   support\n",
            "\n",
            "           0       0.70      0.80      0.74       500\n",
            "           1       0.76      0.66      0.71       500\n",
            "\n",
            "    accuracy                           0.73      1000\n",
            "   macro avg       0.73      0.73      0.72      1000\n",
            "weighted avg       0.73      0.73      0.72      1000\n",
            "\n",
            "\n",
            "\n",
            "\t\t=============== Tf-idf ===============\n",
            "\n",
            "[#1]\n",
            "\n",
            "* Parameters:\n",
            "\n",
            "- Model: Random Forest Classifier\n",
            "- bootstrap: True\n",
            "- ccp_alpha: 0.0\n",
            "- class_weight: None\n",
            "- criterion: gini\n",
            "- max_depth: None\n",
            "- max_features: auto\n",
            "- max_leaf_nodes: None\n",
            "- max_samples: None\n",
            "- min_impurity_decrease: 0.0\n",
            "- min_samples_leaf: 1\n",
            "- min_samples_split: 2\n",
            "- min_weight_fraction_leaf: 0.0\n",
            "- n_estimators: 125\n",
            "- n_jobs: None\n",
            "- oob_score: False\n",
            "- random_state: None\n",
            "- verbose: 0\n",
            "- warm_start: False\n",
            "\n",
            "Accuracy: 73.1 %\n",
            "\n",
            "Average precision score: 66.8754491017964 %\n",
            "\n",
            "Average recall score: 73.2 %\n",
            "\n",
            "Average F1-score: 73.12687312687312 %\n",
            "\n",
            "Matthews correlation coefficient: 0.46200092400277204\n",
            "\n",
            "Mean absolute error: 0.269\n",
            "\n",
            "Confusion matrix:\n",
            "\n"
          ]
        },
        {
          "output_type": "display_data",
          "data": {
            "text/plain": [
              "<Figure size 432x288 with 2 Axes>"
            ],
            "image/png": "[encoded data removed]"
          },
          "metadata": {
            "needs_background": "light"
          }
        },
        {
          "output_type": "stream",
          "name": "stdout",
          "text": [
            "\n",
            "Classification report:\n",
            "\n",
            "              precision    recall  f1-score   support\n",
            "\n",
            "           0       0.73      0.73      0.73       500\n",
            "           1       0.73      0.73      0.73       500\n",
            "\n",
            "    accuracy                           0.73      1000\n",
            "   macro avg       0.73      0.73      0.73      1000\n",
            "weighted avg       0.73      0.73      0.73      1000\n",
            "\n",
            "\n",
            "\n",
            "\t\t=============== Word2Vec ===============\n",
            "\n",
            "[#1]\n",
            "\n",
            "* Parameters:\n",
            "\n",
            "- Model: Random Forest Classifier\n",
            "- bootstrap: True\n",
            "- ccp_alpha: 0.0\n",
            "- class_weight: None\n",
            "- criterion: gini\n",
            "- max_depth: None\n",
            "- max_features: auto\n",
            "- max_leaf_nodes: None\n",
            "- max_samples: None\n",
            "- min_impurity_decrease: 0.0\n",
            "- min_samples_leaf: 1\n",
            "- min_samples_split: 2\n",
            "- min_weight_fraction_leaf: 0.0\n",
            "- n_estimators: 75\n",
            "- n_jobs: None\n",
            "- oob_score: False\n",
            "- random_state: None\n",
            "- verbose: 0\n",
            "- warm_start: False\n",
            "\n",
            "Accuracy: 67.10000000000001 %\n",
            "\n",
            "Average precision score: 61.36705202312138 %\n",
            "\n",
            "Average recall score: 69.0 %\n",
            "\n",
            "Average F1-score: 67.7134445534838 %\n",
            "\n",
            "Matthews correlation coefficient: 0.3422471917408929\n",
            "\n",
            "Mean absolute error: 0.329\n",
            "\n",
            "Confusion matrix:\n",
            "\n"
          ]
        },
        {
          "output_type": "display_data",
          "data": {
            "text/plain": [
              "<Figure size 432x288 with 2 Axes>"
            ],
            "image/png": "[encoded data removed]"
          },
          "metadata": {
            "needs_background": "light"
          }
        },
        {
          "output_type": "stream",
          "name": "stdout",
          "text": [
            "\n",
            "Classification report:\n",
            "\n",
            "              precision    recall  f1-score   support\n",
            "\n",
            "           0       0.68      0.65      0.66       500\n",
            "           1       0.66      0.69      0.68       500\n",
            "\n",
            "    accuracy                           0.67      1000\n",
            "   macro avg       0.67      0.67      0.67      1000\n",
            "weighted avg       0.67      0.67      0.67      1000\n",
            "\n",
            "\n"
          ]
        }
      ],
      "source": [
        "# Executes a series of learnings\n",
        "execute_a_series_of_random_forest_learnings(X=X, Y=Y)"
      ]
    },
    {
      "cell_type": "markdown",
      "id": "ffe4c406",
      "metadata": {
        "id": "ffe4c406"
      },
      "source": [
        "## File: 'headlines_004.json'"
      ]
    },
    {
      "cell_type": "markdown",
      "id": "44d5d5c4",
      "metadata": {
        "id": "44d5d5c4"
      },
      "source": [
        "Reads the data."
      ]
    },
    {
      "cell_type": "code",
      "execution_count": 4,
      "id": "143bdcbf",
      "metadata": {
        "colab": {
          "base_uri": "https://localhost:8080/"
        },
        "id": "143bdcbf",
        "outputId": "7cac7800-f81b-42e8-d832-25e964e01e6f"
      },
      "outputs": [
        {
          "output_type": "stream",
          "name": "stdout",
          "text": [
            "LENGTH - headline: 11000; is_clickbait: 11000\n"
          ]
        }
      ],
      "source": [
        "# Reads the data from the file\n",
        "X, Y = get_json_content(i=3)\n",
        "\n",
        "# Prints the dataset size\n",
        "print(f\"LENGTH - headline: {len(X)}; is_clickbait: {len(Y)}\")"
      ]
    },
    {
      "cell_type": "markdown",
      "id": "22491c5e",
      "metadata": {
        "id": "22491c5e"
      },
      "source": [
        "Executes a series of learnings."
      ]
    },
    {
      "cell_type": "code",
      "execution_count": 5,
      "id": "5f2f5362",
      "metadata": {
        "scrolled": false,
        "colab": {
          "base_uri": "https://localhost:8080/",
          "height": 1000
        },
        "id": "5f2f5362",
        "outputId": "5e444cff-1014-4a08-95d0-6b4b8cd7cb8d"
      },
      "outputs": [
        {
          "output_type": "stream",
          "name": "stdout",
          "text": [
            "\t--------------- TRAIN-TEST SPLIT ---------------\n",
            "\n",
            "- test_size: 0.3\n",
            "\n",
            "\t\t=============== BoW ===============\n",
            "\n",
            "[#1]\n",
            "\n",
            "* Parameters:\n",
            "\n",
            "- Model: Random Forest Classifier\n",
            "- bootstrap: True\n",
            "- ccp_alpha: 0.0\n",
            "- class_weight: None\n",
            "- criterion: gini\n",
            "- max_depth: None\n",
            "- max_features: auto\n",
            "- max_leaf_nodes: None\n",
            "- max_samples: None\n",
            "- min_impurity_decrease: 0.0\n",
            "- min_samples_leaf: 1\n",
            "- min_samples_split: 2\n",
            "- min_weight_fraction_leaf: 0.0\n",
            "- n_estimators: 100\n",
            "- n_jobs: None\n",
            "- oob_score: False\n",
            "- random_state: None\n",
            "- verbose: 0\n",
            "- warm_start: False\n",
            "\n",
            "Accuracy: 97.3939393939394 %\n",
            "\n",
            "Average precision score: 95.70705825206443 %\n",
            "\n",
            "Average recall score: 98.0 %\n",
            "\n",
            "Average F1-score: 97.3308504034761 %\n",
            "\n",
            "Matthews correlation coefficient: 0.9479363231151119\n",
            "\n",
            "Mean absolute error: 0.026060606060606062\n",
            "\n",
            "Confusion matrix:\n",
            "\n"
          ]
        },
        {
          "output_type": "display_data",
          "data": {
            "text/plain": [
              "<Figure size 432x288 with 2 Axes>"
            ],
            "image/png": "[encoded data removed]"
          },
          "metadata": {
            "needs_background": "light"
          }
        },
        {
          "output_type": "stream",
          "name": "stdout",
          "text": [
            "\n",
            "Classification report:\n",
            "\n",
            "              precision    recall  f1-score   support\n",
            "\n",
            "           0       0.98      0.97      0.97      1700\n",
            "           1       0.97      0.98      0.97      1600\n",
            "\n",
            "    accuracy                           0.97      3300\n",
            "   macro avg       0.97      0.97      0.97      3300\n",
            "weighted avg       0.97      0.97      0.97      3300\n",
            "\n",
            "\n",
            "[#2]\n",
            "\n",
            "* Parameters:\n",
            "\n",
            "- Model: Random Forest Classifier\n",
            "- bootstrap: True\n",
            "- ccp_alpha: 0.0\n",
            "- class_weight: None\n",
            "- criterion: gini\n",
            "- max_depth: None\n",
            "- max_features: auto\n",
            "- max_leaf_nodes: None\n",
            "- max_samples: None\n",
            "- min_impurity_decrease: 0.0\n",
            "- min_samples_leaf: 1\n",
            "- min_samples_split: 2\n",
            "- min_weight_fraction_leaf: 0.0\n",
            "- n_estimators: 125\n",
            "- n_jobs: None\n",
            "- oob_score: False\n",
            "- random_state: None\n",
            "- verbose: 0\n",
            "- warm_start: False\n",
            "\n",
            "Accuracy: 97.3939393939394 %\n",
            "\n",
            "Average precision score: 95.6024725785462 %\n",
            "\n",
            "Average recall score: 98.25 %\n",
            "\n",
            "Average F1-score: 97.33746130030958 %\n",
            "\n",
            "Matthews correlation coefficient: 0.9480164613131116\n",
            "\n",
            "Mean absolute error: 0.026060606060606062\n",
            "\n",
            "Confusion matrix:\n",
            "\n"
          ]
        },
        {
          "output_type": "display_data",
          "data": {
            "text/plain": [
              "<Figure size 432x288 with 2 Axes>"
            ],
            "image/png": "[encoded data removed]"
          },
          "metadata": {
            "needs_background": "light"
          }
        },
        {
          "output_type": "stream",
          "name": "stdout",
          "text": [
            "\n",
            "Classification report:\n",
            "\n",
            "              precision    recall  f1-score   support\n",
            "\n",
            "           0       0.98      0.97      0.97      1700\n",
            "           1       0.96      0.98      0.97      1600\n",
            "\n",
            "    accuracy                           0.97      3300\n",
            "   macro avg       0.97      0.97      0.97      3300\n",
            "weighted avg       0.97      0.97      0.97      3300\n",
            "\n",
            "\n",
            "\n",
            "\t\t=============== Tf-idf ===============\n",
            "\n",
            "[#1]\n",
            "\n",
            "* Parameters:\n",
            "\n",
            "- Model: Random Forest Classifier\n",
            "- bootstrap: True\n",
            "- ccp_alpha: 0.0\n",
            "- class_weight: None\n",
            "- criterion: gini\n",
            "- max_depth: None\n",
            "- max_features: auto\n",
            "- max_leaf_nodes: None\n",
            "- max_samples: None\n",
            "- min_impurity_decrease: 0.0\n",
            "- min_samples_leaf: 1\n",
            "- min_samples_split: 2\n",
            "- min_weight_fraction_leaf: 0.0\n",
            "- n_estimators: 125\n",
            "- n_jobs: None\n",
            "- oob_score: False\n",
            "- random_state: None\n",
            "- verbose: 0\n",
            "- warm_start: False\n",
            "\n",
            "Accuracy: 97.24242424242424 %\n",
            "\n",
            "Average precision score: 94.78759080067219 %\n",
            "\n",
            "Average recall score: 99.5625 %\n",
            "\n",
            "Average F1-score: 97.22306988098872 %\n",
            "\n",
            "Matthews correlation coefficient: 0.9459053445271602\n",
            "\n",
            "Mean absolute error: 0.027575757575757576\n",
            "\n",
            "Confusion matrix:\n",
            "\n"
          ]
        },
        {
          "output_type": "display_data",
          "data": {
            "text/plain": [
              "<Figure size 432x288 with 2 Axes>"
            ],
            "image/png": "[encoded data removed]"
          },
          "metadata": {
            "needs_background": "light"
          }
        },
        {
          "output_type": "stream",
          "name": "stdout",
          "text": [
            "\n",
            "Classification report:\n",
            "\n",
            "              precision    recall  f1-score   support\n",
            "\n",
            "           0       1.00      0.95      0.97      1700\n",
            "           1       0.95      1.00      0.97      1600\n",
            "\n",
            "    accuracy                           0.97      3300\n",
            "   macro avg       0.97      0.97      0.97      3300\n",
            "weighted avg       0.97      0.97      0.97      3300\n",
            "\n",
            "\n",
            "\n",
            "\t\t=============== Word2Vec ===============\n",
            "\n"
          ]
        },
        {
          "output_type": "stream",
          "name": "stderr",
          "text": [
            "/usr/local/lib/python3.7/dist-packages/sklearn/metrics/_classification.py:1318: UndefinedMetricWarning: Precision and F-score are ill-defined and being set to 0.0 in labels with no predicted samples. Use `zero_division` parameter to control this behavior.\n",
            "  _warn_prf(average, modifier, msg_start, len(result))\n",
            "/usr/local/lib/python3.7/dist-packages/sklearn/metrics/_classification.py:1318: UndefinedMetricWarning: Precision and F-score are ill-defined and being set to 0.0 in labels with no predicted samples. Use `zero_division` parameter to control this behavior.\n",
            "  _warn_prf(average, modifier, msg_start, len(result))\n",
            "/usr/local/lib/python3.7/dist-packages/sklearn/metrics/_classification.py:1318: UndefinedMetricWarning: Precision and F-score are ill-defined and being set to 0.0 in labels with no predicted samples. Use `zero_division` parameter to control this behavior.\n",
            "  _warn_prf(average, modifier, msg_start, len(result))\n"
          ]
        },
        {
          "output_type": "stream",
          "name": "stdout",
          "text": [
            "[#1]\n",
            "\n",
            "* Parameters:\n",
            "\n",
            "- Model: Random Forest Classifier\n",
            "- bootstrap: True\n",
            "- ccp_alpha: 0.0\n",
            "- class_weight: None\n",
            "- criterion: gini\n",
            "- max_depth: None\n",
            "- max_features: auto\n",
            "- max_leaf_nodes: None\n",
            "- max_samples: None\n",
            "- min_impurity_decrease: 0.0\n",
            "- min_samples_leaf: 1\n",
            "- min_samples_split: 2\n",
            "- min_weight_fraction_leaf: 0.0\n",
            "- n_estimators: 75\n",
            "- n_jobs: None\n",
            "- oob_score: False\n",
            "- random_state: None\n",
            "- verbose: 0\n",
            "- warm_start: False\n",
            "\n",
            "Accuracy: 51.54545454545455 %\n",
            "\n",
            "Average precision score: 48.50757575757576 %\n",
            "\n",
            "Average recall score: 0.125 %\n",
            "\n",
            "Average F1-score: 0.2495321272613849 %\n",
            "\n",
            "Matthews correlation coefficient: 0.010974075712340955\n",
            "\n",
            "Mean absolute error: 0.48454545454545456\n",
            "\n",
            "Confusion matrix:\n",
            "\n"
          ]
        },
        {
          "output_type": "stream",
          "name": "stderr",
          "text": [
            "/usr/local/lib/python3.7/dist-packages/sklearn/metrics/_classification.py:1318: UndefinedMetricWarning: Precision and F-score are ill-defined and being set to 0.0 in labels with no predicted samples. Use `zero_division` parameter to control this behavior.\n",
            "  _warn_prf(average, modifier, msg_start, len(result))\n",
            "/usr/local/lib/python3.7/dist-packages/sklearn/metrics/_classification.py:1318: UndefinedMetricWarning: Precision and F-score are ill-defined and being set to 0.0 in labels with no predicted samples. Use `zero_division` parameter to control this behavior.\n",
            "  _warn_prf(average, modifier, msg_start, len(result))\n",
            "/usr/local/lib/python3.7/dist-packages/sklearn/metrics/_classification.py:1318: UndefinedMetricWarning: Precision and F-score are ill-defined and being set to 0.0 in labels with no predicted samples. Use `zero_division` parameter to control this behavior.\n",
            "  _warn_prf(average, modifier, msg_start, len(result))\n"
          ]
        },
        {
          "output_type": "display_data",
          "data": {
            "text/plain": [
              "<Figure size 432x288 with 2 Axes>"
            ],
            "image/png": "[encoded data removed]"
          },
          "metadata": {
            "needs_background": "light"
          }
        },
        {
          "output_type": "stream",
          "name": "stdout",
          "text": [
            "\n",
            "Classification report:\n",
            "\n",
            "              precision    recall  f1-score   support\n",
            "\n",
            "           0       0.52      1.00      0.68      1700\n",
            "           1       0.67      0.00      0.00      1600\n",
            "\n",
            "    accuracy                           0.52      3300\n",
            "   macro avg       0.59      0.50      0.34      3300\n",
            "weighted avg       0.59      0.52      0.35      3300\n",
            "\n",
            "\n",
            "\t--------------- K-FOLD ---------------\n",
            "\n",
            "- n_folds: 10\n",
            "\n",
            "\t\t=============== BoW ===============\n",
            "\n",
            "[#1]\n",
            "\n",
            "* Parameters:\n",
            "\n",
            "- Model: Random Forest Classifier\n",
            "- bootstrap: True\n",
            "- ccp_alpha: 0.0\n",
            "- class_weight: None\n",
            "- criterion: gini\n",
            "- max_depth: None\n",
            "- max_features: auto\n",
            "- max_leaf_nodes: None\n",
            "- max_samples: None\n",
            "- min_impurity_decrease: 0.0\n",
            "- min_samples_leaf: 1\n",
            "- min_samples_split: 2\n",
            "- min_weight_fraction_leaf: 0.0\n",
            "- n_estimators: 125\n",
            "- n_jobs: None\n",
            "- oob_score: False\n",
            "- random_state: None\n",
            "- verbose: 0\n",
            "- warm_start: False\n",
            "\n",
            "Accuracy: 97.60909090909091 %\n",
            "\n",
            "Average precision score: 95.93581158906832 %\n",
            "\n",
            "Average recall score: 98.48654708520179 %\n",
            "\n",
            "Average F1-score: 97.56594169366033 %\n",
            "\n",
            "Matthews correlation coefficient: 0.9523314813742632\n",
            "\n",
            "Mean absolute error: 0.023909090909090908\n",
            "\n",
            "Confusion matrix:\n",
            "\n"
          ]
        },
        {
          "output_type": "display_data",
          "data": {
            "text/plain": [
              "<Figure size 432x288 with 2 Axes>"
            ],
            "image/png": "[encoded data removed]"
          },
          "metadata": {
            "needs_background": "light"
          }
        },
        {
          "output_type": "stream",
          "name": "stdout",
          "text": [
            "\n",
            "Classification report:\n",
            "\n",
            "              precision    recall  f1-score   support\n",
            "\n",
            "           0       0.99      0.97      0.98      5648\n",
            "           1       0.97      0.98      0.98      5352\n",
            "\n",
            "    accuracy                           0.98     11000\n",
            "   macro avg       0.98      0.98      0.98     11000\n",
            "weighted avg       0.98      0.98      0.98     11000\n",
            "\n",
            "\n",
            "\n",
            "\t\t=============== Tf-idf ===============\n",
            "\n",
            "[#1]\n",
            "\n",
            "* Parameters:\n",
            "\n",
            "- Model: Random Forest Classifier\n",
            "- bootstrap: True\n",
            "- ccp_alpha: 0.0\n",
            "- class_weight: None\n",
            "- criterion: gini\n",
            "- max_depth: None\n",
            "- max_features: auto\n",
            "- max_leaf_nodes: None\n",
            "- max_samples: None\n",
            "- min_impurity_decrease: 0.0\n",
            "- min_samples_leaf: 1\n",
            "- min_samples_split: 2\n",
            "- min_weight_fraction_leaf: 0.0\n",
            "- n_estimators: 75\n",
            "- n_jobs: None\n",
            "- oob_score: False\n",
            "- random_state: None\n",
            "- verbose: 0\n",
            "- warm_start: False\n",
            "\n",
            "Accuracy: 97.23636363636363 %\n",
            "\n",
            "Average precision score: 94.8948694089757 %\n",
            "\n",
            "Average recall score: 99.30866965620328 %\n",
            "\n",
            "Average F1-score: 97.21968172672398 %\n",
            "\n",
            "Matthews correlation coefficient: 0.9455759297408918\n",
            "\n",
            "Mean absolute error: 0.027636363636363636\n",
            "\n",
            "Confusion matrix:\n",
            "\n"
          ]
        },
        {
          "output_type": "display_data",
          "data": {
            "text/plain": [
              "<Figure size 432x288 with 2 Axes>"
            ],
            "image/png": "[encoded data removed]"
          },
          "metadata": {
            "needs_background": "light"
          }
        },
        {
          "output_type": "stream",
          "name": "stdout",
          "text": [
            "\n",
            "Classification report:\n",
            "\n",
            "              precision    recall  f1-score   support\n",
            "\n",
            "           0       0.99      0.95      0.97      5648\n",
            "           1       0.95      0.99      0.97      5352\n",
            "\n",
            "    accuracy                           0.97     11000\n",
            "   macro avg       0.97      0.97      0.97     11000\n",
            "weighted avg       0.97      0.97      0.97     11000\n",
            "\n",
            "\n",
            "[#2]\n",
            "\n",
            "* Parameters:\n",
            "\n",
            "- Model: Random Forest Classifier\n",
            "- bootstrap: True\n",
            "- ccp_alpha: 0.0\n",
            "- class_weight: None\n",
            "- criterion: gini\n",
            "- max_depth: None\n",
            "- max_features: auto\n",
            "- max_leaf_nodes: None\n",
            "- max_samples: None\n",
            "- min_impurity_decrease: 0.0\n",
            "- min_samples_leaf: 1\n",
            "- min_samples_split: 2\n",
            "- min_weight_fraction_leaf: 0.0\n",
            "- n_estimators: 100\n",
            "- n_jobs: None\n",
            "- oob_score: False\n",
            "- random_state: None\n",
            "- verbose: 0\n",
            "- warm_start: False\n",
            "\n",
            "Accuracy: 97.20909090909092 %\n",
            "\n",
            "Average precision score: 94.82198652742264 %\n",
            "\n",
            "Average recall score: 99.36472346786248 %\n",
            "\n",
            "Average F1-score: 97.19455359590606 %\n",
            "\n",
            "Matthews correlation coefficient: 0.9450985991984127\n",
            "\n",
            "Mean absolute error: 0.027909090909090908\n",
            "\n",
            "Confusion matrix:\n",
            "\n"
          ]
        },
        {
          "output_type": "display_data",
          "data": {
            "text/plain": [
              "<Figure size 432x288 with 2 Axes>"
            ],
            "image/png": "[encoded data removed]"
          },
          "metadata": {
            "needs_background": "light"
          }
        },
        {
          "output_type": "stream",
          "name": "stdout",
          "text": [
            "\n",
            "Classification report:\n",
            "\n",
            "              precision    recall  f1-score   support\n",
            "\n",
            "           0       0.99      0.95      0.97      5648\n",
            "           1       0.95      0.99      0.97      5352\n",
            "\n",
            "    accuracy                           0.97     11000\n",
            "   macro avg       0.97      0.97      0.97     11000\n",
            "weighted avg       0.97      0.97      0.97     11000\n",
            "\n",
            "\n",
            "\n",
            "\t\t=============== Word2Vec ===============\n",
            "\n",
            "[#1]\n",
            "\n",
            "* Parameters:\n",
            "\n",
            "- Model: Random Forest Classifier\n",
            "- bootstrap: True\n",
            "- ccp_alpha: 0.0\n",
            "- class_weight: None\n",
            "- criterion: gini\n",
            "- max_depth: None\n",
            "- max_features: auto\n",
            "- max_leaf_nodes: None\n",
            "- max_samples: None\n",
            "- min_impurity_decrease: 0.0\n",
            "- min_samples_leaf: 1\n",
            "- min_samples_split: 2\n",
            "- min_weight_fraction_leaf: 0.0\n",
            "- n_estimators: 100\n",
            "- n_jobs: None\n",
            "- oob_score: False\n",
            "- random_state: None\n",
            "- verbose: 0\n",
            "- warm_start: False\n",
            "\n",
            "Accuracy: 96.45454545454545 %\n",
            "\n",
            "Average precision score: 93.74058357488234 %\n",
            "\n",
            "Average recall score: 98.56128550074739 %\n",
            "\n",
            "Average F1-score: 96.43510054844607 %\n",
            "\n",
            "Matthews correlation coefficient: 0.9299772149795642\n",
            "\n",
            "Mean absolute error: 0.035454545454545454\n",
            "\n",
            "Confusion matrix:\n",
            "\n"
          ]
        },
        {
          "output_type": "display_data",
          "data": {
            "text/plain": [
              "<Figure size 432x288 with 2 Axes>"
            ],
            "image/png": "[encoded data removed]"
          },
          "metadata": {
            "needs_background": "light"
          }
        },
        {
          "output_type": "stream",
          "name": "stdout",
          "text": [
            "\n",
            "Classification report:\n",
            "\n",
            "              precision    recall  f1-score   support\n",
            "\n",
            "           0       0.99      0.94      0.96      5648\n",
            "           1       0.94      0.99      0.96      5352\n",
            "\n",
            "    accuracy                           0.96     11000\n",
            "   macro avg       0.96      0.97      0.96     11000\n",
            "weighted avg       0.97      0.96      0.96     11000\n",
            "\n",
            "\n",
            "[#2]\n",
            "\n",
            "* Parameters:\n",
            "\n",
            "- Model: Random Forest Classifier\n",
            "- bootstrap: True\n",
            "- ccp_alpha: 0.0\n",
            "- class_weight: None\n",
            "- criterion: gini\n",
            "- max_depth: None\n",
            "- max_features: auto\n",
            "- max_leaf_nodes: None\n",
            "- max_samples: None\n",
            "- min_impurity_decrease: 0.0\n",
            "- min_samples_leaf: 1\n",
            "- min_samples_split: 2\n",
            "- min_weight_fraction_leaf: 0.0\n",
            "- n_estimators: 125\n",
            "- n_jobs: None\n",
            "- oob_score: False\n",
            "- random_state: None\n",
            "- verbose: 0\n",
            "- warm_start: False\n",
            "\n",
            "Accuracy: 96.44545454545454 %\n",
            "\n",
            "Average precision score: 93.6813747540229 %\n",
            "\n",
            "Average recall score: 98.67339312406577 %\n",
            "\n",
            "Average F1-score: 96.43020177120422 %\n",
            "\n",
            "Matthews correlation coefficient: 0.9298967171440534\n",
            "\n",
            "Mean absolute error: 0.03554545454545455\n",
            "\n",
            "Confusion matrix:\n",
            "\n"
          ]
        },
        {
          "output_type": "display_data",
          "data": {
            "text/plain": [
              "<Figure size 432x288 with 2 Axes>"
            ],
            "image/png": "[encoded data removed]"
          },
          "metadata": {
            "needs_background": "light"
          }
        },
        {
          "output_type": "stream",
          "name": "stdout",
          "text": [
            "\n",
            "Classification report:\n",
            "\n",
            "              precision    recall  f1-score   support\n",
            "\n",
            "           0       0.99      0.94      0.96      5648\n",
            "           1       0.94      0.99      0.96      5352\n",
            "\n",
            "    accuracy                           0.96     11000\n",
            "   macro avg       0.96      0.97      0.96     11000\n",
            "weighted avg       0.97      0.96      0.96     11000\n",
            "\n",
            "\n"
          ]
        }
      ],
      "source": [
        "# Executes a series of learnings\n",
        "execute_a_series_of_random_forest_learnings(X=X, Y=Y)"
      ]
    }
  ],
  "metadata": {
    "kernelspec": {
      "display_name": "Python 3 (ipykernel)",
      "language": "python",
      "name": "python3"
    },
    "language_info": {
      "codemirror_mode": {
        "name": "ipython",
        "version": 3
      },
      "file_extension": ".py",
      "mimetype": "text/x-python",
      "name": "python",
      "nbconvert_exporter": "python",
      "pygments_lexer": "ipython3",
      "version": "3.9.7"
    },
    "colab": {
      "name": "Random_Forest.ipynb",
      "provenance": []
    }
  },
  "nbformat": 4,
  "nbformat_minor": 5
}